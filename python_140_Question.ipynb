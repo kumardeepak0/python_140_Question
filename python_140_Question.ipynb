{
 "cells": [
  {
   "cell_type": "markdown",
   "id": "cbd58cae-194c-41c8-be93-6ac6fd8584b9",
   "metadata": {},
   "source": [
    "## Program 1\n",
    "\n",
    "**Write a Python program to print \"Hello Python\".**"
   ]
  },
  {
   "cell_type": "code",
   "execution_count": 1,
   "id": "cda09aa4-a0fc-4a19-b82c-82218312c8b2",
   "metadata": {},
   "outputs": [
    {
     "name": "stdout",
     "output_type": "stream",
     "text": [
      "Hello python\n"
     ]
    }
   ],
   "source": [
    "print('Hello python')"
   ]
  },
  {
   "cell_type": "markdown",
   "id": "95a9291d-d64a-4ca2-a918-c595ae1461a0",
   "metadata": {},
   "source": [
    "## Program 2\n",
    "**Write a Python program to do arithmetical operations addition and division.**"
   ]
  },
  {
   "cell_type": "code",
   "execution_count": 2,
   "id": "a1be96bd-a042-4e41-9ee7-d5c171faf016",
   "metadata": {},
   "outputs": [
    {
     "name": "stdin",
     "output_type": "stream",
     "text": [
      "Enter the value of Num1: 45\n",
      "Enter the value of num2: 56\n"
     ]
    },
    {
     "name": "stdout",
     "output_type": "stream",
     "text": [
      "THe sum of 45 and 56 is 101\n"
     ]
    },
    {
     "name": "stdin",
     "output_type": "stream",
     "text": [
      "Enter the value of num1: 34\n",
      "Enter the value of num2: 34\n"
     ]
    },
    {
     "name": "stdout",
     "output_type": "stream",
     "text": [
      "The division of 34 and 34 is 1.0\n"
     ]
    }
   ],
   "source": [
    "# Addition\n",
    "num1=eval(input('Enter the value of Num1:'))\n",
    "num2=eval(input('Enter the value of num2:'))\n",
    "add=num1+num2\n",
    "print('THe sum of {} and {} is {}'.format(num1,num2,add))\n",
    "\n",
    "#Division\n",
    "num3=eval(input('Enter the value of num1:'))\n",
    "num4=eval(input('Enter the value of num2:'))\n",
    "div=num3/num4\n",
    "print('The division of {} and {} is {}'.format(num3,num4,div))"
   ]
  },
  {
   "cell_type": "markdown",
   "id": "2472dad4-90a0-42bc-911d-8aea91fbc3af",
   "metadata": {},
   "source": [
    "## Program 3\n",
    "**Write a Python program to find the area of a triangle.**"
   ]
  },
  {
   "cell_type": "code",
   "execution_count": 3,
   "id": "aae711cc-ec0b-4b7c-aa90-ca7a7608cfcd",
   "metadata": {},
   "outputs": [
    {
     "name": "stdin",
     "output_type": "stream",
     "text": [
      "Enter the value of base of a trinagle: 45\n",
      "Enter the value of height of a triangle: 55\n"
     ]
    },
    {
     "name": "stdout",
     "output_type": "stream",
     "text": [
      "The area of triangle is 1237.5\n"
     ]
    }
   ],
   "source": [
    "base=eval(input('Enter the value of base of a trinagle:'))\n",
    "height=eval(input('Enter the value of height of a triangle:'))\n",
    "area=0.5*base*height\n",
    "print('The area of triangle is {}'.format(area))"
   ]
  },
  {
   "cell_type": "markdown",
   "id": "27d3e099-c6af-47b5-adf3-dc9d8c7354a8",
   "metadata": {},
   "source": [
    "## Program 4\n",
    "**Write a Python program to swap two variables.**"
   ]
  },
  {
   "cell_type": "code",
   "execution_count": 4,
   "id": "49919fc8-7fba-41b6-b2cd-7c1e1629cdd4",
   "metadata": {},
   "outputs": [
    {
     "name": "stdin",
     "output_type": "stream",
     "text": [
      "Enter the value of a: 45\n",
      "Enter the value of b: 34\n"
     ]
    },
    {
     "name": "stdout",
     "output_type": "stream",
     "text": [
      "the orginal value of a is 45 and b is 34\n",
      "the swipe value of a is 34 and b is 45\n"
     ]
    }
   ],
   "source": [
    "a=eval(input('Enter the value of a:'))\n",
    "b=eval(input('Enter the value of b:'))\n",
    "print('the orginal value of a is {} and b is {}'.format(a,b))\n",
    "res=a\n",
    "a=b\n",
    "b=res\n",
    "print('the swipe value of a is {} and b is {}'.format(a,b))"
   ]
  },
  {
   "cell_type": "markdown",
   "id": "d1376093-237e-4576-a73a-a2363ae31f61",
   "metadata": {},
   "source": [
    "## Program 5\n",
    "**Write a Python program to generate a random number.**"
   ]
  },
  {
   "cell_type": "code",
   "execution_count": 5,
   "id": "45fa83b4-9515-4ea5-86c1-e722be4c1cbb",
   "metadata": {},
   "outputs": [
    {
     "name": "stdout",
     "output_type": "stream",
     "text": [
      "73\n"
     ]
    }
   ],
   "source": [
    "import random \n",
    "a=random.randint(1,100)\n",
    "print(a)"
   ]
  },
  {
   "cell_type": "markdown",
   "id": "43b9e5ad-c25b-46fe-b9c7-4a9dcc266b2f",
   "metadata": {},
   "source": [
    "## Program 6\n",
    "**Write a Python program to convert kilometers to miles.**"
   ]
  },
  {
   "cell_type": "code",
   "execution_count": 6,
   "id": "4d9e91bc-94ab-432d-ac4c-b5776b8882c0",
   "metadata": {},
   "outputs": [
    {
     "name": "stdin",
     "output_type": "stream",
     "text": [
      "Enter the distance in km: 45\n"
     ]
    },
    {
     "name": "stdout",
     "output_type": "stream",
     "text": [
      "The 45 km is 27.961695 in miles\n"
     ]
    }
   ],
   "source": [
    "km=eval(input('Enter the distance in km:'))\n",
    "miles=km*0.621371\n",
    "print('The {} km is {} in miles'.format(km,miles))"
   ]
  },
  {
   "cell_type": "markdown",
   "id": "be50c61b-90b5-44d4-8a67-590b6fa261ce",
   "metadata": {},
   "source": [
    "## Program 7\n",
    "**Write a Python program to convert Celsius to Fahrenheit.**"
   ]
  },
  {
   "cell_type": "code",
   "execution_count": 7,
   "id": "7e6ec7fd-fd60-4b9b-b98c-859c3863d3ee",
   "metadata": {},
   "outputs": [
    {
     "name": "stdin",
     "output_type": "stream",
     "text": [
      "Enter the temperature in celsius: 45\n"
     ]
    },
    {
     "name": "stdout",
     "output_type": "stream",
     "text": [
      "The 45 degree celsius is in 113.0 degree fahreinheit\n"
     ]
    }
   ],
   "source": [
    "celsius=eval(input('Enter the temperature in celsius:'))\n",
    "fah=(celsius*9/5) + 32\n",
    "print('The {} degree celsius is in {} degree fahreinheit'.format(celsius,fah))"
   ]
  },
  {
   "cell_type": "markdown",
   "id": "16f96312-9a52-486e-88b6-e87ddbeb5fd7",
   "metadata": {},
   "source": [
    "## Program 8\n",
    "**Write a Python program to display calendar.**"
   ]
  },
  {
   "cell_type": "code",
   "execution_count": 8,
   "id": "90517227-ec14-4eab-bfa9-35cce1cf586f",
   "metadata": {},
   "outputs": [
    {
     "name": "stdin",
     "output_type": "stream",
     "text": [
      "Enter the Year: 45\n",
      "Enter the month 12\n"
     ]
    },
    {
     "name": "stdout",
     "output_type": "stream",
     "text": [
      "    December 45\n",
      "Mo Tu We Th Fr Sa Su\n",
      "             1  2  3\n",
      " 4  5  6  7  8  9 10\n",
      "11 12 13 14 15 16 17\n",
      "18 19 20 21 22 23 24\n",
      "25 26 27 28 29 30 31\n",
      "\n"
     ]
    }
   ],
   "source": [
    "import calendar\n",
    "year=eval(input('Enter the Year:'))\n",
    "month=eval(input('Enter the month'))\n",
    "cal=calendar.month(year,month)\n",
    "print(cal)"
   ]
  },
  {
   "cell_type": "markdown",
   "id": "1a56a829-95ed-47ed-9de2-028ae9641206",
   "metadata": {},
   "source": [
    "## Program 9\n",
    "**Write a Python program to solve quadratic equation.**"
   ]
  },
  {
   "cell_type": "code",
   "execution_count": 9,
   "id": "d7d48037-2746-42cc-ba61-9536d5b5c6a0",
   "metadata": {},
   "outputs": [
    {
     "name": "stdin",
     "output_type": "stream",
     "text": [
      "Enter the value of a: 33\n",
      "Enter the value of b: 45\n",
      "Enter the value of c: 5\n"
     ]
    },
    {
     "name": "stdout",
     "output_type": "stream",
     "text": [
      "The root1 is -0.12203172115420705\n",
      "The root2 is -1.2416046424821565\n"
     ]
    }
   ],
   "source": [
    "import math\n",
    "a=eval(input('Enter the value of a:'))\n",
    "b=eval(input('Enter the value of b:'))\n",
    "c=eval(input('Enter the value of c:'))\n",
    "\n",
    "d=b**2-(4*a*c)\n",
    "\n",
    "if d>0:\n",
    "    r1=(-b+math.sqrt(d))/(2*a)\n",
    "    r2=(-b-math.sqrt(d))/(2*a)\n",
    "    print('The root1 is {}'.format(r1))\n",
    "    print('The root2 is {}'.format(r2))\n",
    "elif d==0:\n",
    "    r3= -b/2*a\n",
    "    print('The root3 is {}'.format(r3))\n",
    "\n",
    "else:\n",
    "    real=-b/2*a\n",
    "    img=math.sqrt(abs(d))/(2*a)\n",
    "    print(f\"Root 1: {real} + {img}i\")\n",
    "    print(f\"Root 2: {real} - {img}i\")"
   ]
  },
  {
   "cell_type": "markdown",
   "id": "360ed67c-7ccf-4020-b956-0e169842c172",
   "metadata": {},
   "source": [
    "## Program 10\n",
    "**Write a Python program to swap two variables without temp variable.**"
   ]
  },
  {
   "cell_type": "code",
   "execution_count": 10,
   "id": "70e29461-a3cf-47ed-b7a0-857709a10b68",
   "metadata": {},
   "outputs": [
    {
     "name": "stdout",
     "output_type": "stream",
     "text": [
      "After Swapping:\n",
      "a= 50\n",
      "b= 10\n"
     ]
    }
   ],
   "source": [
    "a=10\n",
    "b=50\n",
    "\n",
    "a,b=b,a\n",
    "\n",
    "print('After Swapping:')\n",
    "print('a=',a)\n",
    "print('b=',b)"
   ]
  },
  {
   "cell_type": "markdown",
   "id": "7ca89e9a-bdb1-4c45-a185-45e378a0196f",
   "metadata": {},
   "source": [
    "## Program 11\n",
    "**Write a Python Program to Check if a Number is Positive, Negative or Zero.**"
   ]
  },
  {
   "cell_type": "code",
   "execution_count": 11,
   "id": "5b8c04c8-a2b8-42a3-b550-9ddc46e0513c",
   "metadata": {},
   "outputs": [
    {
     "name": "stdin",
     "output_type": "stream",
     "text": [
      "Enter the value of num: 34\n"
     ]
    },
    {
     "name": "stdout",
     "output_type": "stream",
     "text": [
      "It is a positive number\n"
     ]
    }
   ],
   "source": [
    "num=eval(input('Enter the value of num:'))\n",
    "if num>0:\n",
    "    print('It is a positive number')\n",
    "elif num==0:\n",
    "    print('It is a Zero number.')\n",
    "else:\n",
    "    print('it is a negative number.')\n",
    "    \n",
    "    "
   ]
  },
  {
   "cell_type": "markdown",
   "id": "17eecbe9-e3c5-452d-a50b-83d59eb7b474",
   "metadata": {},
   "source": [
    "## Program 12\n",
    "**Write a Python Program to Check if a Number is Odd or Even.**"
   ]
  },
  {
   "cell_type": "code",
   "execution_count": 12,
   "id": "6f3b9f40-e1bf-44e2-a012-d0432f9d79be",
   "metadata": {},
   "outputs": [
    {
     "name": "stdin",
     "output_type": "stream",
     "text": [
      "Enter the value of num: 56\n"
     ]
    },
    {
     "name": "stdout",
     "output_type": "stream",
     "text": [
      "The number 56 is an even number\n"
     ]
    }
   ],
   "source": [
    "num=eval(input('Enter the value of num:'))\n",
    "if num%2==0:\n",
    "    print('The number {} is an even number'.format(num))\n",
    "else:\n",
    "    print('The number {} is an odd number'.format(num) )"
   ]
  },
  {
   "cell_type": "markdown",
   "id": "4347873b-83c9-4ff6-a186-2faf5bc1014a",
   "metadata": {},
   "source": [
    "## Program 13\n",
    "**Write a Python Program to Check Leap Year.**"
   ]
  },
  {
   "cell_type": "code",
   "execution_count": 13,
   "id": "33c0a6ba-06ed-481f-a144-12ad10f5ed7e",
   "metadata": {},
   "outputs": [
    {
     "name": "stdin",
     "output_type": "stream",
     "text": [
      "Enter the year: 2019\n"
     ]
    },
    {
     "name": "stdout",
     "output_type": "stream",
     "text": [
      "2019 is not a leap year\n"
     ]
    }
   ],
   "source": [
    "year=eval(input('Enter the year:'))\n",
    "\n",
    "if (year%400==0) and (year % 100==0) and (year % 100 !=0):\n",
    "    print('{} is a leap year'.format(year))\n",
    "else:\n",
    "    print('{} is not a leap year'.format(year))\n",
    "    \n",
    "    "
   ]
  },
  {
   "cell_type": "markdown",
   "id": "8cc7362c-5d75-497f-945d-cb53e7dbbe5e",
   "metadata": {},
   "source": [
    "## Program 14\n",
    "**Write a Python Program to Check Prime Number.**"
   ]
  },
  {
   "cell_type": "code",
   "execution_count": 16,
   "id": "c4fa2c01-0edb-4b74-b019-0e59f3ce3640",
   "metadata": {},
   "outputs": [
    {
     "name": "stdin",
     "output_type": "stream",
     "text": [
      "Enter the value of num: 67\n"
     ]
    },
    {
     "name": "stdout",
     "output_type": "stream",
     "text": [
      "Not prime\n"
     ]
    }
   ],
   "source": [
    "c=0\n",
    "num=eval(input('Enter the value of num:'))\n",
    "for i in range(2,num//2):\n",
    "    c +=1\n",
    "if c==0:\n",
    "    print('Prime')\n",
    "else:\n",
    "    print('Not prime')\n"
   ]
  },
  {
   "cell_type": "markdown",
   "id": "45c8b8dc-4636-4df5-92ac-5e8807bb3bc4",
   "metadata": {},
   "source": [
    "## Program 15 ¶\n",
    "**Write a Python Program to Print all Prime Numbers in an Interval of 1-50.**"
   ]
  },
  {
   "cell_type": "code",
   "execution_count": 35,
   "id": "461cf849-2364-4bb4-b996-5dc2a467a042",
   "metadata": {},
   "outputs": [
    {
     "name": "stdout",
     "output_type": "stream",
     "text": [
      "2 3 5 7 11 13 17 19 23 29 31 37 41 43 47 53 59 61 67 71 73 79 83 89 97 101 103 107 109 113 127 131 137 139 149 151 157 163 167 173 179 181 191 193 197 199 211 223 227 229 233 239 241 251 257 263 269 271 277 281 283 293 307 311 313 317 331 337 347 349 353 359 367 373 379 383 389 397 401 409 419 421 431 433 439 443 449 457 461 463 467 479 487 491 499 The total prime number is 95\n"
     ]
    }
   ],
   "source": [
    "count=0\n",
    "lower=1\n",
    "upper=500\n",
    "\n",
    "for num in range(lower,upper+1):\n",
    "    if num>1:\n",
    "        for i in range(2,num):\n",
    "            if (num%i) == 0:\n",
    "               # count=count+1\n",
    "                break\n",
    "        else:\n",
    "            print(num,end=\" \")\n",
    "            count=count+1\n",
    "print('The total prime number is {}'.format(count))"
   ]
  },
  {
   "cell_type": "markdown",
   "id": "7b09201d-2577-4a09-a45c-210ec441c5b6",
   "metadata": {},
   "source": [
    "## Program 16\n",
    "**Write a Python Program to Find the Factorial of a Number.**"
   ]
  },
  {
   "cell_type": "code",
   "execution_count": 39,
   "id": "f2993c42-8d88-4ded-be3b-8cc06c4fb64d",
   "metadata": {},
   "outputs": [
    {
     "name": "stdin",
     "output_type": "stream",
     "text": [
      "Enter the number: 6\n"
     ]
    },
    {
     "name": "stdout",
     "output_type": "stream",
     "text": [
      "The factorial of 6 is 720\n"
     ]
    }
   ],
   "source": [
    "num=eval(input('Enter the number:'))\n",
    "factorial=1\n",
    "if num<=0:\n",
    "    print('Factorial does not exist.')\n",
    "elif num==0:\n",
    "    print('The factorial is 1.')\n",
    "else:\n",
    "    for i in range(1,num+1):\n",
    "        factorial=factorial*i\n",
    "    print('The factorial of {} is {}'.format(num,factorial))"
   ]
  },
  {
   "cell_type": "markdown",
   "id": "34054d9a-c574-4d7e-888c-c4778c4007be",
   "metadata": {},
   "source": [
    "## Program 17\n",
    "**Write a Python Program to Display the multiplication Table.**"
   ]
  },
  {
   "cell_type": "code",
   "execution_count": 40,
   "id": "b5bba0d7-e8ef-4994-81bf-d8200dc12b26",
   "metadata": {},
   "outputs": [
    {
     "name": "stdin",
     "output_type": "stream",
     "text": [
      "Enter the value of num: 34\n"
     ]
    },
    {
     "name": "stdout",
     "output_type": "stream",
     "text": [
      "The multiplication of 34 * 1 is 34\n",
      "The multiplication of 34 * 2 is 68\n",
      "The multiplication of 34 * 3 is 102\n",
      "The multiplication of 34 * 4 is 136\n",
      "The multiplication of 34 * 5 is 170\n",
      "The multiplication of 34 * 6 is 204\n",
      "The multiplication of 34 * 7 is 238\n",
      "The multiplication of 34 * 8 is 272\n",
      "The multiplication of 34 * 9 is 306\n",
      "The multiplication of 34 * 10 is 340\n"
     ]
    }
   ],
   "source": [
    "num=eval(input('Enter the value of num:'))\n",
    "for i in range(1,11):\n",
    "   print(\"The multiplication of {} * {} is {}\".format(num,i,num*i)) "
   ]
  },
  {
   "cell_type": "markdown",
   "id": "ad0f205e-3eae-4d6f-87de-d7c672dfd982",
   "metadata": {},
   "source": [
    "## Program 18\n",
    "**Write a Python Program to Print the Fibonacci sequence.**"
   ]
  },
  {
   "cell_type": "code",
   "execution_count": 43,
   "id": "c305cfd2-894b-4093-bccf-2ff5d1009c35",
   "metadata": {},
   "outputs": [
    {
     "name": "stdout",
     "output_type": "stream",
     "text": [
      "Fibonacci series up to 15 terms:\n",
      "[0, 1, 1, 2, 3, 5, 8, 13, 21, 34, 55, 89, 144, 233, 377]\n"
     ]
    }
   ],
   "source": [
    "def fibonacci(n):\n",
    "    fib_series = [0, 1]  # Initialize the series with the first two Fibonacci numbers\n",
    "    \n",
    "    # Generate Fibonacci sequence up to n terms\n",
    "    while len(fib_series) < n:\n",
    "        fib_series.append(fib_series[-1] + fib_series[-2])\n",
    "    \n",
    "    return fib_series\n",
    "\n",
    "# Example usage: Print Fibonacci series up to 10 terms\n",
    "n_terms = 15\n",
    "print(\"Fibonacci series up to\", n_terms, \"terms:\")\n",
    "print(fibonacci(n_terms))"
   ]
  },
  {
   "cell_type": "markdown",
   "id": "1a396ff0-dd69-4284-b937-db13bb446406",
   "metadata": {},
   "source": [
    "## Program 19\n",
    "**Write a Python Program to Check Armstrong Number?**"
   ]
  },
  {
   "cell_type": "code",
   "execution_count": 1,
   "id": "d100b045-a330-4ba2-b5d0-ee301fb6bffa",
   "metadata": {},
   "outputs": [
    {
     "name": "stdin",
     "output_type": "stream",
     "text": [
      "Enter a number to check if it's an Armstrong number:  9474\n"
     ]
    },
    {
     "name": "stdout",
     "output_type": "stream",
     "text": [
      "9474 is an Armstrong number\n"
     ]
    }
   ],
   "source": [
    "def is_armstrong(number):\n",
    "    # Calculate the number of digits in the given number\n",
    "    num_digits = len(str(number))\n",
    "    \n",
    "    # Initialize sum\n",
    "    sum_of_digits = 0\n",
    "    temp = number\n",
    "    \n",
    "    # Calculate the sum of nth power of each digit\n",
    "    while temp > 0:\n",
    "        digit = temp % 10\n",
    "        sum_of_digits += digit ** num_digits\n",
    "        temp //= 10\n",
    "    \n",
    "    # Check if the number is an Armstrong number\n",
    "    if number == sum_of_digits:\n",
    "        return True\n",
    "    else:\n",
    "        return False\n",
    "\n",
    "# Example usage\n",
    "number = int(input(\"Enter a number to check if it's an Armstrong number: \"))\n",
    "if is_armstrong(number):\n",
    "    print(number, \"is an Armstrong number\")\n",
    "else:\n",
    "    print(number, \"is not an Armstrong number\")\n"
   ]
  },
  {
   "cell_type": "markdown",
   "id": "2d7f81b1-7acc-4146-9c8a-0d898012d78a",
   "metadata": {},
   "source": [
    "## Program 20\n",
    "**Write a Python Program to Find Armstrong Number in an Interva**."
   ]
  },
  {
   "cell_type": "code",
   "execution_count": 1,
   "id": "91bcdad6-0ae3-4c82-85b9-e320107aa6de",
   "metadata": {},
   "outputs": [
    {
     "name": "stdin",
     "output_type": "stream",
     "text": [
      "Enter the lower limit: 10\n",
      "Enter the upper limitL 1000\n"
     ]
    },
    {
     "name": "stdout",
     "output_type": "stream",
     "text": [
      "153\n",
      "370\n",
      "371\n",
      "407\n"
     ]
    }
   ],
   "source": [
    "lower=eval(input('Enter the lower limit:'))\n",
    "upper=eval(input('Enter the upper limitL'))\n",
    "\n",
    "for num in range(lower,upper+1):\n",
    "    order=len(str(num))\n",
    "    temp_num= num\n",
    "    sum=0\n",
    "    while temp_num>0:\n",
    "        digit=temp_num%10\n",
    "        sum+=digit**order\n",
    "        temp_num//=10\n",
    "\n",
    "    if num==sum:\n",
    "        print(num)"
   ]
  },
  {
   "cell_type": "markdown",
   "id": "594aad4c-dc97-4d01-a064-3e9ba2c031bf",
   "metadata": {},
   "source": [
    "## Program 21\n",
    "**Write a Python Program to Find the Sum of Natural Numbers.**"
   ]
  },
  {
   "cell_type": "code",
   "execution_count": 4,
   "id": "f8f3d4a9-9cbb-4570-b899-6ed915f4ad09",
   "metadata": {},
   "outputs": [
    {
     "name": "stdin",
     "output_type": "stream",
     "text": [
      "Enter the total digit number: 50\n"
     ]
    },
    {
     "name": "stdout",
     "output_type": "stream",
     "text": [
      "The sum of natural number upto 50 is 1275\n"
     ]
    }
   ],
   "source": [
    "digit=eval(input('Enter the total digit number:'))\n",
    "sum=0\n",
    "for  i in range(1,digit+1):\n",
    "    sum=sum+i\n",
    "\n",
    "print(\"The sum of natural number upto {} is {}\".format(digit,sum))"
   ]
  },
  {
   "cell_type": "markdown",
   "id": "aca37b0a-9623-413f-ab7b-f8d1eb950671",
   "metadata": {},
   "source": [
    "## Program 22\n",
    "**Write a Python Program to Find LCM.**"
   ]
  },
  {
   "cell_type": "code",
   "execution_count": 5,
   "id": "e3680228-ff13-4b23-bdac-b6fc5aa12b04",
   "metadata": {},
   "outputs": [
    {
     "name": "stdin",
     "output_type": "stream",
     "text": [
      "Enter the first number: 45\n",
      "Enter the second number: 54\n"
     ]
    },
    {
     "name": "stdout",
     "output_type": "stream",
     "text": [
      "The L.C.M is 270\n"
     ]
    }
   ],
   "source": [
    "def lcm(x,y):\n",
    "    if x>y:\n",
    "        grater=x\n",
    "    else:\n",
    "        greater=y\n",
    "    while(True):\n",
    "        if ((greater% x==0)and(greater % y==0)):\n",
    "            lcm=greater\n",
    "            break\n",
    "        greater=greater+1\n",
    "    return lcm\n",
    "num1=int(input(\"Enter the first number:\"))\n",
    "num2=int(input('Enter the second number:'))\n",
    "print(\"The L.C.M is\",lcm(num1,num2))"
   ]
  },
  {
   "cell_type": "markdown",
   "id": "e2e0ead1-285c-4819-96ef-a6405e5ea61a",
   "metadata": {},
   "source": [
    "## Program 23\n",
    "**Write a Python Program to Find HCF.**"
   ]
  },
  {
   "cell_type": "code",
   "execution_count": 6,
   "id": "c72bad95-ff1e-4292-85c8-6d6956df9827",
   "metadata": {},
   "outputs": [
    {
     "name": "stdin",
     "output_type": "stream",
     "text": [
      "Enter the first number: 54\n",
      "Enter the second number: 24\n"
     ]
    },
    {
     "name": "stdout",
     "output_type": "stream",
     "text": [
      "The H.C.F is 6\n"
     ]
    }
   ],
   "source": [
    "def hcf(x,y):\n",
    "    if x>y:\n",
    "        smaller=y\n",
    "    else:\n",
    "        smaller=y\n",
    "    for i in range(1,smaller+1):\n",
    "        if((x%i==0)and (y%i==0)):\n",
    "            hcf=i\n",
    "    return hcf\n",
    "num1=int(input(\"Enter the first number:\"))\n",
    "num2=int(input(\"Enter the second number:\"))\n",
    "\n",
    "print(\"The H.C.F is\",hcf(num1,num2))"
   ]
  },
  {
   "cell_type": "markdown",
   "id": "b25329b9-6623-4a9e-94e2-cd844219cc00",
   "metadata": {},
   "source": [
    "## Program 24\n",
    "**Write a Python Program to Convert Decimal to Binary, Octal and Hexadecimal.**"
   ]
  },
  {
   "cell_type": "code",
   "execution_count": 8,
   "id": "c59e08bc-e216-454a-8ebe-16f6cb33b336",
   "metadata": {},
   "outputs": [
    {
     "name": "stdin",
     "output_type": "stream",
     "text": [
      "Enter the value of number: 27\n"
     ]
    },
    {
     "name": "stdout",
     "output_type": "stream",
     "text": [
      "The decimal value is 27 is:\n",
      "0b11011 in binary.\n",
      "0o33 in octal.\n",
      "0x1b in hexadecimal.\n"
     ]
    }
   ],
   "source": [
    "num=eval(input('Enter the value of number:'))\n",
    "\n",
    "print(\"The decimal value is\",num,\"is:\")\n",
    "\n",
    "print(bin(num),'in binary.')\n",
    "print(oct(num),\"in octal.\")\n",
    "print(hex(num),\"in hexadecimal.\")"
   ]
  },
  {
   "cell_type": "markdown",
   "id": "9c0b6f21-b17e-48da-a904-63a6b3924724",
   "metadata": {},
   "source": [
    "## Program 25\n",
    "**Write a Python Program To Find ASCII value of a character.**"
   ]
  },
  {
   "cell_type": "code",
   "execution_count": 11,
   "id": "c832891c-74bc-41e6-a260-c5d60d1af2f2",
   "metadata": {},
   "outputs": [
    {
     "name": "stdin",
     "output_type": "stream",
     "text": [
      "Enter the character: P\n"
     ]
    },
    {
     "name": "stdout",
     "output_type": "stream",
     "text": [
      "The Ascii value of Pis 80\n"
     ]
    }
   ],
   "source": [
    "character=str(input(\"Enter the character:\"))\n",
    "print(\"The Ascii value of \"+character+\"is\",ord(character) )\n",
    "                  "
   ]
  },
  {
   "cell_type": "markdown",
   "id": "1a3b32b4-2b6a-4877-84f4-7245ca6c2902",
   "metadata": {},
   "source": [
    "## Program 26\n",
    "**Write a Python Program to Make a Simple Calculator with 4 basic mathematical\n",
    "operations.**"
   ]
  },
  {
   "cell_type": "code",
   "execution_count": 31,
   "id": "d9f788e6-5331-4dcd-998a-5efe3ff84e34",
   "metadata": {},
   "outputs": [
    {
     "name": "stdout",
     "output_type": "stream",
     "text": [
      "select operation.\n",
      "1.Add\n",
      "2.SUbstract\n",
      "3.Multiplication\n",
      "4.Division\n"
     ]
    },
    {
     "name": "stdin",
     "output_type": "stream",
     "text": [
      "Enter choice (1/2/3/4): 3\n",
      "Enter the value of x: 23\n",
      "Enter the value of y: 23\n"
     ]
    },
    {
     "name": "stdout",
     "output_type": "stream",
     "text": [
      "23 * 23 = 529\n"
     ]
    },
    {
     "name": "stdin",
     "output_type": "stream",
     "text": [
      "Let's do next calculation ? (yes/No) yes\n",
      "Enter choice (1/2/3/4): 5\n"
     ]
    },
    {
     "name": "stdout",
     "output_type": "stream",
     "text": [
      "Invalid Input\n"
     ]
    },
    {
     "name": "stdin",
     "output_type": "stream",
     "text": [
      "Enter choice (1/2/3/4): 2\n",
      "Enter the value of x: 5000\n",
      "Enter the value of y: 67\n"
     ]
    },
    {
     "name": "stdout",
     "output_type": "stream",
     "text": [
      "5000 - 67 = 4933\n"
     ]
    },
    {
     "name": "stdin",
     "output_type": "stream",
     "text": [
      "Let's do next calculation ? (yes/No) no\n",
      "Enter choice (1/2/3/4): 2\n",
      "Enter the value of x: 34\n",
      "Enter the value of y: 3\n"
     ]
    },
    {
     "name": "stdout",
     "output_type": "stream",
     "text": [
      "34 - 3 = 31\n"
     ]
    },
    {
     "name": "stdin",
     "output_type": "stream",
     "text": [
      "Let's do next calculation ? (yes/No) No\n"
     ]
    }
   ],
   "source": [
    "def add(x,y):\n",
    "    return x+y\n",
    "\n",
    "def sub(x,y):\n",
    "    return x-y\n",
    "\n",
    "def mul(x,y):\n",
    "    return x*y\n",
    "\n",
    "def div(x,y):\n",
    "    return x/y\n",
    "\n",
    "print(\"select operation.\")\n",
    "print(\"1.Add\")\n",
    "print(\"2.SUbstract\")\n",
    "print(\"3.Multiplication\")\n",
    "print(\"4.Division\")\n",
    "while True:\n",
    "    choice=input(\"Enter choice (1/2/3/4):\")\n",
    "\n",
    "    if choice in ('1','2','3','4'):\n",
    "        try:\n",
    "            num1=eval(input('Enter the value of x:'))\n",
    "            num2=eval(input('Enter the value of y:'))\n",
    "        except ValueError:\n",
    "            print('Invalid input, Please Enter a number:')\n",
    "            continue\n",
    "        if choice =='1':\n",
    "            print(num1,'+',num2,'=',add(num1,num2))\n",
    "        elif choice == '2':\n",
    "           print(num1,'-',num2,'=',sub(num1,num2))\n",
    "        elif choice =='3':\n",
    "           print(num1,'*',num2,'=',mul(num1,num2))\n",
    "        elif choice =='4':\n",
    "           print(num1,'/',num2,'=',div(num1,num2))\n",
    "        next_cal=input(\"Let's do next calculation ? (yes/No)\")\n",
    "        if next_cal==\"No\":\n",
    "            break\n",
    "    else:\n",
    "        print('Invalid Input')\n",
    "        \n",
    "            \n"
   ]
  },
  {
   "cell_type": "markdown",
   "id": "b1bbf02f-9399-4f32-ab7d-e968b26cadd7",
   "metadata": {},
   "source": [
    "## Program 27\n",
    "**write a python program to Display Fibonacci Sequence Using Recurssion**"
   ]
  },
  {
   "cell_type": "code",
   "execution_count": null,
   "id": "587fad56-4aa7-48a4-a315-b14132ed7f59",
   "metadata": {},
   "outputs": [
    {
     "name": "stdin",
     "output_type": "stream",
     "text": [
      "Enter the number of terms in the Fibonacci sequence:  90\n"
     ]
    },
    {
     "name": "stdout",
     "output_type": "stream",
     "text": [
      "Fibonacci sequence:\n",
      "0 1 1 2 3 5 8 13 21 34 55 89 144 233 377 610 987 1597 2584 4181 6765 10946 17711 28657 46368 75025 121393 196418 317811 514229 832040 1346269 2178309 3524578 5702887 9227465 14930352 24157817 39088169 63245986 102334155 165580141 267914296 433494437 701408733 1134903170 "
     ]
    }
   ],
   "source": [
    "def fibonacci(n):\n",
    "    if n <= 1:\n",
    "        return n\n",
    "    else:\n",
    "        return fibonacci(n-1) + fibonacci(n-2)\n",
    "\n",
    "def display_fibonacci_sequence(count):\n",
    "    if count <= 0:\n",
    "        print(\"Please enter a positive integer.\")\n",
    "    else:\n",
    "        print(\"Fibonacci sequence:\")\n",
    "        for i in range(count):\n",
    "            print(fibonacci(i), end=\" \")\n",
    "\n",
    "\n",
    "count = int(input(\"Enter the number of terms in the Fibonacci sequence: \"))\n",
    "display_fibonacci_sequence(count)\n"
   ]
  },
  {
   "cell_type": "markdown",
   "id": "302803d4-51fc-4cbb-aa0f-55258b32a358",
   "metadata": {},
   "source": [
    "## program 28\n",
    "**Write a python Program to Find Factorial of number Using Recursion**"
   ]
  },
  {
   "cell_type": "code",
   "execution_count": null,
   "id": "92ef8fe2-38f7-4d19-8c65-d073aaf74a26",
   "metadata": {},
   "outputs": [],
   "source": [
    "def factorial(n):\n",
    "    if n==1:\n",
    "        return 1\n",
    "    else:\n",
    "        return n*factorial(n-1)\n",
    "num=int(input('Enter the number:'))\n",
    "\n",
    "if num<0:\n",
    "    print('Factorial Does not exist.')\n",
    "\n",
    "elif num == 0:\n",
    "    print('Factorial is 1.')\n",
    "else:\n",
    "    print('The factorial of {} is {}'.format(num,factorial(n)))"
   ]
  },
  {
   "cell_type": "markdown",
   "id": "1dddecc8-917e-4c98-9ec7-0ff05604c0e6",
   "metadata": {},
   "source": [
    "## Program 29\n",
    "**Write a python program to calculate your Body mass index**"
   ]
  },
  {
   "cell_type": "code",
   "execution_count": 4,
   "id": "2e464af6-ccb4-4504-aa26-471c6da1cd5f",
   "metadata": {},
   "outputs": [
    {
     "name": "stdin",
     "output_type": "stream",
     "text": [
      "Enter the height in meter: 1.7\n",
      "Enter the weight in kg: 56\n"
     ]
    },
    {
     "name": "stdout",
     "output_type": "stream",
     "text": [
      "Welcome to the bmi calculator:\n",
      "your BMI is: 19.38\n",
      "you are normal weight\n"
     ]
    }
   ],
   "source": [
    "def bodymass(height , weight):\n",
    "    return round((weight / height**2),2)\n",
    "\n",
    "h = eval(input('Enter the height in meter:'))\n",
    "w = eval(input('Enter the weight in kg:'))\n",
    "\n",
    "print('Welcome to the bmi calculator:')\n",
    "bmi=bodymass(h,w)\n",
    "print('your BMI is:',bmi)\n",
    "\n",
    "if bmi<=18.5:\n",
    "    print('you are underweight.')\n",
    "elif 18.5< bmi <=24.9:\n",
    "    print('you are normal weight')\n",
    "elif 25<bmi<29.29:\n",
    "    print('You are overweight.')\n",
    "else:\n",
    "    print('You are obese')"
   ]
  },
  {
   "cell_type": "markdown",
   "id": "d4d0a4fc-7594-44f6-9168-e315df6b3be3",
   "metadata": {},
   "source": [
    "## program 30\n",
    "\n",
    "**Write a python program to caculate the natural logarithm of any number**"
   ]
  },
  {
   "cell_type": "code",
   "execution_count": 8,
   "id": "a7b96095-39c8-45e1-8dda-b176fc03693a",
   "metadata": {},
   "outputs": [
    {
     "name": "stdin",
     "output_type": "stream",
     "text": [
      "Enter a number: 10\n"
     ]
    },
    {
     "name": "stdout",
     "output_type": "stream",
     "text": [
      "the natural algorithm of 10 is 2.302585092994046\n"
     ]
    }
   ],
   "source": [
    "import math\n",
    "num=eval(input(\"Enter a number:\"))\n",
    "\n",
    "if num<=0:\n",
    "    \n",
    "    print('please enter a positive number.')\n",
    "else:\n",
    "    res=math.log(num)\n",
    "    print(\"the natural algorithm of {} is {}\".format(num,res))\n"
   ]
  },
  {
   "cell_type": "markdown",
   "id": "c03da06c-4cec-473a-b2e6-4308b38caad0",
   "metadata": {},
   "source": [
    "## Program 31\n",
    "**Write a python program for cube sum of first n natural number**"
   ]
  },
  {
   "cell_type": "code",
   "execution_count": 10,
   "id": "12fe5871-6031-43c7-80ea-6f650df0fe12",
   "metadata": {},
   "outputs": [
    {
     "name": "stdin",
     "output_type": "stream",
     "text": [
      "Enter the value of n: 10\n"
     ]
    },
    {
     "name": "stdout",
     "output_type": "stream",
     "text": [
      "The cube sum of first 10 is 3025\n"
     ]
    }
   ],
   "source": [
    "def cube(n):\n",
    "    if n<=0:\n",
    "        return 0\n",
    "    else:\n",
    "        total=sum([i**3 for i in range(1,n+1)])\n",
    "        return total\n",
    "\n",
    "n= eval(input(\"Enter the value of n:\"))\n",
    "if n<=0:\n",
    "    print('please enter a positive number.')\n",
    "else:\n",
    "    res=cube(n)\n",
    "    print('The cube sum of first {} is {}'.format(num,res))"
   ]
  },
  {
   "cell_type": "markdown",
   "id": "913e59b4-4b89-47dc-b19c-3f257f2f70bf",
   "metadata": {},
   "source": [
    "## Program 32\n",
    "\n",
    "**Write a python program to find sum of array**"
   ]
  },
  {
   "cell_type": "code",
   "execution_count": 11,
   "id": "a2ff26f2-ff5a-4bd5-a397-3374e5229232",
   "metadata": {},
   "outputs": [
    {
     "name": "stdout",
     "output_type": "stream",
     "text": [
      "Sum of the array is : 6\n"
     ]
    }
   ],
   "source": [
    "arr=[1,2,3]\n",
    "ans=sum(arr)\n",
    "print('Sum of the array is :',ans)"
   ]
  },
  {
   "cell_type": "code",
   "execution_count": 13,
   "id": "ca2b8349-9306-4363-83ed-2bc10fed6333",
   "metadata": {},
   "outputs": [
    {
     "name": "stdout",
     "output_type": "stream",
     "text": [
      "Sum of the array: 21\n"
     ]
    }
   ],
   "source": [
    "def sum_of_array(arr):\n",
    "    total=0\n",
    "\n",
    "    for element in arr:\n",
    "        total +=element\n",
    "\n",
    "    return total\n",
    "\n",
    "array=[1,2,3,4,5,6]\n",
    "res=sum_of_array(array)\n",
    "print(\"Sum of the array:\",res)"
   ]
  },
  {
   "cell_type": "markdown",
   "id": "a3920098-f59d-4c19-9f5b-8524340045c6",
   "metadata": {},
   "source": [
    "## Program 33\n",
    "**Write a python program to find largest element in an array**"
   ]
  },
  {
   "cell_type": "code",
   "execution_count": 1,
   "id": "67b0e4be-e1d9-49a4-866d-a189c2dd4e9b",
   "metadata": {},
   "outputs": [
    {
     "name": "stdout",
     "output_type": "stream",
     "text": [
      "The largest elemnt in the array is 2044359594\n"
     ]
    }
   ],
   "source": [
    "def largest(arr):\n",
    "    if not arr:\n",
    "        return 'Array is empty'\n",
    "\n",
    "    largest_number=arr[0]\n",
    "\n",
    "    for element in arr:\n",
    "        if element>largest_number:\n",
    "            largest_number=element\n",
    "\n",
    "    return largest_number\n",
    "\n",
    "array=[100,230,4444,55550,6754,2044359594]\n",
    "result=largest(array)\n",
    "print('The largest elemnt in the array is {}'.format(result))"
   ]
  },
  {
   "cell_type": "markdown",
   "id": "1f986203-546e-4cfb-be05-436a222dde59",
   "metadata": {},
   "source": [
    "## Program 34\n",
    "**Write a Python Program for array rotation.**"
   ]
  },
  {
   "cell_type": "code",
   "execution_count": 4,
   "id": "d5194d73-0218-4d89-9216-54b103b191b5",
   "metadata": {},
   "outputs": [
    {
     "name": "stdout",
     "output_type": "stream",
     "text": [
      "Original array: [1, 2, 3, 4, 5]\n",
      "Array rotated by 2 steps: [4, 5, 1, 2, 3]\n"
     ]
    }
   ],
   "source": [
    "def rotate_array(arr, k):\n",
    "    \"\"\"\n",
    "    Rotate the array 'arr' to the right by 'k' steps.\n",
    "    \"\"\"\n",
    "    n = len(arr)\n",
    "    k = k % n  # Ensure k is within the range of array length\n",
    "\n",
    "    # Rotate the array using slicing\n",
    "    arr[:] = arr[-k:] + arr[:-k]\n",
    "\n",
    "# Example usage:\n",
    "if __name__ == \"__main__\":\n",
    "    arr = [1, 2, 3, 4, 5]\n",
    "    k = 2\n",
    "    print(\"Original array:\", arr)\n",
    "    rotate_array(arr, k)\n",
    "    print(\"Array rotated by\", k, \"steps:\", arr)\n"
   ]
  },
  {
   "cell_type": "code",
   "execution_count": 24,
   "id": "1f236e0b-a9e8-4b04-8d6b-8cb38b9e15a2",
   "metadata": {},
   "outputs": [
    {
     "name": "stdout",
     "output_type": "stream",
     "text": [
      "The original array is: [4575, 7348734658, 32778348, 7273, 28724, 28, 23, 211, 345, 343, 4312, 23432]\n",
      "Tehe rotated array by 3 steps: [343, 4312, 23432, 4575, 7348734658, 32778348, 7273, 28724, 28, 23, 211, 345]\n"
     ]
    }
   ],
   "source": [
    "def rotate(arr,k):\n",
    "    n=len(arr)\n",
    "    k=k%n\n",
    "\n",
    "    arr[:]=arr[-k:]+arr[:-k]\n",
    "\n",
    "if __name__==\"__main__\":\n",
    "    arr=[4575,7348734658,32778348,7273,28724,28,23,211,345,343,4312,23432]\n",
    "    k=3\n",
    "    print('The original array is:',arr)\n",
    "    rotate(arr,k)\n",
    "    print('Tehe rotated array by',k,'steps:',arr)\n",
    "\n"
   ]
  },
  {
   "cell_type": "markdown",
   "id": "8524cfce-2328-4a7c-9045-0d961295783a",
   "metadata": {},
   "source": [
    "## Program 35\n",
    "**Write a Python Program to Split the array and add the first part to the end?**"
   ]
  },
  {
   "cell_type": "code",
   "execution_count": 27,
   "id": "49b4a06b-38d0-4aef-9b24-96086c932daa",
   "metadata": {},
   "outputs": [
    {
     "name": "stdout",
     "output_type": "stream",
     "text": [
      "Original Array is [1, 2, 3, 4, 5, 6, 7, 8, 9]\n",
      "The split and add array is 2044359594\n"
     ]
    }
   ],
   "source": [
    "def split(arr,k):\n",
    "    if k<=0 or k>=len(arr):\n",
    "        return arr\n",
    "\n",
    "    first=arr[:k]\n",
    "    second=arr[k:]\n",
    "    res=second+first\n",
    "    return result\n",
    "\n",
    "arr=[1,2,3,4,5,6,7,8,9]\n",
    "k=4\n",
    "res=split(arr,k)\n",
    "print('Original Array is',arr)\n",
    "print(\"The split and add array is\",res)"
   ]
  },
  {
   "cell_type": "markdown",
   "id": "a3173232-2e62-4f83-be80-2df2c3b9ca2d",
   "metadata": {},
   "source": [
    "## Program 36\n",
    "**Write a Python program to check if given array is monotonic**"
   ]
  },
  {
   "cell_type": "code",
   "execution_count": 29,
   "id": "578e5ae1-31c7-457a-b38a-7e9c3faec0e3",
   "metadata": {},
   "outputs": [
    {
     "name": "stdout",
     "output_type": "stream",
     "text": [
      "arr1 is monotic: False\n",
      "arr2 is monotic: False\n",
      "arr3 is monotic: True\n"
     ]
    }
   ],
   "source": [
    "def monotonic(arr):\n",
    "    increasing=decreasing=True\n",
    "\n",
    "    for i in range(1,len(arr)):\n",
    "        if arr[i]>arr[i-1]:\n",
    "            decreasing = False\n",
    "        elif arr[i]<arr[i-1]:\n",
    "            increasing = False\n",
    "    return increasing or decreasing\n",
    "\n",
    "\n",
    "arr1=[1,2,2,3,3,44,5]\n",
    "arr2=[4,5,9,1,2,3]\n",
    "arr3=[3,2,1]\n",
    "\n",
    "print('arr1 is monotic:',monotonic(arr1))\n",
    "print('arr2 is monotic:',monotonic(arr2))\n",
    "print('arr3 is monotic:',monotonic(arr3))"
   ]
  },
  {
   "cell_type": "markdown",
   "id": "6e483505-6eae-4e00-bd3e-99c69c78425f",
   "metadata": {},
   "source": [
    "## program 37\n",
    "**Write a python program to add two metrices**"
   ]
  },
  {
   "cell_type": "code",
   "execution_count": 32,
   "id": "c563c7be-89e7-4348-b2c8-8d2632ef0a2e",
   "metadata": {},
   "outputs": [
    {
     "name": "stdout",
     "output_type": "stream",
     "text": [
      "Sum of metrices:\n",
      "[10, 10, 10]\n",
      "[10, 10, 10]\n",
      "[10, 10, 10]\n"
     ]
    }
   ],
   "source": [
    "def add_metrices(mat1,mat2):\n",
    "    if len(mat1)!=len(mat2) or len(mat1[0])!=len(mat2[0]):\n",
    "        return 'metrices must have same shape and size for addition'\n",
    "\n",
    "    result=[]\n",
    "    for i in range(len(mat1)):\n",
    "        row=[]\n",
    "        for j in range(len(mat1[0])):\n",
    "            row.append(mat1[i][j]+mat2[i][j])\n",
    "        result.append(row)\n",
    "\n",
    "    return result\n",
    "\n",
    "matrix1=[\n",
    "    [1,2,3],\n",
    "    [4,5,6],\n",
    "    [7,8,9]\n",
    "]\n",
    "\n",
    "matrix2=[\n",
    "    [9,8,7],\n",
    "    [6,5,4],\n",
    "    [3,2,1]\n",
    "]\n",
    "\n",
    "result_matrix=add_metrices(matrix1,matrix2)\n",
    "\n",
    "if isinstance(result_matrix,str):\n",
    "    print(result_metrices)\n",
    "\n",
    "else:\n",
    "    print(\"Sum of metrices:\")\n",
    "    for row in result_matrix:\n",
    "        print(row)"
   ]
  },
  {
   "cell_type": "markdown",
   "id": "462522bc-01ad-46bd-a322-218f56908415",
   "metadata": {},
   "source": [
    "## program 38\n",
    "**Write a python program to multiply two metrices**"
   ]
  },
  {
   "cell_type": "code",
   "execution_count": 39,
   "id": "8ae5002f-cda7-4bae-91c1-860aa7bba8fd",
   "metadata": {},
   "outputs": [
    {
     "name": "stdout",
     "output_type": "stream",
     "text": [
      "Result of matrix multiplication:\n",
      "[58, 64]\n",
      "[139, 154]\n"
     ]
    }
   ],
   "source": [
    "def multiply_matrices(mat1,mat2):\n",
    "    rows1=len(mat1)\n",
    "    cols1=len(mat1[0])\n",
    "    rows2=len(mat2)\n",
    "    cols2=len(mat2[0])\n",
    "\n",
    "    if cols1 != rows2:\n",
    "        return \"Matrix multiplication is not possible.\"\n",
    "    result = [[0 for _ in range(cols2)] for _ in range(rows1)]\n",
    "\n",
    "    for i in range(rows1):\n",
    "        for j in range(cols2):\n",
    "            for k in range (cols1):\n",
    "                result[i][j] +=mat1[i][k] * mat2[k][j]\n",
    "\n",
    "    return result\n",
    "matrix1 = [[1,2,3],\n",
    "           [4,5,6]]\n",
    "\n",
    "matrix2=[[7,8],\n",
    "         [9,10],\n",
    "         [11,12]]\n",
    "\n",
    "result_matrix = multiply_matrices(matrix1,matrix2)\n",
    "\n",
    "if isinstance(result_matrix,str):\n",
    "    print(result_matrix)\n",
    "else:\n",
    "    print(\"Result of matrix multiplication:\")\n",
    "    for row in result_matrix:\n",
    "        print(row)\n",
    "    "
   ]
  },
  {
   "cell_type": "markdown",
   "id": "2fd93231-7378-4979-aa21-2c1a612ec1f6",
   "metadata": {},
   "source": [
    "## program 39\n",
    "**Write a python program to Transpose a Matrix**"
   ]
  },
  {
   "cell_type": "code",
   "execution_count": 44,
   "id": "6a3cc2e3-76d9-4544-ab2e-8995e10e2f50",
   "metadata": {},
   "outputs": [
    {
     "name": "stdout",
     "output_type": "stream",
     "text": [
      "[1, 4]\n",
      "[2, 5]\n",
      "[3, 6]\n"
     ]
    }
   ],
   "source": [
    "def transpose_matrices(matrix):\n",
    "    rows,cols = len(matrix),len(matrix[0])\n",
    "\n",
    "    result = [[0 for _ in range(rows)] for _ in range(cols)]\n",
    "\n",
    "    for i in range(rows):\n",
    "        for j in range(cols):\n",
    "            result[j][i] = matrix[i][j]\n",
    "    return result\n",
    "\n",
    "matrix=[\n",
    "    [1,2,3],\n",
    "    [4,5,6]\n",
    "    \n",
    "]\n",
    "\n",
    "transpose_matrix=transpose_matrices(matrix)\n",
    "\n",
    "for row in transpose_matrix:\n",
    "    print(row)"
   ]
  },
  {
   "cell_type": "markdown",
   "id": "ca11d845-eca2-4f95-a149-bcbe68f7cde9",
   "metadata": {},
   "source": [
    "## program 40\n",
    "**Write a python Program to sort words in Alphabetic Order**"
   ]
  },
  {
   "cell_type": "code",
   "execution_count": 49,
   "id": "842edf85-3720-46a3-89a8-f3b593d68327",
   "metadata": {},
   "outputs": [
    {
     "name": "stdin",
     "output_type": "stream",
     "text": [
      "Enter a string:  ramesh suresh mahesh rajua nisha \n"
     ]
    },
    {
     "name": "stdout",
     "output_type": "stream",
     "text": [
      "The sorted words are:\n",
      "Mahesh\n",
      "Nisha\n",
      "Rajua\n",
      "Ramesh\n",
      "Suresh\n"
     ]
    }
   ],
   "source": [
    "my_str = input(\"Enter a string: \")\n",
    "\n",
    "words=[word.capitalize() for word in my_str.split()]\n",
    "\n",
    "words.sort()\n",
    "\n",
    "print(\"The sorted words are:\")\n",
    "for words in words:\n",
    "    print(words)"
   ]
  },
  {
   "cell_type": "markdown",
   "id": "b0b5dc5d-796e-45ce-806d-b8ecdf1345b7",
   "metadata": {},
   "source": [
    "## Program 41\n",
    "\n",
    "**Write a python program to Remove Punctuation From a String**"
   ]
  },
  {
   "cell_type": "code",
   "execution_count": 57,
   "id": "e3c12cb0-0705-4dec-bde3-72f65519db78",
   "metadata": {},
   "outputs": [
    {
     "name": "stdin",
     "output_type": "stream",
     "text": [
      "Enter a string: @#$Deepak heeloo Good morning How !###$ How Are you &#@Y^\n"
     ]
    },
    {
     "name": "stdout",
     "output_type": "stream",
     "text": [
      "Deepak heeloo Good morning How  How Are you Y\n"
     ]
    }
   ],
   "source": [
    "punctuations='!\"#$%&\\'()*+,-./:;<=>?@[\\\\]^_`{|}~'\n",
    "my_str=input(\"Enter a string:\")\n",
    "\n",
    "no_punct = \"\"\n",
    "for char in my_str:\n",
    "    if char not in punctuations:\n",
    "        no_punct=no_punct+char\n",
    "\n",
    "print(no_punct)\n"
   ]
  },
  {
   "cell_type": "markdown",
   "id": "dfc01e88-340d-43a2-ba2a-cba0a3a62d8a",
   "metadata": {},
   "source": [
    "## Program 43\n",
    "**Write a python program to check if the given number is Disarium Number .**"
   ]
  },
  {
   "cell_type": "code",
   "execution_count": 64,
   "id": "fac0fa62-f476-44ac-8cbb-d1674b4ebc61",
   "metadata": {},
   "outputs": [
    {
     "name": "stdin",
     "output_type": "stream",
     "text": [
      "Enter a number: 89\n"
     ]
    },
    {
     "name": "stdout",
     "output_type": "stream",
     "text": [
      "89 is a Disarium number.\n"
     ]
    }
   ],
   "source": [
    "def is_disarium(number):\n",
    "    num_str = str(number)\n",
    "\n",
    "    digit_sum=sum(int(i) ** (index+1) for index, i in enumerate(num_str))\n",
    "    return digit_sum == number\n",
    "\n",
    "try:\n",
    "    num = int(input(\"Enter a number:\"))\n",
    "    if is_disarium(num):\n",
    "        print(f\"{num} is a Disarium number.\")\n",
    "    else:\n",
    "        print(f\"{num} is not a Disarium number.\")\n",
    "except ValueError:\n",
    "    print(\"Invalid input. please enter a valid number\")"
   ]
  },
  {
   "cell_type": "markdown",
   "id": "1c653e19-9fc8-4208-aa51-e15963a123e5",
   "metadata": {},
   "source": [
    "## Program 44\n",
    "**Write a python program to check all Diarium number between 1 to 100**"
   ]
  },
  {
   "cell_type": "code",
   "execution_count": 65,
   "id": "0eb730cd-b749-4889-80e2-7d2f1f393534",
   "metadata": {},
   "outputs": [
    {
     "name": "stdout",
     "output_type": "stream",
     "text": [
      "Disarium numbers between 1 and 100:\n",
      "1||2||3||4||5||6||7||8||9||89||"
     ]
    }
   ],
   "source": [
    "def is_disarium(num):\n",
    "    num_str=str(num)\n",
    "    digit_sum=sum(int(i) ** (index+1) for index,i in enumerate(num_str))\n",
    "    return num == digit_sum\n",
    "\n",
    "disarium_numbers = [num for num in range(1,101) if is_disarium(num)]\n",
    "\n",
    "print(\"Disarium numbers between 1 and 100:\")\n",
    "for num in disarium_numbers:\n",
    "    print(num,end='||')"
   ]
  },
  {
   "cell_type": "markdown",
   "id": "901e90e9-0116-4d50-8e0a-990c07060473",
   "metadata": {},
   "source": [
    "## Program 45\n",
    "**Write a python Program to check if the given number is Happy Number**"
   ]
  },
  {
   "cell_type": "code",
   "execution_count": 71,
   "id": "3efdc6ba-36e4-45ca-b239-d7f0adcf9ca7",
   "metadata": {},
   "outputs": [
    {
     "name": "stdin",
     "output_type": "stream",
     "text": [
      "Enter the value of number: 32\n"
     ]
    },
    {
     "name": "stdout",
     "output_type": "stream",
     "text": [
      "32 is a happy number\n"
     ]
    }
   ],
   "source": [
    "def is_happy_number(num):\n",
    "    seen=set()\n",
    "\n",
    "    while num!=1 and num not in seen:\n",
    "        seen.add(num)\n",
    "        num=sum(int(i) ** 2 for i in str(num))\n",
    "\n",
    "    return num==1\n",
    "\n",
    "num=eval(input('Enter the value of number:'))\n",
    "if is_happy_number(num):\n",
    "    print(\"{} is a happy number\".format(num))\n",
    "else:\n",
    "    print(\"{} is not a Happy number.\".format(num))"
   ]
  },
  {
   "cell_type": "markdown",
   "id": "06139aee-e979-4564-ba8c-98a8349f7f6e",
   "metadata": {},
   "source": [
    "## Program 46\n",
    "**Write a python program to print all happy numbers between 1 to 100**"
   ]
  },
  {
   "cell_type": "code",
   "execution_count": 72,
   "id": "da2ce6b8-ebb6-4fbe-8c1f-3b37785701e8",
   "metadata": {},
   "outputs": [
    {
     "name": "stdout",
     "output_type": "stream",
     "text": [
      "Happy number between 1 to 100:\n",
      "[1, 7, 10, 13, 19, 23, 28, 31, 32, 44, 49, 68, 70, 79, 82, 86, 91, 94, 97, 100]\n"
     ]
    }
   ],
   "source": [
    "def is_happy_number(num):\n",
    "    seen=set()\n",
    "\n",
    "    while num !=1 and num not in seen:\n",
    "        seen.add(num)\n",
    "        num=sum(int(i) ** 2 for i in str(num))\n",
    "\n",
    "    return num==1\n",
    "\n",
    "happy_numbers=[]\n",
    "for num in range(1,101):\n",
    "    if is_happy_number(num):\n",
    "        happy_numbers.append(num)\n",
    "print('Happy number between 1 to 100:')\n",
    "print(happy_numbers)"
   ]
  },
  {
   "cell_type": "markdown",
   "id": "f69f3774-baeb-4384-9fee-2b2c7ba8df1f",
   "metadata": {},
   "source": [
    "## Program 47\n",
    "**Write a Python program to determine whether the given number is a Harshad\n",
    "Number.**"
   ]
  },
  {
   "cell_type": "code",
   "execution_count": 3,
   "id": "af74c832-f0af-4a59-8d8a-87b6cd1b8f8b",
   "metadata": {},
   "outputs": [
    {
     "name": "stdin",
     "output_type": "stream",
     "text": [
      "Enter the number: 234\n"
     ]
    },
    {
     "name": "stdout",
     "output_type": "stream",
     "text": [
      "The 234 is harshad number\n"
     ]
    }
   ],
   "source": [
    "def is_harshad_number(num):\n",
    "    digit_sum = sum(int(i) for i in str(num))\n",
    "\n",
    "    return num%digit_sum ==0\n",
    "num=eval(input(\"Enter the number:\"))\n",
    "\n",
    "if is_harshad_number(num):\n",
    "    print(\"The {} is harshad number\".format(num))\n",
    "else:\n",
    "    print('The {} is not a harshad number'.format(num))"
   ]
  },
  {
   "cell_type": "markdown",
   "id": "26e0aea3-a966-4014-aa94-065bde976c1a",
   "metadata": {},
   "source": [
    "## Program 48\n",
    "**Write a Python program to print all pronic numbers between 1 and 100.**"
   ]
  },
  {
   "cell_type": "code",
   "execution_count": 6,
   "id": "05ca5e21-51bc-49fe-93d9-b2b217ae1018",
   "metadata": {},
   "outputs": [
    {
     "name": "stdout",
     "output_type": "stream",
     "text": [
      "Protonic numbers between 1 to 100 are:\n",
      "2 | 6 | 12 | 20 | 30 | 42 | 56 | 72 | 90 | "
     ]
    }
   ],
   "source": [
    "def pronic_number(num):\n",
    "    for n in range(1,int(num**0.5)+1):\n",
    "        if n*(n+1) == num:\n",
    "            return True\n",
    "    return False\n",
    "\n",
    "print(\"Protonic numbers between 1 to 100 are:\")\n",
    "for i in range(1,101):\n",
    "     if pronic_number(i):\n",
    "         print(i,end=' | ')"
   ]
  },
  {
   "cell_type": "markdown",
   "id": "d501a234-a35d-401e-90ad-9a5d65e09c8c",
   "metadata": {},
   "source": [
    "## Program 49\n",
    "**Write a python program to find sum of element in a list**"
   ]
  },
  {
   "cell_type": "code",
   "execution_count": 7,
   "id": "f14f7757-2190-4efd-82a3-bd75a5ac7c84",
   "metadata": {},
   "outputs": [
    {
     "name": "stdout",
     "output_type": "stream",
     "text": [
      "The sum of all the element in a list is 1200\n"
     ]
    }
   ],
   "source": [
    "l1=[100,200,340,560]\n",
    "sum=0\n",
    "for i in l1:\n",
    "    sum=sum+i\n",
    "\n",
    "print(\"The sum of all the element in a list is {}\".format(sum))"
   ]
  },
  {
   "cell_type": "markdown",
   "id": "6865c335-0004-475d-8ee4-48156efa3034",
   "metadata": {},
   "source": [
    "## Program 50\n",
    "**Write a Python program to Multiply all numbers in the list.**"
   ]
  },
  {
   "cell_type": "code",
   "execution_count": 9,
   "id": "344e2352-27d6-4f5d-abb3-d95ce582a6f6",
   "metadata": {},
   "outputs": [
    {
     "name": "stdout",
     "output_type": "stream",
     "text": [
      "The product of all number is a list is 30000\n"
     ]
    }
   ],
   "source": [
    "l1=[10,20,30,5]\n",
    "product=1\n",
    "\n",
    "for i in l1:\n",
    "    product*=i\n",
    "\n",
    "print(\"The product of all number is a list is {}\".format(product))"
   ]
  },
  {
   "cell_type": "markdown",
   "id": "e7a9e4ab-5012-4f9e-80e4-0088d1ae485a",
   "metadata": {},
   "source": [
    "## Program 51\n",
    "**Write a Python program to find smallest number in a list.**"
   ]
  },
  {
   "cell_type": "code",
   "execution_count": 12,
   "id": "66d09d9a-ee12-43a2-ad27-10a764899e37",
   "metadata": {},
   "outputs": [
    {
     "name": "stdout",
     "output_type": "stream",
     "text": [
      "The minnimum number is -3\n"
     ]
    }
   ],
   "source": [
    "l1=[10,20,30,5,45,6,2,1,3,0,-3]\n",
    "\n",
    "minnimum = l1[0]\n",
    "\n",
    "for i in l1:\n",
    "    if i < minnimum:\n",
    "        minnimum=i\n",
    "\n",
    "print('The minnimum number is {}'.format(minnimum))\n",
    "    "
   ]
  },
  {
   "cell_type": "markdown",
   "id": "db868663-1387-411d-b8d1-be5c423e1f53",
   "metadata": {},
   "source": [
    "## Program 52\n",
    "**Write a Python program to find largest number in a list.**"
   ]
  },
  {
   "cell_type": "code",
   "execution_count": 13,
   "id": "4a2283f0-89f8-4ee7-983f-db287d379d47",
   "metadata": {},
   "outputs": [
    {
     "name": "stdout",
     "output_type": "stream",
     "text": [
      "The maximim number is 45 \n"
     ]
    }
   ],
   "source": [
    "l1=[10,20,30,5,45,6,2,1,3,0,-3]\n",
    "\n",
    "maximum=l1[0]\n",
    "\n",
    "for i in l1:\n",
    "    if i>maximum:\n",
    "        maximum=i\n",
    "\n",
    "print('The maximim number is {} '.format(maximum))"
   ]
  },
  {
   "cell_type": "markdown",
   "id": "5d4b65fc-37f1-4396-9284-50d84e66608b",
   "metadata": {},
   "source": [
    "## Program 53\n",
    "**Write a Python program to find second largest number in a list.**"
   ]
  },
  {
   "cell_type": "code",
   "execution_count": 16,
   "id": "169dbbd4-018c-40cd-ab3f-9708408bcccd",
   "metadata": {},
   "outputs": [
    {
     "name": "stdout",
     "output_type": "stream",
     "text": [
      "The second largest number in the list is 30:\n"
     ]
    }
   ],
   "source": [
    "l1=[10,20,30,5,45,6,2,1,3,0,-3]\n",
    "l1.sort(reverse=True)\n",
    "\n",
    "if len(l1)>=2:\n",
    "    second_largest = l1[1]\n",
    "    print('The second largest number in the list is {}:'.format(second_largest))\n",
    "\n",
    "else:\n",
    "    ('The list doesnot contain the second largest number')\n"
   ]
  },
  {
   "cell_type": "markdown",
   "id": "d72e0344-c08b-45e5-b5a2-98e61c395ced",
   "metadata": {},
   "source": [
    "## Program 54\n",
    "**Write a Python program to find N largest elements from a list.**"
   ]
  },
  {
   "cell_type": "code",
   "execution_count": 17,
   "id": "478288bc-d2e0-4013-8171-afaea30baad7",
   "metadata": {},
   "outputs": [
    {
     "name": "stdin",
     "output_type": "stream",
     "text": [
      "N= 4\n"
     ]
    },
    {
     "name": "stdout",
     "output_type": "stream",
     "text": [
      "The largest element in the is 4 [76847567, 345, 100, 98]\n"
     ]
    }
   ],
   "source": [
    "def find_n_largest(list1,n):\n",
    "    sorted_list1=sorted(list1,reverse=True)\n",
    "\n",
    "    largest_elements = sorted_list1[:n]\n",
    "\n",
    "    return largest_elements\n",
    "numbers = [30, 10, 45, 5, 20, 50, 15, 3, 345, 54, 67, 87, 98, 100, 34,76847567,]\n",
    "N=int(input(\"N=\"))\n",
    "\n",
    "result = find_n_largest(numbers,N)\n",
    "\n",
    "\n",
    "print(\"The largest element in the is {}\".format(N),result)"
   ]
  },
  {
   "cell_type": "markdown",
   "id": "2598c33b-e035-4720-b493-d7253a1c0c6d",
   "metadata": {},
   "source": [
    "## Program 55\n",
    "**Write a Python program to print even numbers in a list.**"
   ]
  },
  {
   "cell_type": "code",
   "execution_count": 18,
   "id": "8cdbc318-40e6-48ba-ac2e-db35580f25ba",
   "metadata": {},
   "outputs": [
    {
     "name": "stdout",
     "output_type": "stream",
     "text": [
      "Even number is list are [2, 4, 6, 8, 10]\n"
     ]
    }
   ],
   "source": [
    "numbers = [1, 2, 3, 4, 5, 6, 7, 8, 9, 10]\n",
    "\n",
    "even=[num for num in numbers if num%2==0]\n",
    "\n",
    "print(\"Even number is list are\",even)"
   ]
  },
  {
   "cell_type": "markdown",
   "id": "650c627b-aef0-493e-888a-7e75125b75d3",
   "metadata": {},
   "source": [
    "## Program 56\n",
    "**Write a Python program to print odd numbers in a List.**"
   ]
  },
  {
   "cell_type": "code",
   "execution_count": 19,
   "id": "08867daa-1b97-4e1c-b17b-af73217847c0",
   "metadata": {},
   "outputs": [
    {
     "name": "stdout",
     "output_type": "stream",
     "text": [
      "Even number is list are [1, 3, 5, 7, 9]\n"
     ]
    }
   ],
   "source": [
    "numbers = [1, 2, 3, 4, 5, 6, 7, 8, 9, 10]\n",
    "\n",
    "odd=[num for num in numbers if num%2!=0]\n",
    "\n",
    "print(\"Even number is list are\",odd)"
   ]
  },
  {
   "cell_type": "markdown",
   "id": "fea60d1d-f99b-4c35-8260-97ab30066048",
   "metadata": {},
   "source": [
    "## Program 57\n",
    "**Write a Python program to Remove empty List from List.**"
   ]
  },
  {
   "cell_type": "code",
   "execution_count": 20,
   "id": "40f7aba1-13d6-41ff-97f5-c9c13ce67a4b",
   "metadata": {},
   "outputs": [
    {
     "name": "stdout",
     "output_type": "stream",
     "text": [
      "List after removing empty lists: [[1, 2, 3], [4, 5], [6, 7, 8]]\n"
     ]
    }
   ],
   "source": [
    "list_of_lists = [[1, 2, 3], [], [4, 5], [], [6, 7, 8], []]\n",
    "filter=[i for i in list_of_lists if i]\n",
    "\n",
    "print('List after removing empty lists:',filter)"
   ]
  },
  {
   "cell_type": "markdown",
   "id": "3effdb25-dd12-4a44-904a-9182fde2f14b",
   "metadata": {},
   "source": [
    "## Program 58\n",
    "**Write a Python program to Cloning or Copying a list.**"
   ]
  },
  {
   "cell_type": "code",
   "execution_count": 23,
   "id": "e6bc5d41-e7fd-49bb-9691-2b9df469910f",
   "metadata": {},
   "outputs": [
    {
     "name": "stdout",
     "output_type": "stream",
     "text": [
      "[1, 2, 3, 4, 5]\n"
     ]
    }
   ],
   "source": [
    "or_list=[1,2,3,4,5]\n",
    "clone_list=or_list[:]\n",
    "print(clone_list)"
   ]
  },
  {
   "cell_type": "code",
   "execution_count": 24,
   "id": "b1192f1f-aa46-4f42-87d1-d6b761b1bcb8",
   "metadata": {},
   "outputs": [
    {
     "name": "stdout",
     "output_type": "stream",
     "text": [
      "[1, 2, 3, 4, 5]\n"
     ]
    }
   ],
   "source": [
    "or_list=[1,2,3,4,5]\n",
    "clone_list=list(or_list)\n",
    "print(clone_list)"
   ]
  },
  {
   "cell_type": "code",
   "execution_count": 25,
   "id": "8fd57860-10fb-442f-8b68-b2a038c51e2e",
   "metadata": {},
   "outputs": [
    {
     "name": "stdout",
     "output_type": "stream",
     "text": [
      "[1, 2, 3, 4, 5]\n"
     ]
    }
   ],
   "source": [
    "or_list=[1,2,3,4,5]\n",
    "clone_list=[item for item in or_list]\n",
    "print(clone_list)"
   ]
  },
  {
   "cell_type": "markdown",
   "id": "c76b58bb-1801-45d2-8e3e-5219d05a53b4",
   "metadata": {},
   "source": [
    "## Program 59\n",
    "**Write a Python program to Count occurrences of an element in a list.**"
   ]
  },
  {
   "cell_type": "code",
   "execution_count": 29,
   "id": "1740c152-d950-4331-9737-0f13806a718b",
   "metadata": {},
   "outputs": [
    {
     "name": "stdout",
     "output_type": "stream",
     "text": [
      "the element 2 appears 9 times in a list\n"
     ]
    }
   ],
   "source": [
    "def count(l,element):\n",
    "    count=l.count(element)\n",
    "    return count\n",
    "\n",
    "my_list = [1, 2, 3, 4, 2, 5, 2, 3, 4, 6, 5,2,2,2,3,4,5,2,3,2,32,32,3,2]\n",
    "\n",
    "element_count=2\n",
    "occurences = count(my_list , element_count)\n",
    "\n",
    "print(\"the element {} appears {} times in a list\".format(element_count,occurences))"
   ]
  },
  {
   "cell_type": "markdown",
   "id": "42ebecb6-3248-4fd7-a645-25ab8126aa59",
   "metadata": {},
   "source": [
    "## Program 60\n",
    "**Write a Python program to find words which are greater than given length k.**"
   ]
  },
  {
   "cell_type": "code",
   "execution_count": 31,
   "id": "90e30865-a6e5-4455-b34a-724c102785d4",
   "metadata": {},
   "outputs": [
    {
     "name": "stdout",
     "output_type": "stream",
     "text": [
      "Words longer than 5 characters: ['banana', 'cherry', 'elderberry', 'dragonfruit', 'Deepak', 'Bhutaki']\n"
     ]
    }
   ],
   "source": [
    "def find_word(words,k):\n",
    "    result=[]\n",
    "    for i in words:\n",
    "        if len(i)>k:\n",
    "            result.append(i)\n",
    "    return result\n",
    "\n",
    "word_list=[\"apple\",\"banana\", \"cherry\", \"date\", \"elderberry\", \"dragonfruit\",\"Deepak\",\"Bhutaki\"]\n",
    "\n",
    "k=5\n",
    "long_words=find_word(word_list,k)\n",
    "print(f\"Words longer than {k} characters: {long_words}\")"
   ]
  },
  {
   "cell_type": "markdown",
   "id": "ce696939-9486-4a3a-b59b-eb090abcb315",
   "metadata": {},
   "source": [
    "## Program 61\n",
    "**Write a Python program for removing i character from a string. th**"
   ]
  },
  {
   "cell_type": "code",
   "execution_count": 34,
   "id": "52ece9e3-7cf8-4b32-aeab-fae4a2b94894",
   "metadata": {},
   "outputs": [
    {
     "name": "stdout",
     "output_type": "stream",
     "text": [
      "Original String: Hello ,wWorld!\n",
      "String after removing 7th character : Hello ,World!\n"
     ]
    }
   ],
   "source": [
    "def remove_char(input_str,i):\n",
    "    if i<0 or i> len(input_str):\n",
    "        print(\"Invalid index {}.the string remains unchanged\".format(i))\n",
    "        return result_str\n",
    "\n",
    "    result_str=input_str[:i]+input_str[i+1:]\n",
    "\n",
    "    return result_str\n",
    "input_str=\"Hello ,wWorld!\"\n",
    "i=7\n",
    "new_str=remove_char(input_str,i)\n",
    "print(f\"Original String: {input_str}\")\n",
    "print(f\"String after removing {i}th character : {new_str}\")"
   ]
  },
  {
   "cell_type": "markdown",
   "id": "7e133b85-a68f-4d58-b86b-1e6ea8c3e8f6",
   "metadata": {},
   "source": [
    "## Program 62\n",
    "**Write a python program to split and join a sstring**"
   ]
  },
  {
   "cell_type": "code",
   "execution_count": 36,
   "id": "2acbf263-a83f-4bb2-ac23-56787caf7a93",
   "metadata": {},
   "outputs": [
    {
     "name": "stdout",
     "output_type": "stream",
     "text": [
      "Original string: python program to split and join a string\n",
      "List of solit words: ['python', 'program', 'to', 'split', 'and', 'join', 'a', 'string']\n",
      "Joined string: python program to split and join a string\n"
     ]
    }
   ],
   "source": [
    "input_str=\"python program to split and join a string\"\n",
    "word_list=input_str.split()\n",
    "seperator= \" \"\n",
    "output_str=seperator.join(word_list)\n",
    "\n",
    "\n",
    "print(\"Original string:\",input_str)\n",
    "print(\"List of solit words:\",word_list)\n",
    "print(\"Joined string:\",output_str)"
   ]
  },
  {
   "cell_type": "markdown",
   "id": "4cc7020d-8e45-41a7-90a7-c65d07bd034d",
   "metadata": {},
   "source": [
    "## Program 63\n",
    "**Write a python program to check if a given string is binary or not**"
   ]
  },
  {
   "cell_type": "code",
   "execution_count": 39,
   "id": "3876b3bb-e5e6-4bf8-bbc2-daa44b0960db",
   "metadata": {},
   "outputs": [
    {
     "name": "stdout",
     "output_type": "stream",
     "text": [
      "011000111000 is a binary string.\n"
     ]
    }
   ],
   "source": [
    "def is_binary(input_str):\n",
    "    for i in input_str:\n",
    "        if i not in '01':\n",
    "            return False\n",
    "    return True\n",
    "\n",
    "input_str=\"011000111000\"\n",
    "\n",
    "if is_binary(input_str):\n",
    "    print(\"{} is a binary string.\".format(input_str))\n",
    "else:\n",
    "    print(\"{} is not a binary string\".format(input_str))"
   ]
  },
  {
   "cell_type": "markdown",
   "id": "a72d7129-0476-46cd-bd14-15d1b314a213",
   "metadata": {},
   "source": [
    "## Program 64\n",
    "**Write a Python program to find uncommon words from two Strings.**"
   ]
  },
  {
   "cell_type": "code",
   "execution_count": 40,
   "id": "7798e539-9010-4080-a75b-95f424b44533",
   "metadata": {},
   "outputs": [
    {
     "name": "stdout",
     "output_type": "stream",
     "text": [
      "Uncommon words: ['second', 'first']\n"
     ]
    }
   ],
   "source": [
    "def uncommon_words(str1,str2):\n",
    "    words1=set(str1.split())\n",
    "    words2=set(str2.split())\n",
    "\n",
    "    uncommon_words_set=words1.symmetric_difference(words2)\n",
    "\n",
    "    uncommon_words_list=list(uncommon_words_set)\n",
    "    return uncommon_words_list\n",
    "\n",
    "\n",
    "string1 = \"This is the first string\"\n",
    "string2 = \"This is the second string\"\n",
    "uncommon =  uncommon_words(string1,string2)\n",
    "\n",
    "print(\"Uncommon words:\",uncommon)"
   ]
  },
  {
   "cell_type": "markdown",
   "id": "6b3e51fe-fcc2-46d6-96d5-8bc98848ae88",
   "metadata": {},
   "source": [
    "## Program 65\n",
    "**Write a Python program to find all duplicate characters in string.**"
   ]
  },
  {
   "cell_type": "code",
   "execution_count": 41,
   "id": "ae565d62-0560-4e75-bd98-688b1d39dba8",
   "metadata": {},
   "outputs": [
    {
     "name": "stdout",
     "output_type": "stream",
     "text": [
      "Duplicates characters: ['e', 'a', 'k']\n"
     ]
    }
   ],
   "source": [
    "def find_duplicates(input_str):\n",
    "    char_count={}\n",
    "    duplicates=[]\n",
    "\n",
    "    for i in input_str:\n",
    "        if i in char_count:\n",
    "            char_count[i]+=1\n",
    "        else:\n",
    "            char_count[i]=1\n",
    "    for i,count in char_count.items():\n",
    "        if count>1:\n",
    "            duplicates.append(i)\n",
    "\n",
    "    return duplicates\n",
    "\n",
    "input_string=\"Deepak kumar\"\n",
    "\n",
    "duplicate_chars = find_duplicates(input_string)\n",
    "\n",
    "print(\"Duplicates characters:\",duplicate_chars)"
   ]
  },
  {
   "cell_type": "markdown",
   "id": "e9ea9595-e94f-4f15-95cd-5c59071fa187",
   "metadata": {},
   "source": [
    "## Program 66\n",
    "**Write a Python Program to check if a string contains any special character.**"
   ]
  },
  {
   "cell_type": "code",
   "execution_count": 7,
   "id": "1eac3376-adc2-46db-a525-eaa812513db6",
   "metadata": {},
   "outputs": [
    {
     "name": "stdin",
     "output_type": "stream",
     "text": [
      "Enter a string: \"hello deepak , how are you ?\"\n"
     ]
    },
    {
     "name": "stdout",
     "output_type": "stream",
     "text": [
      "The string contains special characters.\n"
     ]
    }
   ],
   "source": [
    "import re\n",
    "\n",
    "def chech_special_char(in_str):\n",
    "    pattern = r'[!@#$%^&*()_+{}\\[\\]:;<>,.?~\\\\\\/\\'\"\\-=]'\n",
    "\n",
    "    if re.search(pattern,in_str):\n",
    "         return True\n",
    "    else:\n",
    "        return False\n",
    "input_string= str(input(\"Enter a string:\"))\n",
    "contains_special=chech_special_char(input_string)\n",
    "\n",
    "if contains_special:\n",
    "    print(\"The string contains special characters.\")\n",
    "else:\n",
    "    \n",
    "    print(\"The string does not contain special character\")\n",
    "\n"
   ]
  },
  {
   "cell_type": "markdown",
   "id": "924fce54-bb1f-43cd-831d-7b98e49c7158",
   "metadata": {},
   "source": [
    "## Program 67\n",
    "**Write a Python program to Extract Unique dictionary values.**"
   ]
  },
  {
   "cell_type": "code",
   "execution_count": 2,
   "id": "5a7748c3-eefc-452d-a2b4-e63418b188c8",
   "metadata": {},
   "outputs": [
    {
     "name": "stdout",
     "output_type": "stream",
     "text": [
      "unique values in the dictionary is : [40, 10, 20, 30]\n"
     ]
    }
   ],
   "source": [
    "my_dict={\n",
    "    'a':10,\n",
    "    'b':20,\n",
    "    'c':30,\n",
    "    'd':40,\n",
    "    'e':20,\n",
    "    'f':40,\n",
    "}\n",
    "uni_value=set()\n",
    "\n",
    "for i in my_dict.values():\n",
    "    uni_value.add(i)\n",
    "\n",
    "unique_values_list = list(uni_value)\n",
    "\n",
    "print('unique values in the dictionary is :', unique_values_list)"
   ]
  },
  {
   "cell_type": "markdown",
   "id": "d1166c25-e811-4f50-ad82-3c67d2f848e3",
   "metadata": {},
   "source": [
    "## Program 68\n",
    "**Write a Python program to find the sum of all items in a dictionary.**"
   ]
  },
  {
   "cell_type": "code",
   "execution_count": 3,
   "id": "ace3786c-fb63-45f9-aafe-f28af2abb56e",
   "metadata": {},
   "outputs": [
    {
     "name": "stdout",
     "output_type": "stream",
     "text": [
      "Sum of all items in the dictionary is : 160\n"
     ]
    }
   ],
   "source": [
    "my_dict={\n",
    "    'a':10,\n",
    "    'b':20,\n",
    "    'c':30,\n",
    "    'd':40,\n",
    "    'e':20,\n",
    "    'f':40,\n",
    "}\n",
    "\n",
    "total_sum=0\n",
    "for i in my_dict.values():\n",
    "    total_sum +=i\n",
    "\n",
    "print(\"Sum of all items in the dictionary is :\",total_sum)"
   ]
  },
  {
   "cell_type": "markdown",
   "id": "72a3c1db-f965-4040-8e35-3eee49756c21",
   "metadata": {},
   "source": [
    "## Program 69\n",
    "**Write a Python program to Merging two Dictionaries.**"
   ]
  },
  {
   "cell_type": "code",
   "execution_count": 4,
   "id": "335d786a-b403-47cf-8a35-ab490aa58abf",
   "metadata": {},
   "outputs": [
    {
     "name": "stdout",
     "output_type": "stream",
     "text": [
      "merged Dictioanry is {'a': 1, 'b': 2, 'c': 3, 'd': 4}\n"
     ]
    }
   ],
   "source": [
    "dict1 = {'a': 1, 'b': 2}\n",
    "dict2 = {'c': 3, 'd': 4}\n",
    "\n",
    "dict1.update(dict2)\n",
    "\n",
    "print(\"merged Dictioanry is\",dict1)"
   ]
  },
  {
   "cell_type": "code",
   "execution_count": 5,
   "id": "23e44484-bfed-45b1-bed8-0902f8e100ee",
   "metadata": {},
   "outputs": [
    {
     "name": "stdout",
     "output_type": "stream",
     "text": [
      "merged Dictioanry is {'c': 3, 'd': 4, 'a': 1, 'b': 2}\n"
     ]
    }
   ],
   "source": [
    "dict2.update(dict1)\n",
    "\n",
    "print(\"merged Dictioanry is\",dict2)"
   ]
  },
  {
   "cell_type": "markdown",
   "id": "297d628e-f283-48d2-a669-c77b78558439",
   "metadata": {},
   "source": [
    "## Program 70\n",
    "**Write a Python program to convert key-values list to flat dictionary.**"
   ]
  },
  {
   "cell_type": "code",
   "execution_count": 7,
   "id": "fffb1fcd-52a4-46c6-b56c-5a4d583cc807",
   "metadata": {},
   "outputs": [
    {
     "name": "stdout",
     "output_type": "stream",
     "text": [
      "Flat Dictionary : {'a': 1, 'b': 2, 'c': 3, 'd': 4}\n"
     ]
    }
   ],
   "source": [
    "key_values_list = [('a', 1), ('b', 2), ('c', 3), ('d', 4)]\n",
    "\n",
    "flat_dict = {}\n",
    "for key, value in key_values_list:\n",
    "    flat_dict[key] = value\n",
    "\n",
    "print(\"Flat Dictionary :\",flat_dict)"
   ]
  },
  {
   "cell_type": "markdown",
   "id": "4b09fe7b-73ff-466f-9ac0-ec44035dc6bd",
   "metadata": {},
   "source": [
    "## Program 71\n",
    "**Write a Python program to insertion at the beginning in OrderedDict.**"
   ]
  },
  {
   "cell_type": "code",
   "execution_count": 10,
   "id": "050323c5-85d7-49eb-b0b0-b40f8a65395f",
   "metadata": {},
   "outputs": [
    {
     "name": "stdout",
     "output_type": "stream",
     "text": [
      "Updated OrderedDict: OrderedDict([('a', 1), ('b', 2), ('c', 3), ('d', 4)])\n"
     ]
    }
   ],
   "source": [
    "from collections import OrderedDict\n",
    "\n",
    "ordered_dict = OrderedDict([('b', 2), ('c', 3), ('d', 4)])\n",
    "\n",
    "new_item = ('a' , 1)\n",
    "new_ordered_dict = OrderedDict([new_item])\n",
    "\n",
    "new_ordered_dict.update(ordered_dict)\n",
    "\n",
    "print(\"Updated OrderedDict:\", new_ordered_dict)"
   ]
  },
  {
   "cell_type": "markdown",
   "id": "72cbb35b-c3e9-4977-9165-619def3cdf08",
   "metadata": {},
   "source": [
    "## Program 72\n",
    "**Write a Python program to check order of character in string using OrderedDict().**"
   ]
  },
  {
   "cell_type": "code",
   "execution_count": 13,
   "id": "9fe07cff-a6c0-4784-b295-6e932c0fb11e",
   "metadata": {},
   "outputs": [
    {
     "name": "stdout",
     "output_type": "stream",
     "text": [
      "The order of character in the input string matches the refernce string hello world\n"
     ]
    }
   ],
   "source": [
    "from collections import OrderedDict\n",
    "\n",
    "def check_order(string,reference):\n",
    "    string_dict = OrderedDict.fromkeys(string)\n",
    "    reference_dict=OrderedDict.fromkeys(reference)\n",
    "\n",
    "    return string_dict==reference_dict\n",
    "\n",
    "input_string=\"hello world\"\n",
    "refernce_string=\"helo wrd\"\n",
    "\n",
    "if check_order(input_string,refernce_string):\n",
    "    print(\"The order of character in the input string matches the refernce string\",input_string)\n",
    "\n",
    "else:\n",
    "    print(\"The order of character in the input string does not match the reference string\",reference_string)"
   ]
  },
  {
   "cell_type": "markdown",
   "id": "d2183026-4462-4471-8bf6-a518c3bed77b",
   "metadata": {},
   "source": [
    "## Program 73\n",
    "**Write a Python program to sort Python Dictionaries by Key or Value.**"
   ]
  },
  {
   "cell_type": "code",
   "execution_count": 15,
   "id": "26a6faad-91c6-4912-994c-04efa6d9b5b3",
   "metadata": {},
   "outputs": [
    {
     "name": "stdout",
     "output_type": "stream",
     "text": [
      "Sorted by keys:\n",
      "appple:3\n",
      "banana:1\n",
      "cherry:2\n",
      "date:4\n"
     ]
    }
   ],
   "source": [
    "sample_dict= {'appple':3,'banana':1,'cherry':2,'date':4}\n",
    "\n",
    "sorted_dict_by_keys = dict(sorted(sample_dict.items()))\n",
    "\n",
    "print(\"Sorted by keys:\")\n",
    "for key,value in sorted_dict_by_keys.items():\n",
    "    print(f\"{key}:{value}\")"
   ]
  },
  {
   "cell_type": "markdown",
   "id": "054b6dce-2a1a-4f22-a501-91b21dedfa54",
   "metadata": {},
   "source": [
    "## Program 74\n",
    "**Write a program that calculates and prints the value according to the given formula:**\n",
    "Q = square root of 2CD/H\n",
    "\n",
    "Following are the fixed values of C and H:\n",
    "\n",
    "C is 50. H is 30.\n",
    "\n",
    "D is the variable whose values should be input to your program in a comma\u0002separated sequence.\n",
    "\n",
    "Example\n",
    "\n",
    "Let us assume the following comma separated input sequence is given to the\n",
    "program:\n",
    "\n",
    "100,150,180\n",
    "\n",
    "The output of the program should be:\n",
    "\n",
    "18,22,24\n"
   ]
  },
  {
   "cell_type": "code",
   "execution_count": 16,
   "id": "309f8329-6878-4f7d-aab2-0959c1f8d89a",
   "metadata": {},
   "outputs": [
    {
     "name": "stdin",
     "output_type": "stream",
     "text": [
      "Enter comma-seperated values of D: 21348,8653,6235\n"
     ]
    },
    {
     "name": "stdout",
     "output_type": "stream",
     "text": [
      "266,169,144\n"
     ]
    }
   ],
   "source": [
    "import math\n",
    "C = 50\n",
    "H = 30\n",
    "\n",
    "def calculate_Q(D):\n",
    "    return int(math.sqrt((2 * C * D)/H))\n",
    "\n",
    "input_sequence = input(\"Enter comma-seperated values of D:\")\n",
    "D_values = input_sequence.split(',')\n",
    "\n",
    "result = [calculate_Q(int(D)) for D in D_values]\n",
    "print(','.join(map(str,result)))"
   ]
  },
  {
   "cell_type": "markdown",
   "id": "9896f3ff-5191-4d29-ba4a-4c3490b04560",
   "metadata": {},
   "source": [
    "## Program 75\n",
    "**Write a program which takes 2 digits, X,Y as input and generates a 2-dimensional\n",
    "array.**\n",
    "The element value in the i-th row and j-th column of the array should be i*j.\n",
    "\n",
    "Note: i=0,1.., X-1; j=0,1,¡Y-1.\n",
    "\n",
    "Example\n",
    "\n",
    "Suppose the following inputs are given to the program:\n",
    "\n",
    "3,5\n",
    "\n",
    "Then, the output of the program should be:\n",
    "\n",
    "[[0, 0, 0, 0, 0], [0, 1, 2, 3, 4], [0, 2, 4, 6, 8]]"
   ]
  },
  {
   "cell_type": "code",
   "execution_count": 17,
   "id": "be0b3831-509c-4b6c-b508-313af15d9aad",
   "metadata": {},
   "outputs": [
    {
     "name": "stdin",
     "output_type": "stream",
     "text": [
      "Enter two digits (X,Y):  3,5\n"
     ]
    },
    {
     "name": "stdout",
     "output_type": "stream",
     "text": [
      "[0, 0, 0, 0, 0]\n",
      "[0, 1, 2, 3, 4]\n",
      "[0, 2, 4, 6, 8]\n"
     ]
    }
   ],
   "source": [
    "X,Y = map(int,input(\"Enter two digits (X,Y): \").split(','))\n",
    "\n",
    "array =[[0 for j in range(Y)] for i in range(X)]\n",
    "\n",
    "for i in range(X):\n",
    "    for j in range(Y):\n",
    "        array[i][j] = i*j\n",
    "\n",
    "for row in array:\n",
    "    print(row)"
   ]
  },
  {
   "cell_type": "markdown",
   "id": "4aba86ba-7d6e-4f8c-b463-e41e17a0c6a6",
   "metadata": {},
   "source": [
    "## Program 76\n",
    "**Write a program that accepts a comma separated sequence of words as input and\n",
    "prints the words in a comma-separated sequence after sorting them alphabetically.**\n",
    "Suppose the following input is supplied to the program:\n",
    "\n",
    "without,hello,bag,world\n",
    "\n",
    "Then, the output should be:\n",
    "\n",
    "bag,hello,without,world\n"
   ]
  },
  {
   "cell_type": "code",
   "execution_count": 19,
   "id": "15592dcc-1b4e-4601-88ed-77c28a2c2b0b",
   "metadata": {},
   "outputs": [
    {
     "name": "stdin",
     "output_type": "stream",
     "text": [
      "Enter a comma-seperated sequence of words: without,hello,bag,world\n"
     ]
    },
    {
     "name": "stdout",
     "output_type": "stream",
     "text": [
      "Sorted words: bag,hello,without,world\n"
     ]
    }
   ],
   "source": [
    "input_sequence = input(\"Enter a comma-seperated sequence of words:\")\n",
    "\n",
    "words= input_sequence.split(',')\n",
    "\n",
    "sorted_words = sorted(words)\n",
    "\n",
    "sorted_sequence = ','.join(sorted_words)\n",
    "\n",
    "print(\"Sorted words:\",sorted_sequence)"
   ]
  },
  {
   "cell_type": "markdown",
   "id": "6064b0f4-a3f3-4823-adfb-9d868537dafa",
   "metadata": {},
   "source": [
    "## Program 77\n",
    "**Write a program that accepts a sequence of whitespace separated words as input\n",
    "and prints the words after removing all duplicate words and sorting them\n",
    "alphanumerically.**\n",
    "\n",
    "Suppose the following input is supplied to the program:\n",
    "\n",
    "hello world and practice makes perfect and hello world again\n",
    "\n",
    "Then, the output should be:\n",
    "\n",
    "again and hello makes perfect practice world\n"
   ]
  },
  {
   "cell_type": "code",
   "execution_count": 21,
   "id": "2b10af59-4680-40d5-9c99-65db2ea6aa44",
   "metadata": {},
   "outputs": [
    {
     "name": "stdin",
     "output_type": "stream",
     "text": [
      "Enter a sequence of whitespace-seperated words: hello world and practice makes perfect and hello world again\n"
     ]
    },
    {
     "name": "stdout",
     "output_type": "stream",
     "text": [
      "Result: againandhellomakesperfectpracticeworld\n"
     ]
    }
   ],
   "source": [
    "input_sequence = input(\"Enter a sequence of whitespace-seperated words:\")\n",
    "\n",
    "words = set(input_sequence.split())\n",
    "\n",
    "sorted_words = sorted(words)\n",
    "\n",
    "result= ''.join(sorted_words)\n",
    "\n",
    "print(\"Result:\",result)"
   ]
  },
  {
   "cell_type": "markdown",
   "id": "168493e2-42dd-429a-a9b4-d7a76b899a59",
   "metadata": {},
   "source": [
    "## Program 79\n",
    "**Write a program that accepts a sentence and calculate the number of letters and\n",
    "digits. Suppose the following input is supplied to the program:**\n",
    "    \n",
    "hello world! 123\n",
    "\n",
    "Then, the output should be:\n",
    "\n",
    "LETTERS 10\n",
    "\n",
    "DIGITS 3\n"
   ]
  },
  {
   "cell_type": "code",
   "execution_count": 22,
   "id": "7bb0c875-3424-4159-870e-3f9de9b394d3",
   "metadata": {},
   "outputs": [
    {
     "name": "stdin",
     "output_type": "stream",
     "text": [
      "Enter a sentence: hello worldf! 123\n"
     ]
    },
    {
     "name": "stdout",
     "output_type": "stream",
     "text": [
      "LETTERS 11\n",
      "DIGITS 3\n"
     ]
    }
   ],
   "source": [
    "sentence = input('Enter a sentence:')\n",
    "\n",
    "letter_count=0\n",
    "digit_count=0\n",
    "\n",
    "for char in sentence:\n",
    "    if char.isalpha():\n",
    "        letter_count +=1\n",
    "    elif char.isdigit():\n",
    "        digit_count +=1\n",
    "\n",
    "print('LETTERS',letter_count)\n",
    "print('DIGITS',digit_count)"
   ]
  },
  {
   "cell_type": "markdown",
   "id": "10cc6773-4ba7-490b-9c86-64cd90980943",
   "metadata": {},
   "source": [
    "## Program 80\n",
    "**A website requires the users to input username and password to register. Write a\n",
    "program to check the validity of password input by users. Following are the criteria\n",
    "for checking the password:**\n",
    "\n",
    "**1. At least 1 letter between [a-z]**\n",
    "\n",
    "**2. At least 1 number between [0-9]**\n",
    "\n",
    "**1. At least 1 letter between [A-Z]**\n",
    "\n",
    "**3. At least 1 character from [$#@]**\n",
    "\n",
    "**4. Minimum length of transaction password: 6**\n",
    "\n",
    "**5. Maximum length of transaction password: 12**\n",
    "\n",
    "\n",
    "**Your program should accept a sequence of comma separated passwords and will\n",
    "check them according to the above criteria. Passwords that match the criteria are to\n",
    "be printed, each separated by a comma.**\n",
    "### Example\n",
    "**If the following passwords are given as input to the program:**\n",
    "\n",
    "**ABd1234@1,a F1#,2w3E*,2We3345**\n",
    "\n",
    "Then, the output of the program should be:\n",
    "\n",
    "ABd1234@1"
   ]
  },
  {
   "cell_type": "code",
   "execution_count": 24,
   "id": "62bf802b-e7f3-4a27-b816-71c008144742",
   "metadata": {},
   "outputs": [
    {
     "name": "stdin",
     "output_type": "stream",
     "text": [
      "Enter passwords seperated by commas: Deepak@123\n"
     ]
    },
    {
     "name": "stdout",
     "output_type": "stream",
     "text": [
      "Deepak@123\n"
     ]
    }
   ],
   "source": [
    "import re\n",
    "\n",
    "def is_valid_password(password):\n",
    "    if 6<= len(password)<=12:\n",
    "        if re.match(r\"^(?=.*[a-z])(?=.*[A-Z])(?=.*[0-9])(?=.*[$#@])\",password):\n",
    "            return True\n",
    "        return False\n",
    "\n",
    "passwords = input(\"Enter passwords seperated by commas:\").split(',')\n",
    "\n",
    "valid_passwords= []\n",
    "for psw in passwords:\n",
    "    if is_valid_password(psw):\n",
    "        valid_passwords.append(psw)\n",
    "\n",
    "print(','.join(valid_passwords))\n",
    "    "
   ]
  },
  {
   "cell_type": "markdown",
   "id": "ddcddbc8-1c96-43dd-80ab-a4cd7d8805a6",
   "metadata": {},
   "source": [
    "## Program 81\n",
    "**Define a class with a generator which can iterate the numbers, which are divisible by\n",
    "7, between a given range 0 and n.**\n"
   ]
  },
  {
   "cell_type": "code",
   "execution_count": 30,
   "id": "94004b04-637f-4ba6-8f45-6ea64c07e9d5",
   "metadata": {},
   "outputs": [],
   "source": [
    "class DivisibleBySeven():\n",
    "    def __int__(self,n):\n",
    "        self.n=n\n",
    "\n",
    "    def generate_divisible_by_seven(self):\n",
    "        for num in range(self.n +1):\n",
    "            if num%7 ==0:\n",
    "                yield num"
   ]
  },
  {
   "cell_type": "code",
   "execution_count": 31,
   "id": "5b720a81-0338-4903-bd8e-e0ac4df96799",
   "metadata": {},
   "outputs": [
    {
     "name": "stdin",
     "output_type": "stream",
     "text": [
      "Enter your desired range:  45\n"
     ]
    },
    {
     "ename": "TypeError",
     "evalue": "DivisibleBySeven() takes no arguments",
     "output_type": "error",
     "traceback": [
      "\u001b[1;31m---------------------------------------------------------------------------\u001b[0m",
      "\u001b[1;31mTypeError\u001b[0m                                 Traceback (most recent call last)",
      "Cell \u001b[1;32mIn[31], line 3\u001b[0m\n\u001b[0;32m      1\u001b[0m n \u001b[38;5;241m=\u001b[39m \u001b[38;5;28mint\u001b[39m(\u001b[38;5;28minput\u001b[39m(\u001b[38;5;124m\"\u001b[39m\u001b[38;5;124mEnter your desired range: \u001b[39m\u001b[38;5;124m\"\u001b[39m))\n\u001b[1;32m----> 3\u001b[0m divisible_by_seven_generator \u001b[38;5;241m=\u001b[39m DivisibleBySeven(n)\u001b[38;5;241m.\u001b[39mgenerate_divisible_by_seven\n\u001b[0;32m      5\u001b[0m \u001b[38;5;28;01mfor\u001b[39;00m num \u001b[38;5;129;01min\u001b[39;00m divisible_by_seven_generator:\n\u001b[0;32m      6\u001b[0m     \u001b[38;5;28mprint\u001b[39m(num)\n",
      "\u001b[1;31mTypeError\u001b[0m: DivisibleBySeven() takes no arguments"
     ]
    }
   ],
   "source": [
    "n = int(input(\"Enter your desired range: \"))\n",
    "\n",
    "divisible_by_seven_generator = DivisibleBySeven(n).generate_divisible_by_seven\n",
    "\n",
    "for num in divisible_by_seven_generator:\n",
    "    print(num)"
   ]
  },
  {
   "cell_type": "markdown",
   "id": "f7348d5d-8170-452f-8f04-58c340d30f55",
   "metadata": {},
   "source": [
    "## Program 82\n",
    "**Write a program to compute the frequency of the words from the input. The output\n",
    "should output after sorting the key alphanumerically. Suppose the following input is\n",
    "supplied to the program:**\n",
    "New to Python or choosing between Python 2 and Python 3? Read Python 2 or\n",
    "\n",
    "Python 3.\n",
    "\n",
    "Then, the output should be:\n",
    "\n",
    "2:2\n",
    "\n",
    "3.:1\n",
    "\n",
    "3?:1\n",
    "\n",
    "New:1\n",
    "\n",
    "Python:5\n",
    "\n",
    "Read:1\n",
    "\n",
    "and:1\n",
    "\n",
    "between:1\n",
    "\n",
    "choosing:1\n",
    "\n",
    "or:2\n",
    "\n",
    "to:1\n"
   ]
  },
  {
   "cell_type": "code",
   "execution_count": 36,
   "id": "638fb942-ace2-430a-9a98-5e5243570ae9",
   "metadata": {},
   "outputs": [
    {
     "name": "stdin",
     "output_type": "stream",
     "text": [
      "Enter a sentences: New to Python or choosing between Python 2 and Python 3?\n"
     ]
    },
    {
     "name": "stdout",
     "output_type": "stream",
     "text": [
      "2:1\n",
      "3:1\n",
      "and:1\n",
      "between:1\n",
      "choosing:1\n",
      "new:1\n",
      "or:1\n",
      "python:3\n",
      "to:1\n"
     ]
    }
   ],
   "source": [
    "input_sentence = input('Enter a sentences:')\n",
    "\n",
    "words= input_sentence.split()\n",
    "\n",
    "word_freq = {}\n",
    "\n",
    "for word in words:\n",
    "    word = word.strip('.,?')\n",
    "    word = word.lower()\n",
    "    if word in word_freq:\n",
    "        word_freq[word] +=1\n",
    "    else:\n",
    "        word_freq[word] =1\n",
    "\n",
    "sorted_words = sorted(word_freq.items())\n",
    "\n",
    "for word , frequency in sorted_words:\n",
    "    print(f\"{word}:{frequency}\")"
   ]
  },
  {
   "cell_type": "markdown",
   "id": "63fc9ae9-2c59-4c42-8c46-3e9cd32fdca0",
   "metadata": {},
   "source": [
    "## Program 83\n",
    "**Define a class Person and its two child classes: Male and Female. All classes have a\n",
    "method \"getGender\" which can print \"Male\" for Male class and \"Female\" for Female\n",
    "class**\n"
   ]
  },
  {
   "cell_type": "code",
   "execution_count": 44,
   "id": "54138673-6317-4376-a274-0b0e2f1261dd",
   "metadata": {},
   "outputs": [],
   "source": [
    "class Person:\n",
    "    def getGender(self):\n",
    "        return \"Unknown\"\n",
    "\n",
    "class Male(Person):\n",
    "    def getGender(self):\n",
    "        return \"Male\"\n",
    "\n",
    "class Female(Person):\n",
    "    def getGender(self):\n",
    "        return \"Female\"\n",
    "        "
   ]
  },
  {
   "cell_type": "code",
   "execution_count": 45,
   "id": "4675f4d4-7d90-4995-b183-e220056c45a8",
   "metadata": {},
   "outputs": [
    {
     "name": "stdout",
     "output_type": "stream",
     "text": [
      "Unknown\n",
      "Male\n",
      "Female\n"
     ]
    }
   ],
   "source": [
    "person = Person()\n",
    "male = Male()\n",
    "female = Female()\n",
    "\n",
    "print(person.getGender())\n",
    "print(male.getGender())\n",
    "print(female.getGender())"
   ]
  },
  {
   "cell_type": "markdown",
   "id": "d97b7893-39c0-430a-ace3-7ce5e1b04e12",
   "metadata": {},
   "source": [
    "## Program 84\n",
    "**Please write a program to generate all sentences where subject is in [\"I\", \"You\"] and\n",
    "verb is in [\"Play\", \"Love\"] and the object is in [\"Hockey\",\"Football\"].**"
   ]
  },
  {
   "cell_type": "code",
   "execution_count": 46,
   "id": "fbe625d5-de26-4b77-af10-5281c08e7650",
   "metadata": {},
   "outputs": [
    {
     "name": "stdout",
     "output_type": "stream",
     "text": [
      "I Play Hockey.\n",
      "I Play Football.\n",
      "I Love Hockey.\n",
      "I Love Football.\n",
      "You Play Hockey.\n",
      "You Play Football.\n",
      "You Love Hockey.\n",
      "You Love Football.\n"
     ]
    }
   ],
   "source": [
    "subjects = ['I' , \"You\"]\n",
    "verbs = [\"Play\",\"Love\"]\n",
    "objects = [\"Hockey\",\"Football\"]\n",
    "\n",
    "sentences =[]\n",
    "for sub in subjects:\n",
    "    for vrb in verbs:\n",
    "        for obj in objects:\n",
    "            sentence = f\"{sub} {vrb} {obj}.\"\n",
    "            sentences.append(sentence)\n",
    "\n",
    "for sentence in sentences:\n",
    "    print(sentence)"
   ]
  },
  {
   "cell_type": "markdown",
   "id": "1010abdf-b3c1-42c9-b356-cd8eaf14e752",
   "metadata": {},
   "source": [
    "## Program 85\n",
    "**Please write a program to compress and decompress the string \"hello world!hello\n",
    "world!hello world!hello world!\"**"
   ]
  },
  {
   "cell_type": "code",
   "execution_count": 49,
   "id": "ea07aff6-ec85-4df7-8897-e7433ce9529f",
   "metadata": {},
   "outputs": [
    {
     "name": "stdout",
     "output_type": "stream",
     "text": [
      "Original String: hello world!hello world!hello world!hello world!\n",
      "Compressed String: b'x\\x9c\\xcbH\\xcd\\xc9\\xc9W(\\xcf/\\xcaIQ\\xcc \\x82\\r\\x00\\xbd[\\x11\\xf5'\n",
      "Decompressed String: hello world!hello world!hello world!hello world!\n"
     ]
    }
   ],
   "source": [
    "import zlib\n",
    "\n",
    "string =  \"hello world!hello world!hello world!hello world!\"\n",
    "\n",
    "compressed_string = zlib.compress(string.encode())\n",
    "\n",
    "decompressed_string = zlib.decompress(compressed_string).decode()\n",
    "\n",
    "print(\"Original String:\", string)\n",
    "print(\"Compressed String:\", compressed_string)\n",
    "print(\"Decompressed String:\", decompressed_string)\n"
   ]
  },
  {
   "cell_type": "markdown",
   "id": "3d5af8bc-a3eb-450d-b02c-4f36567658a5",
   "metadata": {},
   "source": [
    "## Program 86\n",
    "**Please write a binary search function which searches an item in a sorted list. The\n",
    "function should return the index of element to be searched in the list.**\n"
   ]
  },
  {
   "cell_type": "code",
   "execution_count": 53,
   "id": "e2777bc5-3c1f-47bf-8298-ed931b47157c",
   "metadata": {},
   "outputs": [
    {
     "name": "stdout",
     "output_type": "stream",
     "text": [
      "Element 4 found at index 3\n"
     ]
    }
   ],
   "source": [
    "def binary_search (arr,target):\n",
    "    left,right = 0, len(arr) - 1\n",
    "\n",
    "    while left <=right:\n",
    "        mid = (left + right) //2\n",
    "\n",
    "        if  arr[mid] == target :\n",
    "            return mid\n",
    "        elif arr[mid] < target:\n",
    "            left = mid +1\n",
    "        else:\n",
    "            right = mid -1\n",
    "\n",
    "    return -1\n",
    "\n",
    "sorted_list = [1, 2, 3, 4, 5, 6, 7, 8, 9]\n",
    "target_element = 4\n",
    "\n",
    "result = binary_search (sorted_list, target_element)\n",
    "\n",
    "if result != -1:\n",
    " print(f\"Element {target_element} found at index {result}\")\n",
    "else:\n",
    " print(f\"Element {target_element} not found in the list\")\n"
   ]
  },
  {
   "cell_type": "markdown",
   "id": "148c4f23-d9fe-41b5-b221-684facd7b6f2",
   "metadata": {},
   "source": [
    "## Program 87\n",
    "**Please write a program using generator to print the numbers which can be divisible\n",
    "by 5 and 7 between 0 and n in comma separated form while n is input by console.**\n",
    "\n",
    "Example:\n",
    "       \n",
    "If the following n is given as input to the program:\n",
    "\n",
    "100\n",
    "\n",
    "Then, the output of the program should be:\n",
    "\n",
    "0,35,70\n"
   ]
  },
  {
   "cell_type": "code",
   "execution_count": 54,
   "id": "c886b66f-2786-49a0-ab23-2eb1222e76bc",
   "metadata": {},
   "outputs": [
    {
     "name": "stdin",
     "output_type": "stream",
     "text": [
      "Enter a value for n: 100\n"
     ]
    },
    {
     "name": "stdout",
     "output_type": "stream",
     "text": [
      "0,35,70\n"
     ]
    }
   ],
   "source": [
    "def divisible_by_5_and_7(n):\n",
    "    for num in range(n+1):\n",
    "        if num%5==0 and num%7==0:\n",
    "            yield num\n",
    "\n",
    "try:\n",
    "    n=int(input(\"Enter a value for n:\"))\n",
    "    result = divisible_by_5_and_7(n)\n",
    "    print(','.join(map(str, result)))\n",
    "\n",
    "except valueError:\n",
    "    print(\"Invalid input.Please enter a valid integer for n.\")"
   ]
  },
  {
   "cell_type": "markdown",
   "id": "7811303e-2e33-4d0f-ae05-d577cba3a62c",
   "metadata": {},
   "source": [
    "## Program 88\n",
    "**Please write a program using generator to print the even numbers between 0 and n in\n",
    "comma separated form while n is input by console.**\n",
    "\n",
    "Example:\n",
    "       \n",
    "If the following n is given as input to the program:\n",
    "\n",
    "10\n",
    "\n",
    "Then, the output of the program should be:\n",
    "\n",
    "0,2,4,6,8,10"
   ]
  },
  {
   "cell_type": "code",
   "execution_count": 55,
   "id": "fbb7a17e-b63c-41fa-85cc-ea30d6c2073a",
   "metadata": {},
   "outputs": [
    {
     "name": "stdin",
     "output_type": "stream",
     "text": [
      "Enter a value for n: 90\n"
     ]
    },
    {
     "name": "stdout",
     "output_type": "stream",
     "text": [
      "0,2,4,6,8,10,12,14,16,18,20,22,24,26,28,30,32,34,36,38,40,42,44,46,48,50,52,54,56,58,60,62,64,66,68,70,72,74,76,78,80,82,84,86,88,90\n"
     ]
    }
   ],
   "source": [
    "def even_numbers(n):\n",
    "    for num in range (n+1):\n",
    "        if  num%2==0:\n",
    "            yield num\n",
    "\n",
    "try:\n",
    "    n=int(input(\"Enter a value for n:\"))\n",
    "    result = even_numbers(n)\n",
    "    print(','.join(map(str,result)))\n",
    "\n",
    "except valueError:\n",
    "    print(\"Invalid Input. please enter a valid integer for n\")"
   ]
  },
  {
   "cell_type": "markdown",
   "id": "11362ac8-cc27-4fd6-b8ca-7bbf2884ef37",
   "metadata": {},
   "source": [
    "## Program 89\n",
    "**The Fibonacci Sequence is computed based on the following formula:**\n",
    "f(n)=0 if n=0\n",
    "\n",
    "f(n)=1 if n=1\n",
    "\n",
    "f(n)=f(n-1)+f(n-2) if n>1\n",
    "\n",
    "**Please write a program using list comprehension to print the Fibonacci Sequence in\n",
    "comma separated form with a given n input by console.**\n",
    "\n",
    "Example:\n",
    "\n",
    "If the following n is given as input to the program:\n",
    "\n",
    "8\n",
    "\n",
    "Then, the output of the program should be:\n",
    "\n",
    "0,1,1,2,3,5,8,13"
   ]
  },
  {
   "cell_type": "code",
   "execution_count": 58,
   "id": "98b44fb5-5739-4963-a8a5-bfe558a129c9",
   "metadata": {},
   "outputs": [
    {
     "name": "stdin",
     "output_type": "stream",
     "text": [
      "Enter a value of n: 45\n"
     ]
    },
    {
     "name": "stdout",
     "output_type": "stream",
     "text": [
      "0,1,1,2,3,5,8,13,21,34,55,89,144,233,377,610,987,1597,2584,4181,6765,10946,17711,28657,46368,75025,121393,196418,317811,514229,832040,1346269,2178309,3524578,5702887,9227465,14930352,24157817,39088169,63245986,102334155,165580141,267914296,433494437,701408733\n"
     ]
    }
   ],
   "source": [
    "def fibonacci(n):\n",
    " sequence = [0, 1] # Initializing the sequence with the first two F\n",
    " [sequence.append(sequence[-1] + sequence[-2]) for _ in range(2, n)]\n",
    " return sequence\n",
    "\n",
    "try:\n",
    "    n= int(input(\"Enter a value of n:\"))\n",
    "    result = fibonacci(n)\n",
    "    print(','.join(map(str,result)))\n",
    "\n",
    "except:\n",
    "    print(\"inavlid input.print enter a valid integer for n\")"
   ]
  },
  {
   "cell_type": "markdown",
   "id": "aa604dbf-9b19-4565-a990-9c362c6b618b",
   "metadata": {},
   "source": [
    "## Program 90\n",
    "**Assuming that we have some email addresses in the\n",
    "\"username@companyname.com (mailto:username@companyname.com)\" format,\n",
    "please write program to print the user name of a given email address. Both user\n",
    "names and company names are composed of letters only.**\n",
    "    \n",
    "Example:\n",
    "\n",
    "If the following email address is given as input to the program:\n",
    "\n",
    "john@google.com (mailto:john@google.com)\n",
    "\n",
    "Then, the output of the program should be:\n",
    "\n",
    "john\n"
   ]
  },
  {
   "cell_type": "code",
   "execution_count": 61,
   "id": "b640c89e-80cb-4a58-b37d-4f1c892822cd",
   "metadata": {},
   "outputs": [
    {
     "name": "stdin",
     "output_type": "stream",
     "text": [
      "Enter aa email adress: chikudeepak0@gmail.com\n"
     ]
    },
    {
     "name": "stdout",
     "output_type": "stream",
     "text": [
      "chikudeepak0\n"
     ]
    }
   ],
   "source": [
    "def extract_username(email):\n",
    "    parts = email.split('@')\n",
    "    if len(parts) == 2:\n",
    "        return parts[0]\n",
    "\n",
    "    else:\n",
    "        return \"invalid email format\"\n",
    "\n",
    "try:\n",
    "    email = input('Enter aa email adress:')\n",
    "    username = extract_username(email)\n",
    "    print(username)\n",
    "\n",
    "except valueError:\n",
    "    print(\"Invalid input.please enter a valid email adress.\")"
   ]
  },
  {
   "cell_type": "markdown",
   "id": "80f542b9-1117-4f9c-b40d-557c9c15996c",
   "metadata": {},
   "source": [
    "## Program 91\n",
    "**Define a class named Shape and its subclass Square. The Square class has an init\n",
    "function which takes a length as argument. Both classes have an area function which\n",
    "can print the area of the shape where Shape's area is 0 by default.**"
   ]
  },
  {
   "cell_type": "code",
   "execution_count": 4,
   "id": "e342c348-b175-4feb-b650-e025ef76f094",
   "metadata": {},
   "outputs": [
    {
     "name": "stdin",
     "output_type": "stream",
     "text": [
      "Enter the shape of the square: 5\n"
     ]
    },
    {
     "name": "stdout",
     "output_type": "stream",
     "text": [
      "Shape's area by default: 0\n",
      "Area of the square: 25.0\n"
     ]
    }
   ],
   "source": [
    "class shape:\n",
    "    def __init__(self):\n",
    "        pass\n",
    "    def area(self):\n",
    "        return 0\n",
    "\n",
    "class square(shape):\n",
    "    def __init__(self,length):\n",
    "        super().__init__()\n",
    "        self.length = length\n",
    "\n",
    "    def area(self):\n",
    "        return self.length**2\n",
    "\n",
    "shape = shape()\n",
    "square = square(float(input(\"Enter the shape of the square:\")))\n",
    "\n",
    "print(\"Shape's area by default:\",shape.area())\n",
    "print(\"Area of the square:\",square.area())"
   ]
  },
  {
   "cell_type": "markdown",
   "id": "7e3c1eaf-bc90-40ca-95f8-160d8633fab9",
   "metadata": {},
   "source": [
    "## Program 92\n",
    "**Write a function that stutters a word as if someone is struggling to read it. The first\n",
    "two letters are repeated twice with an ellipsis ... and space after each, and then the\n",
    "word is pronounced with a question mark ?.**\n",
    "\n",
    "Examples\n",
    "\n",
    "stutter(\"incredible\") ➞ \"in... in... incredible?\"\n",
    "\n",
    "stutter(\"enthusiastic\") ➞ \"en... en... enthusiastic?\"\n",
    "\n",
    "stutter(\"outstanding\") ➞ \"ou... ou... outstanding?\"\n",
    "\n",
    "Hint :- Assume all input is in lower case and at least two characters long."
   ]
  },
  {
   "cell_type": "code",
   "execution_count": 7,
   "id": "2ccbd920-4d38-4b17-a183-28c82a423d1e",
   "metadata": {},
   "outputs": [
    {
     "name": "stdout",
     "output_type": "stream",
     "text": [
      "De...De...Deepak?\n",
      "Ni...Ni...Nisha?\n",
      "ra...ra...raghav?\n"
     ]
    }
   ],
   "source": [
    "def stutter(word):\n",
    "    if len(word)<2:\n",
    "        return \"word must be at least two character long.\"\n",
    "\n",
    "    stutter_word = f\"{word[:2]}...{word[:2]}...{word}?\"\n",
    "    return stutter_word\n",
    "print(stutter('Deepak'))\n",
    "print(stutter('Nisha'))\n",
    "print(stutter('raghav'))"
   ]
  },
  {
   "cell_type": "markdown",
   "id": "b77c759a-8307-4506-8723-a2369e3dd2c0",
   "metadata": {},
   "source": [
    "## Program 93\n",
    "**Create a function that takes an angle in radians and returns the corresponding angle\n",
    "in degrees rounded to one decimal place.**\n",
    "\n",
    "Examples\n",
    "\n",
    "radians_to_degrees(1) ➞ 57.3\n",
    "\n",
    "radians_to_degrees(20) ➞ 1145.9\n",
    "\n",
    "radians_to_degrees(50) ➞ 2864.8\n"
   ]
  },
  {
   "cell_type": "code",
   "execution_count": 8,
   "id": "d22a258d-e148-4692-aab3-78f5ab3c2e53",
   "metadata": {},
   "outputs": [
    {
     "name": "stdout",
     "output_type": "stream",
     "text": [
      "1145.9\n",
      "2578.3\n",
      "5729.6\n",
      "6875.5\n"
     ]
    }
   ],
   "source": [
    "import math\n",
    "\n",
    "def radians_to_degrees(radians):\n",
    "    degrees = radians*(180/math.pi)\n",
    "    return round(degrees,1)\n",
    "\n",
    "\n",
    "print(radians_to_degrees(20))\n",
    "print(radians_to_degrees(45))\n",
    "print(radians_to_degrees(100))\n",
    "print(radians_to_degrees(120))"
   ]
  },
  {
   "cell_type": "markdown",
   "id": "23ca49fe-3c5c-4677-9e4a-5758737271ef",
   "metadata": {},
   "source": [
    "## Program 94\n",
    "**In this challenge, establish if a given integer num is a Curzon number. If 1 plus 2\n",
    "elevated to num is exactly divisible by 1 plus 2 multiplied by num, then num is a\n",
    "Curzon number.**\n",
    "    \n",
    "**Given a non-negative integer num, implement a function that returns True if num is a\n",
    "Curzon number, or False otherwise.**\n",
    "    \n",
    "Examples\n",
    "\n",
    "is_curzon(5) ➞ True\n",
    "    \n",
    "2 ** 5 + 1 = 33\n",
    "\n",
    " 2 * 5 + 1 = 11\n",
    " \n",
    " 33 is a multiple of 11\n",
    "    \n",
    "is_curzon(10) ➞ False\n",
    "    \n",
    "2 ** 10 + 1 = 1025\n",
    "\n",
    " 2 * 10 + 1 = 21\n",
    " \n",
    "1025 is not a multiple of 21\n",
    "    \n",
    "is_curzon(14) ➞ True\n",
    "    \n",
    "2 ** 14 + 1 = 16385\n",
    "\n",
    "2 * 14 + 1 = 29\n",
    "\n",
    "16385 is a multiple of 29\n",
    "\n",
    "**Curzon Number:**\n",
    "    \n",
    "**It is defined based on a specific mathematical relationship involving powers of 2. An integer\n",
    "'n' is considered a Curzon number if it satisfies the following condition:**\n",
    "    \n",
    "If (2^n + 1) is divisible by (2n + 1), then 'n' is a Curzon number.\n",
    "\n",
    "For example:\n",
    "\n",
    "If n = 5: 2^5 + 1 = 33, and 2*5 + 1 = 11. Since 33 is divisible by 11 (33 % 11 = 0), 5 is a\n",
    "Curzon number.\n",
    "    \n",
    "If n = 10: 2^10 + 1 = 1025, and 2*10 + 1 = 21. 1025 is not divisible by 21, so 10 is not a\n",
    "Curzon number.\n",
    "    \n",
    "Curzon numbers are a specific subset of integers with this unique mathematical property.\n"
   ]
  },
  {
   "cell_type": "code",
   "execution_count": 9,
   "id": "329b385f-0080-4ddb-a763-235eb9ccf770",
   "metadata": {},
   "outputs": [
    {
     "name": "stdout",
     "output_type": "stream",
     "text": [
      "False\n",
      "False\n",
      "False\n",
      "True\n",
      "True\n"
     ]
    }
   ],
   "source": [
    "def is_curzon(num):\n",
    "    numerator = 2 ** num +1\n",
    "    denominator = 2 * num+1\n",
    "    return numerator%denominator == 0\n",
    "\n",
    "print(is_curzon(34))\n",
    "print(is_curzon(45))\n",
    "print(is_curzon(10))\n",
    "print(is_curzon(14))\n",
    "print(is_curzon(5))"
   ]
  },
  {
   "cell_type": "markdown",
   "id": "31a2af5c-6342-42b9-9e9a-10c320369a01",
   "metadata": {},
   "source": [
    "## Program 95\n",
    "**Given the side length x find the area of a hexagon.**\n",
    "\n",
    "Examples\n",
    "\n",
    "area_of_hexagon(1) ➞ 2.6\n",
    "\n",
    "area_of_hexagon(2) ➞ 10.4\n",
    "\n",
    "area_of_hexagon(3) ➞ 23.4\n"
   ]
  },
  {
   "cell_type": "code",
   "execution_count": 10,
   "id": "6a55c3ea-bbef-4734-843f-4bd8f6cdf424",
   "metadata": {},
   "outputs": [
    {
     "name": "stdout",
     "output_type": "stream",
     "text": [
      "23.4\n",
      "41.6\n",
      "259.8\n"
     ]
    }
   ],
   "source": [
    "import math\n",
    "\n",
    "def area_of_hexagon(x):\n",
    "    area = (3* math.sqrt(3)*x**2)/2\n",
    "    return round(area ,1)\n",
    "\n",
    "print(area_of_hexagon(3))\n",
    "print(area_of_hexagon(4))\n",
    "print(area_of_hexagon(10))"
   ]
  },
  {
   "cell_type": "markdown",
   "id": "b2bf3ac4-913a-487b-9595-65b2d2a70873",
   "metadata": {},
   "source": [
    "##Program 96\n",
    "**Create a function that returns a base-2 (binary) representation of a base-10 (decimal)\n",
    "string number. To convert is simple: ((2) means base-2 and (10) means base-10)\n",
    "010101001(2) = 1 + 8 + 32 + 128.**\n",
    "\n",
    "**Going from right to left, the value of the most right bit is 1, now from that every bit to\n",
    "the left will be x2 the value, value of an 8 bit binary numbers are (256, 128, 64, 32, 16,\n",
    "8, 4, 2, 1).**\n",
    "\n",
    "Examples\n",
    "\n",
    "binary(1) ➞ \"1\"\n",
    "\n",
    "1*1 = 1\n",
    "\n",
    "binary(5) ➞ \"101\"\n",
    "\n",
    "1*1 + 1*4 = 5\n",
    "\n",
    "binary(10) ➞ 1010\n",
    "\n",
    "1*2 + 1*8 = 10\n"
   ]
  },
  {
   "cell_type": "code",
   "execution_count": 11,
   "id": "89a07e59-9e12-4b5a-92bf-82ba37cc14ba",
   "metadata": {},
   "outputs": [
    {
     "name": "stdout",
     "output_type": "stream",
     "text": [
      "1 \n",
      "101 \n",
      "1010 \n"
     ]
    }
   ],
   "source": [
    "def binary(decimal):\n",
    "    binary_str = \" \"\n",
    "    while decimal > 0:\n",
    "        remainder = decimal % 2\n",
    "        binary_str = str(remainder) + binary_str\n",
    "        decimal = decimal //2\n",
    "    return binary_str if binary_str else \"0\"\n",
    "\n",
    "print(binary(1))\n",
    "print(binary(5))\n",
    "print(binary(10))"
   ]
  },
  {
   "cell_type": "markdown",
   "id": "77f76a36-97a5-486e-97dd-8a5ff8f1c742",
   "metadata": {},
   "source": [
    "## Program 97\n",
    "**Create a function that takes three arguments a, b, c and returns the sum of the\n",
    "numbers that are evenly divided by c from the range a, b inclusive.**\n",
    "\n",
    "Examples\n",
    "\n",
    "evenly_divisible(1, 10, 20) ➞ 0\n",
    "\n",
    "No number between 1 and 10 can be evenly divided by 20.\n",
    "\n",
    "evenly_divisible(1, 10, 2) ➞ 30\n",
    "\n",
    "2 + 4 + 6 + 8 + 10 = 30\n",
    "\n",
    "evenly_divisible(1, 10, 3) ➞ 18\n",
    "\n",
    "3 + 6 + 9 = 18\n"
   ]
  },
  {
   "cell_type": "code",
   "execution_count": 12,
   "id": "52479165-797b-46f7-9e4c-61edf5c7d4c1",
   "metadata": {},
   "outputs": [
    {
     "name": "stdout",
     "output_type": "stream",
     "text": [
      "0\n",
      "30\n",
      "18\n"
     ]
    }
   ],
   "source": [
    "def evenly_divisible (a,b,c):\n",
    "    total = 0\n",
    "    for num in range(a,b+1):\n",
    "        if num%c==0:\n",
    "            total +=num\n",
    "    return total\n",
    "\n",
    "print(evenly_divisible(1, 10, 20))\n",
    "print(evenly_divisible(1, 10, 2))\n",
    "print(evenly_divisible(1, 10, 3))\n",
    "\n"
   ]
  },
  {
   "cell_type": "markdown",
   "id": "37c118f7-7040-42ae-afa4-e334c0d2ab3b",
   "metadata": {},
   "source": [
    "## Program 98\n",
    "**Create a function that returns True if a given inequality expression is correct and\n",
    "False otherwise**\n",
    "\n",
    "#### Examples\n",
    "    \n",
    "correct_signs(\"3 < 7 < 11\") ➞ True\n",
    "    \n",
    "correct_signs(\"13 > 44 > 33 <1\") ➞ False\n",
    "    \n",
    "correct_signs(\"1 < 2 < 6 < 9 > 3\") ➞ True\n"
   ]
  },
  {
   "cell_type": "code",
   "execution_count": 13,
   "id": "e2b02ca4-bbb4-4525-81fc-1651170b5db0",
   "metadata": {},
   "outputs": [
    {
     "name": "stdout",
     "output_type": "stream",
     "text": [
      "True\n",
      "False\n",
      "True\n"
     ]
    }
   ],
   "source": [
    "def correct_signs(expression):\n",
    "    try:\n",
    "        return eval(expression)\n",
    "    except:\n",
    "        return False\n",
    "\n",
    "\n",
    "print(correct_signs(\"3 < 7 < 11\"))\n",
    "print(correct_signs(\"13 > 44 > 33 < 1\"))\n",
    "print(correct_signs(\"1 < 2 < 6 < 9 > 3\"))\n"
   ]
  },
  {
   "cell_type": "markdown",
   "id": "48e4d6c4-a62a-4a68-8962-12c53c55a247",
   "metadata": {},
   "source": [
    "## Program 99\n",
    "\n",
    "**Create a function that replaces all the vowels in a string with a specified character.**\n",
    "\n",
    "Examples\n",
    "\n",
    "replace_vowels(\"the aardvark\", \"#\") ➞ \"th# ##rdv#rk\"\n",
    "\n",
    "replace_vowels(\"minnie mouse\", \"?\") ➞ \"m?nn?? m??s?\"\n",
    "\n",
    "replace_vowels(\"shakespeare\", \"*\") ➞ \"shkspr*\""
   ]
  },
  {
   "cell_type": "code",
   "execution_count": 15,
   "id": "8070d0cd-0158-4ff3-a62e-bbdeb6a7f240",
   "metadata": {},
   "outputs": [
    {
     "name": "stdout",
     "output_type": "stream",
     "text": [
      "th# ##rdv#rk\n",
      "m?nn?? m??s?\n",
      "sh*k*sp**r*\n"
     ]
    }
   ],
   "source": [
    "def replace_vowels(string,char):\n",
    "    vowels='AEIOUaeiou'\n",
    "    for vowel in vowels:\n",
    "        string=string.replace(vowel,char)\n",
    "    return string\n",
    "\n",
    "print(replace_vowels(\"the aardvark\", \"#\"))\n",
    "print(replace_vowels(\"minnie mouse\", \"?\"))\n",
    "print(replace_vowels(\"shakespeare\", \"*\"))"
   ]
  },
  {
   "cell_type": "markdown",
   "id": "93cccdbd-afd3-4567-bafe-5161c93aa73c",
   "metadata": {},
   "source": [
    "## Program 100\n",
    "**Write a function that calculates the factorial of a number recursively.**\n",
    "\n",
    "Examples\n",
    "\n",
    "factorial(5) ➞ 120\n",
    "\n",
    "factorial(3) ➞ 6\n",
    "\n",
    "factorial(1) ➞ 1\n",
    "\n",
    "factorial(0) ➞ 1"
   ]
  },
  {
   "cell_type": "code",
   "execution_count": 17,
   "id": "a47b0b34-e833-48bb-ba02-4a65450dbad0",
   "metadata": {},
   "outputs": [
    {
     "name": "stdout",
     "output_type": "stream",
     "text": [
      "479001600\n",
      "720\n",
      "120\n",
      "1\n"
     ]
    }
   ],
   "source": [
    "def factorial(n):\n",
    "    if n==0:\n",
    "        return 1\n",
    "    else:\n",
    "        return n* factorial(n-1)\n",
    "\n",
    "\n",
    "print(factorial(12))\n",
    "print(factorial(6))\n",
    "print(factorial(5)) \n",
    "print(factorial(0))\n"
   ]
  },
  {
   "cell_type": "markdown",
   "id": "7b23422c-65ad-498b-bd5b-a6412de127cd",
   "metadata": {},
   "source": [
    "## Program 101\n",
    "**Hamming distance is the number of characters that differ between two strings.\n",
    "To illustrate:**\n",
    "    \n",
    "String1: \"abcbba\"\n",
    "    \n",
    "String2: \"abcbda\"\n",
    "\n",
    "Hamming Distance: 1 - \"b\" vs. \"d\" is the only difference.\n",
    "\n",
    "Create a function that computes the hamming distance between two strings.\n",
    "\n",
    "Examples\n",
    "\n",
    "hamming_distance(\"abcde\", \"bcdef\") ➞ 5\n",
    "\n",
    "hamming_distance(\"abcde\", \"abcde\") ➞ 0\n",
    "\n",
    "hamming_distance(\"strong\", \"strung\") ➞ 1\n"
   ]
  },
  {
   "cell_type": "code",
   "execution_count": 19,
   "id": "7df49650-f472-4141-9f32-414fc75d18d3",
   "metadata": {},
   "outputs": [
    {
     "name": "stdout",
     "output_type": "stream",
     "text": [
      "5\n",
      "0\n",
      "1\n"
     ]
    }
   ],
   "source": [
    "def hamming_distance(str1, str2):\n",
    "    if len(str1) !=len(str2):\n",
    "        raise ValueError(\"Input strings must have the same length\")\n",
    "\n",
    "    distance =0\n",
    "\n",
    "    for i in range(len(str1)):\n",
    "        if str1[i] != str2[i]:\n",
    "            distance +=1\n",
    "\n",
    "    return distance\n",
    "\n",
    "print(hamming_distance(\"abcde\",\"bcdef\"))\n",
    "print(hamming_distance(\"abcde\",\"abcde\"))\n",
    "print(hamming_distance(\"strong\",\"strung\"))"
   ]
  },
  {
   "cell_type": "markdown",
   "id": "ac26d414-a936-4643-b424-4f47558ff49f",
   "metadata": {},
   "source": [
    "## Program 102\n",
    "**Create a function that takes a list of non-negative integers and strings and return a\n",
    "new list without the strings.**\n",
    "\n",
    "Examples\n",
    "\n",
    "filter_list([1, 2, \"a\", \"b\"]) ➞ [1, 2]\n",
    "\n",
    "filter_list([1, \"a\", \"b\", 0, 15]) ➞ [1, 0, 15]\n",
    "\n",
    "filter_list([1, 2, \"aasf\", \"1\", \"123\", 123]) ➞ [1, 2, 123]\n"
   ]
  },
  {
   "cell_type": "code",
   "execution_count": 23,
   "id": "e4821c82-22d1-4756-b1e0-8e2fde2630b5",
   "metadata": {},
   "outputs": [],
   "source": [
    "def filter_list(lst):\n",
    "    result = []\n",
    "\n",
    "    for element in lst:\n",
    "        if isinstance(element,int) and element >=0:\n",
    "            result.append(element)\n",
    "    return result\n"
   ]
  },
  {
   "cell_type": "code",
   "execution_count": 24,
   "id": "0f2e3163-84a3-48c3-9ea4-fad9e3db80af",
   "metadata": {},
   "outputs": [
    {
     "data": {
      "text/plain": [
       "[1, 2]"
      ]
     },
     "execution_count": 24,
     "metadata": {},
     "output_type": "execute_result"
    }
   ],
   "source": [
    "filter_list([1, 2, \"a\", \"b\"]) "
   ]
  },
  {
   "cell_type": "code",
   "execution_count": 25,
   "id": "22d0f41e-a33e-432d-b8ba-c12f56a387e9",
   "metadata": {},
   "outputs": [
    {
     "data": {
      "text/plain": [
       "[1, 0, 15]"
      ]
     },
     "execution_count": 25,
     "metadata": {},
     "output_type": "execute_result"
    }
   ],
   "source": [
    "filter_list([1, \"a\", \"b\", 0, 15])"
   ]
  },
  {
   "cell_type": "code",
   "execution_count": 26,
   "id": "08e75cd2-69bb-4a3c-9b78-76e84292aa64",
   "metadata": {},
   "outputs": [
    {
     "data": {
      "text/plain": [
       "[1, 2, 123]"
      ]
     },
     "execution_count": 26,
     "metadata": {},
     "output_type": "execute_result"
    }
   ],
   "source": [
    "filter_list([1, 2, \"aasf\", \"1\", \"123\", 123])\n"
   ]
  },
  {
   "cell_type": "markdown",
   "id": "cd720fd5-8996-40f4-9e11-671d2c0fca08",
   "metadata": {},
   "source": [
    "## Program 103\n",
    "**The \"Reverser\" takes a string as input and returns that string in reverse order, with\n",
    "the opposite case.**\n",
    "\n",
    "Examples\n",
    "\n",
    "reverse(\"Hello World\") ➞ \"DLROw OLLEh\"\n",
    "\n",
    "reverse(\"ReVeRsE\") ➞ \"eSrEvEr\"\n",
    "\n",
    "reverse(\"Radar\") ➞ \"RADAr\""
   ]
  },
  {
   "cell_type": "code",
   "execution_count": 27,
   "id": "737d0ce1-da30-483e-a047-fe9f4808e477",
   "metadata": {},
   "outputs": [],
   "source": [
    "def reverse(input_str):\n",
    "    reversed_str = input_str[::-1].swapcase()\n",
    "\n",
    "    return reversed_str"
   ]
  },
  {
   "cell_type": "code",
   "execution_count": 28,
   "id": "54c817b4-585b-4ef3-9168-1e421d979cfc",
   "metadata": {},
   "outputs": [
    {
     "data": {
      "text/plain": [
       "'DLROw OLLEh'"
      ]
     },
     "execution_count": 28,
     "metadata": {},
     "output_type": "execute_result"
    }
   ],
   "source": [
    "reverse(\"Hello World\")\n"
   ]
  },
  {
   "cell_type": "code",
   "execution_count": 29,
   "id": "ceec0419-aa58-4ad5-9a37-4a251a7de1b3",
   "metadata": {},
   "outputs": [
    {
     "data": {
      "text/plain": [
       "'eSrEvEr'"
      ]
     },
     "execution_count": 29,
     "metadata": {},
     "output_type": "execute_result"
    }
   ],
   "source": [
    "reverse(\"ReVeRsE\")"
   ]
  },
  {
   "cell_type": "code",
   "execution_count": 30,
   "id": "8784e4e8-4f51-485e-93c6-cbab9b106b50",
   "metadata": {},
   "outputs": [
    {
     "data": {
      "text/plain": [
       "'RADAr'"
      ]
     },
     "execution_count": 30,
     "metadata": {},
     "output_type": "execute_result"
    }
   ],
   "source": [
    "reverse(\"Radar\") "
   ]
  },
  {
   "cell_type": "markdown",
   "id": "23e15ebd-5d47-46f1-83e0-32b9b0cc851a",
   "metadata": {},
   "source": [
    "## Program 104\n",
    "**You can assign variables from lists like this:**\n",
    "\n",
    "lst = [1, 2, 3, 4, 5, 6]\n",
    "\n",
    "first = lst[0]\n",
    "\n",
    "middle = lst[1:-1]\n",
    "\n",
    "last = lst[-1]\n",
    "\n",
    "print(first) ➞ outputs 1\n",
    "\n",
    "print(middle) ➞ outputs [2, 3, 4, 5]\n",
    "\n",
    "print(last) ➞ outputs 6\n",
    "\n",
    "**With Python 3, you can assign variables from lists in a much more succinct way.\n",
    "Create variables first, middle and last from the given list using destructuring\n",
    "assignment (check the Resources tab for some examples), where:**\n",
    "\n",
    "first ➞ 1\n",
    "\n",
    "middle ➞ [2, 3, 4, 5]\n",
    "\n",
    "last ➞ 6"
   ]
  },
  {
   "cell_type": "code",
   "execution_count": 32,
   "id": "54ce4051-e030-4e46-b495-996ffae6503e",
   "metadata": {},
   "outputs": [],
   "source": [
    "writeyourcodehere = [1,2,3,4,5,6]\n",
    "first, *middle, last = writeyourcodehere"
   ]
  },
  {
   "cell_type": "code",
   "execution_count": 36,
   "id": "8944093b-0c5e-4c72-b5f5-63b0e268bfc7",
   "metadata": {},
   "outputs": [
    {
     "name": "stdout",
     "output_type": "stream",
     "text": [
      "1\n",
      "[2, 3, 4, 5]\n",
      "6\n"
     ]
    }
   ],
   "source": [
    "print(first)\n",
    "print(middle)\n",
    "print(last)"
   ]
  },
  {
   "cell_type": "markdown",
   "id": "514b324f-f3bc-4fd3-b241-ec14d93d1f07",
   "metadata": {},
   "source": [
    "## Program 105\n",
    "**Write a function that calculates the factorial of a number recursively.**\n",
    "\n",
    "Examples\n",
    "\n",
    "factorial(5) ➞ 120\n",
    "\n",
    "factorial(3) ➞ 6\n",
    "\n",
    "factorial(1) ➞ 1\n",
    "\n",
    "factorial(0) ➞ 1\n"
   ]
  },
  {
   "cell_type": "code",
   "execution_count": 39,
   "id": "d8b85394-a161-41dd-90e0-c9f78f66338f",
   "metadata": {},
   "outputs": [],
   "source": [
    "def factorial(n):\n",
    "    if n==0:\n",
    "        return 1\n",
    "    else:\n",
    "        return n*factorial(n-1)"
   ]
  },
  {
   "cell_type": "code",
   "execution_count": 42,
   "id": "2204a5b4-7e5d-4bd2-9050-8792d9344770",
   "metadata": {},
   "outputs": [
    {
     "name": "stdout",
     "output_type": "stream",
     "text": [
      "120\n",
      "1\n",
      "1\n",
      "6\n"
     ]
    }
   ],
   "source": [
    "print(factorial(5))\n",
    "print(factorial(1))\n",
    "print(factorial(0))\n",
    "print(factorial(3))"
   ]
  },
  {
   "cell_type": "markdown",
   "id": "462a772d-76b5-4602-8530-a672c3c3f930",
   "metadata": {},
   "source": [
    "## Program 106\n",
    "**Write a function that moves all elements of one type to the end of the list.**\n",
    "\n",
    "Examples\n",
    "\n",
    "move_to_end([1, 3, 2, 4, 4, 1], 1) ➞ [3, 2, 4, 4, 1, 1]\n",
    "\n",
    "Move all the 1s to the end of the array.\n",
    "\n",
    "move_to_end([7, 8, 9, 1, 2, 3, 4], 9) ➞ [7, 8, 1, 2, 3, 4, 9]\n",
    "\n",
    "move_to_end([\"a\", \"a\", \"a\", \"b\"], \"a\") ➞ [\"b\", \"a\", \"a\", \"a\"]\n"
   ]
  },
  {
   "cell_type": "code",
   "execution_count": 43,
   "id": "d3cfdb9d-795f-4955-8458-1303865b0f7d",
   "metadata": {},
   "outputs": [],
   "source": [
    "def move_to_end(lst,element):\n",
    "    count=lst.count(element)\n",
    "    lst=[x for x in lst if x!= element]\n",
    "\n",
    "    lst.extend([element]*count)\n",
    "    return lst"
   ]
  },
  {
   "cell_type": "code",
   "execution_count": 44,
   "id": "0024be7c-878d-48bc-8e11-a9b8e65d621e",
   "metadata": {},
   "outputs": [
    {
     "name": "stdout",
     "output_type": "stream",
     "text": [
      "[3, 2, 4, 4, 1, 1]\n",
      "[3, 2, 4, 4, 1, 1]\n",
      "['b', 'a', 'a', 'a']\n"
     ]
    }
   ],
   "source": [
    "print(move_to_end([1, 3, 2, 4, 4, 1], 1))\n",
    "print(move_to_end([1, 3, 2, 4, 4, 1], 1))\n",
    "print(move_to_end([\"a\", \"a\", \"a\", \"b\"], \"a\") )"
   ]
  },
  {
   "cell_type": "markdown",
   "id": "8abc10d5-b26a-4033-b5a9-1dacb3f5028a",
   "metadata": {},
   "source": [
    "## Program 107\n",
    "**Question1**\n",
    "\n",
    "**Create a function that takes a string and returns a string in which each character is\n",
    "repeated once.**\n",
    "    \n",
    "**Examples**\n",
    "    \n",
    "double_char(\"String\") ➞ \"SSttrriinngg\"\n",
    "    \n",
    "double_char(\"Hello World!\") ➞ \"HHeelllloo WWoorrlldd!!\"\n",
    "    \n",
    "double char(\"1234! \") ➞ \"11223344!! \"\n"
   ]
  },
  {
   "cell_type": "code",
   "execution_count": 45,
   "id": "f9c40ab1-228a-4b6a-95c1-e997438c76f7",
   "metadata": {},
   "outputs": [],
   "source": [
    "def double_char(input_str):\n",
    "    doubled_str = \"\"\n",
    "\n",
    "    for char in input_str:\n",
    "        doubled_str += char*2\n",
    "    return doubled_str"
   ]
  },
  {
   "cell_type": "code",
   "execution_count": 46,
   "id": "80ea5af9-2d83-4d35-862e-f7cc485dd911",
   "metadata": {},
   "outputs": [
    {
     "data": {
      "text/plain": [
       "'ssttrriinngg'"
      ]
     },
     "execution_count": 46,
     "metadata": {},
     "output_type": "execute_result"
    }
   ],
   "source": [
    "double_char(\"string\")"
   ]
  },
  {
   "cell_type": "code",
   "execution_count": 47,
   "id": "6bf81949-111c-4d88-93a0-52c48979fced",
   "metadata": {},
   "outputs": [
    {
     "data": {
      "text/plain": [
       "'ddeeeeppaakk'"
      ]
     },
     "execution_count": 47,
     "metadata": {},
     "output_type": "execute_result"
    }
   ],
   "source": [
    "double_char('deepak')"
   ]
  },
  {
   "cell_type": "code",
   "execution_count": 48,
   "id": "b77db270-a458-485c-8578-c6ab1e96f0c4",
   "metadata": {},
   "outputs": [
    {
     "data": {
      "text/plain": [
       "'NNiisshhaa'"
      ]
     },
     "execution_count": 48,
     "metadata": {},
     "output_type": "execute_result"
    }
   ],
   "source": [
    "double_char('Nisha')"
   ]
  },
  {
   "cell_type": "markdown",
   "id": "b61ed355-f99e-425e-a636-ea8ec543b7ef",
   "metadata": {},
   "source": [
    "## Program 108\n",
    "**Create a function that reverses a boolean value and returns the string \"boolean\n",
    "expected\" if another variable type is given.**\n",
    "\n",
    "Examples\n",
    "\n",
    "reverse(True) ➞ False\n",
    "\n",
    "reverse(False) ➞ True\n",
    "\n",
    "reverse(0) ➞ \"boolean expected\"\n",
    "\n",
    "reverse(None) ➞ \"boolean expected\"\n"
   ]
  },
  {
   "cell_type": "code",
   "execution_count": 50,
   "id": "b1a75ea1-b257-4536-b7d1-c2743924bab6",
   "metadata": {},
   "outputs": [
    {
     "data": {
      "text/plain": [
       "False"
      ]
     },
     "execution_count": 50,
     "metadata": {},
     "output_type": "execute_result"
    }
   ],
   "source": [
    "def reverse(value):\n",
    "    if isinstance(value, bool):\n",
    "        return not value\n",
    "    else:\n",
    "        return \"boolean excepted\"\n",
    "reverse(True)"
   ]
  },
  {
   "cell_type": "code",
   "execution_count": 51,
   "id": "3b40915c-c670-4615-bc7a-c840addaa0d8",
   "metadata": {},
   "outputs": [
    {
     "data": {
      "text/plain": [
       "True"
      ]
     },
     "execution_count": 51,
     "metadata": {},
     "output_type": "execute_result"
    }
   ],
   "source": [
    "reverse(False)"
   ]
  },
  {
   "cell_type": "code",
   "execution_count": 53,
   "id": "14633635-67a2-4ba6-a35d-73e0837a5c4e",
   "metadata": {},
   "outputs": [
    {
     "data": {
      "text/plain": [
       "'boolean excepted'"
      ]
     },
     "execution_count": 53,
     "metadata": {},
     "output_type": "execute_result"
    }
   ],
   "source": [
    "reverse(0)"
   ]
  },
  {
   "cell_type": "code",
   "execution_count": 54,
   "id": "69124324-6448-4afb-a31c-00999ed0a502",
   "metadata": {},
   "outputs": [
    {
     "data": {
      "text/plain": [
       "'boolean excepted'"
      ]
     },
     "execution_count": 54,
     "metadata": {},
     "output_type": "execute_result"
    }
   ],
   "source": [
    "reverse(1)"
   ]
  },
  {
   "cell_type": "markdown",
   "id": "cc394a1d-ee47-4765-9caf-f87d93235fa5",
   "metadata": {},
   "source": [
    "## Program 109\n",
    "**Create a function that returns the thickness (in meters) of a piece of paper after\n",
    "folding it n number of times. The paper starts off with a thickness of 0.5mm.**\n",
    "    \n",
    "Examples\n",
    "    \n",
    "num_layers(1) ➞ \"0.001m\"\n",
    "    \n",
    "- Paper folded once is 1mm (equal to 0.001m)\n",
    "    \n",
    "num_layers(4) ➞ \"0.008m\"\n",
    "    \n",
    "- Paper folded 4 times is 8mm (equal to 0.008m)\n",
    "    \n",
    "num_layers(21) ➞ \"1048.576m\"\n",
    "\n",
    "- Paper folded 21 times is 1048576mm (equal to 1048.576m)\n"
   ]
  },
  {
   "cell_type": "code",
   "execution_count": 56,
   "id": "7a932e71-d345-4bd3-a662-20f18f937186",
   "metadata": {},
   "outputs": [],
   "source": [
    "def num_layers(n):\n",
    "    initial_thickness_mm = 0.5\n",
    "    final_thickness_mm = initial_thickness_mm * (2**n)\n",
    "    final_thickness_m =  final_thickness_mm / 1000\n",
    "    return f\"{final_thickness_m:.3f}m\""
   ]
  },
  {
   "cell_type": "code",
   "execution_count": 57,
   "id": "eba1b297-cb2b-4e68-8b5c-41bd3bbea9a6",
   "metadata": {},
   "outputs": [
    {
     "data": {
      "text/plain": [
       "'0.001m'"
      ]
     },
     "execution_count": 57,
     "metadata": {},
     "output_type": "execute_result"
    }
   ],
   "source": [
    "num_layers(1)"
   ]
  },
  {
   "cell_type": "code",
   "execution_count": 58,
   "id": "fe6f137e-c4d3-4de0-9715-755e4b2f520c",
   "metadata": {},
   "outputs": [
    {
     "data": {
      "text/plain": [
       "'0.008m'"
      ]
     },
     "execution_count": 58,
     "metadata": {},
     "output_type": "execute_result"
    }
   ],
   "source": [
    "num_layers(4)"
   ]
  },
  {
   "cell_type": "code",
   "execution_count": 59,
   "id": "8148a114-ab53-47f5-8f8a-175b5ec93529",
   "metadata": {},
   "outputs": [
    {
     "data": {
      "text/plain": [
       "'1048.576m'"
      ]
     },
     "execution_count": 59,
     "metadata": {},
     "output_type": "execute_result"
    }
   ],
   "source": [
    "num_layers(21)"
   ]
  },
  {
   "cell_type": "code",
   "execution_count": 60,
   "id": "800ff9a1-c397-4d41-ab8c-93442411275e",
   "metadata": {},
   "outputs": [
    {
     "data": {
      "text/plain": [
       "'8589934.592m'"
      ]
     },
     "execution_count": 60,
     "metadata": {},
     "output_type": "execute_result"
    }
   ],
   "source": [
    "num_layers(34)"
   ]
  },
  {
   "cell_type": "markdown",
   "id": "0f1f0019-40fa-496c-a988-e75441c462e8",
   "metadata": {},
   "source": [
    "## Program 110\n",
    "\n",
    "**Create a function that takes a single string as argument and returns an ordered list\n",
    "containing the indices of all capital letters in the string.**\n",
    "\n",
    "Examples\n",
    "    \n",
    "index_of_caps(\"eDaBiT\") ➞ [1, 3, 5]\n",
    "    \n",
    "index_of_caps(\"eQuINoX\") ➞ [1, 3, 4, 6]\n",
    "    \n",
    "index_of_caps(\"determine\") ➞ []\n",
    "    \n",
    "index_of_caps(\"STRIKE\") ➞ [0, 1, 2, 3, 4, 5]\n",
    "    \n",
    "index_of_caps(\"sUn\") ➞ [1]\n",
    "\n"
   ]
  },
  {
   "cell_type": "code",
   "execution_count": 64,
   "id": "bc118a6c-bd6e-43ca-93b5-e4d35d8c19d5",
   "metadata": {},
   "outputs": [],
   "source": [
    "def index_of_caps(word):\n",
    "    return [i for i,char in enumerate(word) if char.isupper()]"
   ]
  },
  {
   "cell_type": "code",
   "execution_count": 65,
   "id": "4d0457f2-50cc-4f69-996f-342672e326c3",
   "metadata": {},
   "outputs": [
    {
     "data": {
      "text/plain": [
       "[1, 3, 5]"
      ]
     },
     "execution_count": 65,
     "metadata": {},
     "output_type": "execute_result"
    }
   ],
   "source": [
    "index_of_caps(\"eDaBiT\")\n"
   ]
  },
  {
   "cell_type": "code",
   "execution_count": 66,
   "id": "e7bbf7aa-f68a-47a3-8458-8dcbec1faa55",
   "metadata": {},
   "outputs": [
    {
     "data": {
      "text/plain": [
       "[1, 3, 4, 6]"
      ]
     },
     "execution_count": 66,
     "metadata": {},
     "output_type": "execute_result"
    }
   ],
   "source": [
    "index_of_caps(\"eQuINoX\") "
   ]
  },
  {
   "cell_type": "code",
   "execution_count": 67,
   "id": "a09722fa-2559-4e22-b581-ebb1eb39ea0c",
   "metadata": {},
   "outputs": [
    {
     "data": {
      "text/plain": [
       "[]"
      ]
     },
     "execution_count": 67,
     "metadata": {},
     "output_type": "execute_result"
    }
   ],
   "source": [
    "index_of_caps(\"determine\")\n"
   ]
  },
  {
   "cell_type": "markdown",
   "id": "daede315-d431-4fd0-accb-9336ec616e18",
   "metadata": {},
   "source": [
    "## Program 111\n",
    "**Using list comprehensions, create a function that finds all even numbers from 1 to\n",
    "the given number.**\n",
    "\n",
    "Examples\n",
    "\n",
    "find_even_nums(8) ➞ [2, 4, 6, 8]\n",
    "\n",
    "find_even_nums(4) ➞ [2, 4]\n",
    "\n",
    "find_even_nums(2) ➞ [2]\n"
   ]
  },
  {
   "cell_type": "code",
   "execution_count": 68,
   "id": "1e53787b-baa9-49c1-9e9e-5d6b3059073a",
   "metadata": {},
   "outputs": [],
   "source": [
    "def find_even_nums(num):\n",
    "    return [x for x in range(1,num+1) if x % 2 ==0]"
   ]
  },
  {
   "cell_type": "code",
   "execution_count": 69,
   "id": "ded77449-2de8-4e2b-add6-db1921d60006",
   "metadata": {},
   "outputs": [
    {
     "data": {
      "text/plain": [
       "[2, 4, 6, 8]"
      ]
     },
     "execution_count": 69,
     "metadata": {},
     "output_type": "execute_result"
    }
   ],
   "source": [
    "find_even_nums(8)"
   ]
  },
  {
   "cell_type": "code",
   "execution_count": 70,
   "id": "0516e425-9056-40c8-b887-c63455d3b99c",
   "metadata": {},
   "outputs": [
    {
     "data": {
      "text/plain": [
       "[2, 4]"
      ]
     },
     "execution_count": 70,
     "metadata": {},
     "output_type": "execute_result"
    }
   ],
   "source": [
    "find_even_nums(4)"
   ]
  },
  {
   "cell_type": "code",
   "execution_count": 73,
   "id": "f2850053-98e7-4310-8ac8-f5b88c6bbd17",
   "metadata": {},
   "outputs": [
    {
     "data": {
      "text/plain": [
       "[2,\n",
       " 4,\n",
       " 6,\n",
       " 8,\n",
       " 10,\n",
       " 12,\n",
       " 14,\n",
       " 16,\n",
       " 18,\n",
       " 20,\n",
       " 22,\n",
       " 24,\n",
       " 26,\n",
       " 28,\n",
       " 30,\n",
       " 32,\n",
       " 34,\n",
       " 36,\n",
       " 38,\n",
       " 40,\n",
       " 42,\n",
       " 44,\n",
       " 46,\n",
       " 48,\n",
       " 50,\n",
       " 52,\n",
       " 54,\n",
       " 56,\n",
       " 58,\n",
       " 60,\n",
       " 62,\n",
       " 64,\n",
       " 66,\n",
       " 68,\n",
       " 70,\n",
       " 72,\n",
       " 74,\n",
       " 76,\n",
       " 78,\n",
       " 80,\n",
       " 82,\n",
       " 84,\n",
       " 86,\n",
       " 88,\n",
       " 90]"
      ]
     },
     "execution_count": 73,
     "metadata": {},
     "output_type": "execute_result"
    }
   ],
   "source": [
    "find_even_nums(90 )"
   ]
  },
  {
   "cell_type": "markdown",
   "id": "3cecf4f2-c009-4f27-9731-ea66f09ea18e",
   "metadata": {},
   "source": [
    "## Program 112\n",
    "**Create a function that takes a list of strings and integers, and filters out the list so\n",
    "that it returns a list of integers only.**\n",
    "\n",
    "Examples\n",
    "\n",
    "filter_list([1, 2, 3, \"a\", \"b\", 4]) ➞ [1, 2, 3, 4]\n",
    "\n",
    "filter_list([\"A\", 0, \"Edabit\", 1729, \"Python\", 1729]) ➞ [0, 1729]\n",
    "\n",
    "filter_list([\"Nothing\", \"here\"]) ➞ []\n"
   ]
  },
  {
   "cell_type": "code",
   "execution_count": 74,
   "id": "f6d6899e-cef2-4cb5-a9b7-c1f2e6efe523",
   "metadata": {},
   "outputs": [],
   "source": [
    "def filter_list (lst):\n",
    "    return [ x for x in lst if isinstance(x,int)]"
   ]
  },
  {
   "cell_type": "code",
   "execution_count": 75,
   "id": "cfd30466-00f4-46b9-92dd-b94de2ab1c5a",
   "metadata": {},
   "outputs": [
    {
     "data": {
      "text/plain": [
       "[1, 2, 3, 4]"
      ]
     },
     "execution_count": 75,
     "metadata": {},
     "output_type": "execute_result"
    }
   ],
   "source": [
    "filter_list([1, 2, 3, \"a\", \"b\", 4]) "
   ]
  },
  {
   "cell_type": "code",
   "execution_count": 76,
   "id": "078fe7e3-23ed-4898-a32e-e7a9ca3a32e5",
   "metadata": {},
   "outputs": [
    {
     "data": {
      "text/plain": [
       "[0, 1729, 1729]"
      ]
     },
     "execution_count": 76,
     "metadata": {},
     "output_type": "execute_result"
    }
   ],
   "source": [
    "filter_list([\"A\", 0, \"Edabit\", 1729, \"Python\", 1729]) "
   ]
  },
  {
   "cell_type": "code",
   "execution_count": 77,
   "id": "e4087a66-ff42-47b2-8e69-3dfff3144068",
   "metadata": {},
   "outputs": [
    {
     "data": {
      "text/plain": [
       "[0, 1729, 1729]"
      ]
     },
     "execution_count": 77,
     "metadata": {},
     "output_type": "execute_result"
    }
   ],
   "source": [
    "filter_list([\"A\", 0, \"Edabit\", 1729, \"Python\", 1729])\n"
   ]
  },
  {
   "cell_type": "code",
   "execution_count": 78,
   "id": "8a8850b3-c944-43eb-a137-7f887cb53d82",
   "metadata": {},
   "outputs": [
    {
     "data": {
      "text/plain": [
       "[]"
      ]
     },
     "execution_count": 78,
     "metadata": {},
     "output_type": "execute_result"
    }
   ],
   "source": [
    "filter_list([\"Nothing\", \"here\"])\n"
   ]
  },
  {
   "cell_type": "markdown",
   "id": "1951e649-0f93-42f7-8e8a-4a8391a1fd13",
   "metadata": {},
   "source": [
    "## Program 113\n",
    "**Given a list of numbers, create a function which returns the list but with each\n",
    "element's index in the list added to itself. This means you add 0 to the number at\n",
    "index 0, add 1 to the number at index 1, etc...**\n",
    "    \n",
    "Examples\n",
    "    \n",
    "add_indexes([0, 0, 0, 0, 0]) ➞ [0, 1, 2, 3, 4]\n",
    "\n",
    "add_indexes([1, 2, 3, 4, 5]) ➞ [1, 3, 5, 7, 9]\n",
    "\n",
    "add_indexes([5, 4, 3, 2, 1]) ➞ [5, 5, 5, 5, 5]\n"
   ]
  },
  {
   "cell_type": "code",
   "execution_count": 79,
   "id": "fa75fc84-87e0-4c47-b3a1-b8af5c7763c8",
   "metadata": {},
   "outputs": [],
   "source": [
    "def add_indexes(lst):\n",
    "    return [i + val for i, val in enumerate(lst)]"
   ]
  },
  {
   "cell_type": "code",
   "execution_count": 80,
   "id": "1b6e8818-b89b-4e61-ac75-a9864f53ae27",
   "metadata": {},
   "outputs": [
    {
     "data": {
      "text/plain": [
       "[0, 1, 2, 3, 4]"
      ]
     },
     "execution_count": 80,
     "metadata": {},
     "output_type": "execute_result"
    }
   ],
   "source": [
    "add_indexes([0, 0, 0, 0, 0]) \n"
   ]
  },
  {
   "cell_type": "code",
   "execution_count": 81,
   "id": "4e64090f-addf-4ec6-8926-4e14343c481f",
   "metadata": {},
   "outputs": [
    {
     "data": {
      "text/plain": [
       "[1, 3, 5, 7, 9]"
      ]
     },
     "execution_count": 81,
     "metadata": {},
     "output_type": "execute_result"
    }
   ],
   "source": [
    "add_indexes([1, 2, 3, 4, 5])"
   ]
  },
  {
   "cell_type": "code",
   "execution_count": 82,
   "id": "77e70d5b-5e01-4d3e-b7c2-7b9719a715f2",
   "metadata": {},
   "outputs": [
    {
     "data": {
      "text/plain": [
       "[5, 5, 5, 5, 5]"
      ]
     },
     "execution_count": 82,
     "metadata": {},
     "output_type": "execute_result"
    }
   ],
   "source": [
    "add_indexes([5, 4, 3, 2, 1])"
   ]
  },
  {
   "cell_type": "markdown",
   "id": "32660929-5cb8-4f36-bf96-d82e24b42ada",
   "metadata": {},
   "source": [
    "## Program 114\n",
    "**Create a function that takes the height and radius of a cone as arguments and returns\n",
    "the volume of the cone rounded to the nearest hundredth. See the resources tab for\n",
    "the formula.**\n",
    "                                                                              \n",
    "Examples\n",
    "                                                                              \n",
    "cone_volume(3, 2) ➞ 12.57\n",
    "                                                                              \n",
    "cone_volume(15, 6) ➞ 565.49\n",
    "                                                                              \n",
    "cone_volume(18, 0) ➞ 0"
   ]
  },
  {
   "cell_type": "code",
   "execution_count": 83,
   "id": "27a97ac5-b7a7-412d-b9b0-3a5d915c46c3",
   "metadata": {},
   "outputs": [],
   "source": [
    "import math\n",
    "\n",
    "def cone_volume(height,radius):\n",
    "    if radius ==0:\n",
    "        return 0\n",
    "\n",
    "    volume = (1/3) * math.pi * (radius**2) * height\n",
    "    return round(volume , 2)"
   ]
  },
  {
   "cell_type": "code",
   "execution_count": 84,
   "id": "afe500d4-ca47-4df6-b857-417dd7292b28",
   "metadata": {},
   "outputs": [
    {
     "data": {
      "text/plain": [
       "12.57"
      ]
     },
     "execution_count": 84,
     "metadata": {},
     "output_type": "execute_result"
    }
   ],
   "source": [
    "cone_volume(3, 2)"
   ]
  },
  {
   "cell_type": "code",
   "execution_count": 85,
   "id": "131daf1d-2363-4c25-b97d-9db8f300ccb7",
   "metadata": {},
   "outputs": [
    {
     "data": {
      "text/plain": [
       "565.49"
      ]
     },
     "execution_count": 85,
     "metadata": {},
     "output_type": "execute_result"
    }
   ],
   "source": [
    "cone_volume(15 , 6)"
   ]
  },
  {
   "cell_type": "code",
   "execution_count": 87,
   "id": "fec2b8ef-79cc-495e-9b50-cd839ff79baa",
   "metadata": {},
   "outputs": [
    {
     "data": {
      "text/plain": [
       "0"
      ]
     },
     "execution_count": 87,
     "metadata": {},
     "output_type": "execute_result"
    }
   ],
   "source": [
    "cone_volume(18,0)"
   ]
  },
  {
   "cell_type": "markdown",
   "id": "de25172e-dbc4-4d1f-b022-9acf80189554",
   "metadata": {},
   "source": [
    "## Program 115\n",
    "**This Triangular Number Sequence is generated from a pattern of dots that form a\n",
    "triangle. The first 5 numbers of the sequence, or dots, are:**\n",
    "    \n",
    "1, 3, 6, 10, 15\n",
    "    \n",
    "**This means that the first triangle has just one dot, the second one has three dots, the\n",
    "third one has 6 dots and so on.**\n",
    "    \n",
    "**Write a function that gives the number of dots with its corresponding triangle number\n",
    "of the sequence.**\n",
    "    \n",
    "Examples\n",
    "    \n",
    "triangle(1) ➞ 1\n",
    "    \n",
    "triangle(6) ➞ 21\n",
    "    \n",
    "triangle(215) ➞ 23220"
   ]
  },
  {
   "cell_type": "code",
   "execution_count": 90,
   "id": "f61e80cd-3515-4773-933d-4c55790fe807",
   "metadata": {},
   "outputs": [],
   "source": [
    "def triangle(n):\n",
    "    if n < 1:\n",
    "        return 0\n",
    "    return n*(n+1)//2"
   ]
  },
  {
   "cell_type": "code",
   "execution_count": 91,
   "id": "60f46dbf-20fb-4639-8668-71f5ea33ce82",
   "metadata": {},
   "outputs": [
    {
     "data": {
      "text/plain": [
       "1"
      ]
     },
     "execution_count": 91,
     "metadata": {},
     "output_type": "execute_result"
    }
   ],
   "source": [
    "triangle(1)"
   ]
  },
  {
   "cell_type": "code",
   "execution_count": 92,
   "id": "1633fe37-4cf0-4894-ad66-94c999abc6a0",
   "metadata": {},
   "outputs": [
    {
     "data": {
      "text/plain": [
       "55"
      ]
     },
     "execution_count": 92,
     "metadata": {},
     "output_type": "execute_result"
    }
   ],
   "source": [
    "triangle(10)"
   ]
  },
  {
   "cell_type": "code",
   "execution_count": 93,
   "id": "cd7d3287-fe82-4dd9-b712-47041c4a8333",
   "metadata": {},
   "outputs": [
    {
     "data": {
      "text/plain": [
       "5050"
      ]
     },
     "execution_count": 93,
     "metadata": {},
     "output_type": "execute_result"
    }
   ],
   "source": [
    "trinagle(100)"
   ]
  },
  {
   "cell_type": "code",
   "execution_count": 94,
   "id": "424b21fa-fbad-4f2c-9c11-8fded487039e",
   "metadata": {},
   "outputs": [
    {
     "data": {
      "text/plain": [
       "23220"
      ]
     },
     "execution_count": 94,
     "metadata": {},
     "output_type": "execute_result"
    }
   ],
   "source": [
    "trinagle(215)"
   ]
  },
  {
   "cell_type": "markdown",
   "id": "1a59f1b0-06ee-480a-8dd3-e3de8a39ef3d",
   "metadata": {},
   "source": [
    "## Program 116\n",
    "**Create a function that takes a list of numbers between 1 and 10 (excluding one\n",
    "number) and returns the missing number.**\n",
    "\n",
    "Examples\n",
    "\n",
    "missing_num([1, 2, 3, 4, 6, 7, 8, 9, 10]) ➞ 5\n",
    "\n",
    "missing_num([7, 2, 3, 6, 5, 9, 1, 4, 8]) ➞ 10\n",
    "\n",
    "missing_num([10, 5, 1, 2, 4, 6, 8, 3, 9]) ➞ 7\n"
   ]
  },
  {
   "cell_type": "code",
   "execution_count": 95,
   "id": "1bfb42b9-cfa8-478b-8588-1e06a34ea791",
   "metadata": {},
   "outputs": [],
   "source": [
    "def missing_num(lst):\n",
    "    total_sum = sum(range(1,11))\n",
    "    given_sum = sum(lst)\n",
    "    missing = total_sum - given_sum\n",
    "    return missing"
   ]
  },
  {
   "cell_type": "code",
   "execution_count": 96,
   "id": "958dacad-0d84-42aa-b007-c4b449b4878c",
   "metadata": {},
   "outputs": [
    {
     "data": {
      "text/plain": [
       "5"
      ]
     },
     "execution_count": 96,
     "metadata": {},
     "output_type": "execute_result"
    }
   ],
   "source": [
    "missing_num([1, 2, 3, 4, 6, 7, 8, 9, 10])"
   ]
  },
  {
   "cell_type": "code",
   "execution_count": 97,
   "id": "ec1c9763-ee2f-4839-9305-965f2897910e",
   "metadata": {},
   "outputs": [
    {
     "data": {
      "text/plain": [
       "10"
      ]
     },
     "execution_count": 97,
     "metadata": {},
     "output_type": "execute_result"
    }
   ],
   "source": [
    "missing_num([7, 2, 3, 6, 5, 9, 1, 4, 8])\n"
   ]
  },
  {
   "cell_type": "code",
   "execution_count": 98,
   "id": "0b5660a4-12aa-40a6-a258-7e219342cf39",
   "metadata": {},
   "outputs": [
    {
     "data": {
      "text/plain": [
       "7"
      ]
     },
     "execution_count": 98,
     "metadata": {},
     "output_type": "execute_result"
    }
   ],
   "source": [
    "missing_num([10, 5, 1, 2, 4, 6, 8, 3, 9])\n"
   ]
  },
  {
   "cell_type": "markdown",
   "id": "da67e785-9c65-4ba2-b928-cc522b429329",
   "metadata": {},
   "source": [
    "## Program 117\n",
    "**Write a function that takes a list and a number as arguments. Add the number to the\n",
    "end of the list, then remove the first element of the list. The function should then\n",
    "return the updated list.**\n",
    "\n",
    "Examples\n",
    "\n",
    "next_in_line([5, 6, 7, 8, 9], 1) ➞ [6, 7, 8, 9, 1]\n",
    "\n",
    "next_in_line([7, 6, 3, 23, 17], 10) ➞ [6, 3, 23, 17, 10]\n",
    "\n",
    "next_in_line([1, 10, 20, 42 ], 6) ➞ [10, 20, 42, 6]\n",
    "\n",
    "next_in_line([], 6) ➞ \"No list has been selected\""
   ]
  },
  {
   "cell_type": "code",
   "execution_count": 99,
   "id": "2369a2d2-9d18-49a5-af2b-4888f586b615",
   "metadata": {},
   "outputs": [],
   "source": [
    "def next_in_line(lst,num):\n",
    "    if lst:\n",
    "        lst.pop(0)\n",
    "        lst.append(num)\n",
    "        return lst\n",
    "    else:\n",
    "        return \"No list has been selected\""
   ]
  },
  {
   "cell_type": "code",
   "execution_count": 100,
   "id": "84e675b2-0fd6-46d4-aa86-4bfde082219b",
   "metadata": {},
   "outputs": [
    {
     "data": {
      "text/plain": [
       "[6, 7, 8, 9, 1]"
      ]
     },
     "execution_count": 100,
     "metadata": {},
     "output_type": "execute_result"
    }
   ],
   "source": [
    "next_in_line([5, 6, 7, 8, 9], 1) \n",
    "\n"
   ]
  },
  {
   "cell_type": "code",
   "execution_count": 101,
   "id": "18c5f1df-be11-4bc2-9594-82f8b6fb1257",
   "metadata": {},
   "outputs": [
    {
     "data": {
      "text/plain": [
       "[6, 3, 23, 17, 10]"
      ]
     },
     "execution_count": 101,
     "metadata": {},
     "output_type": "execute_result"
    }
   ],
   "source": [
    "next_in_line([7, 6, 3, 23, 17], 10)\n"
   ]
  },
  {
   "cell_type": "code",
   "execution_count": 102,
   "id": "a302114f-67ef-4e24-935b-56af06531b3b",
   "metadata": {},
   "outputs": [
    {
     "data": {
      "text/plain": [
       "[10, 20, 42, 6]"
      ]
     },
     "execution_count": 102,
     "metadata": {},
     "output_type": "execute_result"
    }
   ],
   "source": [
    "next_in_line([1, 10, 20, 42 ], 6)\n"
   ]
  },
  {
   "cell_type": "code",
   "execution_count": 103,
   "id": "8a2d27b0-5914-429c-b720-f4b1fd0d02bc",
   "metadata": {},
   "outputs": [
    {
     "data": {
      "text/plain": [
       "'No list has been selected'"
      ]
     },
     "execution_count": 103,
     "metadata": {},
     "output_type": "execute_result"
    }
   ],
   "source": [
    "next_in_line([], 6)\n"
   ]
  },
  {
   "cell_type": "markdown",
   "id": "52b4a1f1-fa56-4174-88e1-309a9fb5f749",
   "metadata": {},
   "source": [
    "## Program 118\n",
    "**Create the function that takes a list of dictionaries and returns the sum of people's\n",
    "budgets.**\n",
    "\n",
    "Examples\n",
    "\n",
    "get_budgets([\n",
    "    \n",
    "{ 'name': 'John', 'age': 21, 'budget': 23000 },\n",
    "    \n",
    "{ 'name': 'Steve', 'age': 32, 'budget': 40000 },\n",
    "    \n",
    "{ 'name': 'Martin', 'age': 16, 'budget': 2700 }\n",
    "    \n",
    "]) ➞ 65700\n",
    "\n",
    "get_budgets([\n",
    "    \n",
    "{ 'name': 'John', 'age': 21, 'budget': 29000 },\n",
    "    \n",
    "{ 'name': 'Steve', 'age': 32, 'budget': 32000 },\n",
    "    \n",
    "{ 'name': 'Martin', 'age': 16, 'budget': 1600 }\n",
    "    1m\n",
    "]) ➞ 62600\n"
   ]
  },
  {
   "cell_type": "code",
   "execution_count": 107,
   "id": "fa8d02f4-dfe3-46a9-a9b0-0e48015b7e42",
   "metadata": {},
   "outputs": [],
   "source": [
    "def get_budget(lst):\n",
    "    total_budget = sum(person['budget'] for person in lst)\n",
    "    return total_budget\n",
    "\n",
    "budgets1 = [\n",
    " {'name': 'John', 'age': 21, 'budget': 23000},\n",
    " {'name': 'Steve', 'age': 32, 'budget': 40000},\n",
    " {'name': 'Martin', 'age': 16, 'budget': 2700}\n",
    "]\n",
    "budgets2 = [\n",
    " {'name': 'John', 'age': 21, 'budget': 29000},\n",
    " {'name': 'Steve', 'age': 32, 'budget': 32000},\n",
    " {'name': 'Martin', 'age': 16, 'budget': 1600}\n",
    "]"
   ]
  },
  {
   "cell_type": "code",
   "execution_count": 108,
   "id": "7afadba1-f55c-4f02-90cc-3bd37f55e9f8",
   "metadata": {},
   "outputs": [
    {
     "data": {
      "text/plain": [
       "65700"
      ]
     },
     "execution_count": 108,
     "metadata": {},
     "output_type": "execute_result"
    }
   ],
   "source": [
    "get_budget(budgets1)"
   ]
  },
  {
   "cell_type": "code",
   "execution_count": 110,
   "id": "2df560e0-595c-405f-acc1-9a092db0a1c1",
   "metadata": {},
   "outputs": [
    {
     "data": {
      "text/plain": [
       "62600"
      ]
     },
     "execution_count": 110,
     "metadata": {},
     "output_type": "execute_result"
    }
   ],
   "source": [
    "get_budget(budgets2)"
   ]
  },
  {
   "cell_type": "markdown",
   "id": "ad0e3faf-02d0-4a75-b145-bb9be0108c23",
   "metadata": {},
   "source": [
    "## Program 119\n",
    "**Create a function that takes a string and returns a string with its letters in\n",
    "alphabetical order.**\n",
    "\n",
    "Examples\n",
    "\n",
    "alphabet_soup(\"hello\") ➞ \"ehllo\"\n",
    "\n",
    "alphabet_soup(\"edabit\") ➞ \"abdeit\"\n",
    "\n",
    "alphabet_soup(\"hacker\") ➞ \"acehkr\"\n",
    "\n",
    "alphabet_soup(\"geek\") ➞ \"eegk\"\n",
    "\n",
    "alphabet_soup(\"javascript\") ➞ \"aacijprstv\""
   ]
  },
  {
   "cell_type": "code",
   "execution_count": 111,
   "id": "710ab651-52bd-4d12-b943-7d598e468cb1",
   "metadata": {},
   "outputs": [],
   "source": [
    "def alphabet_soup(txt):\n",
    "    return''.join(sorted(txt))"
   ]
  },
  {
   "cell_type": "code",
   "execution_count": 112,
   "id": "fe630f1a-806a-4d5f-b241-f3cfe60be078",
   "metadata": {},
   "outputs": [
    {
     "data": {
      "text/plain": [
       "'ehllo'"
      ]
     },
     "execution_count": 112,
     "metadata": {},
     "output_type": "execute_result"
    }
   ],
   "source": [
    "alphabet_soup(\"hello\") \n"
   ]
  },
  {
   "cell_type": "code",
   "execution_count": 113,
   "id": "c9d1cb8f-37ab-47c1-8072-f7d2aadb89bd",
   "metadata": {},
   "outputs": [
    {
     "data": {
      "text/plain": [
       "'Daeekp'"
      ]
     },
     "execution_count": 113,
     "metadata": {},
     "output_type": "execute_result"
    }
   ],
   "source": [
    "alphabet_soup(\"Deepak\") \n"
   ]
  },
  {
   "cell_type": "code",
   "execution_count": 114,
   "id": "29e46c38-48d3-49c7-8d92-ce1d4c61fbbc",
   "metadata": {},
   "outputs": [
    {
     "data": {
      "text/plain": [
       "'Nahis'"
      ]
     },
     "execution_count": 114,
     "metadata": {},
     "output_type": "execute_result"
    }
   ],
   "source": [
    "alphabet_soup(\"Nisha\") \n"
   ]
  },
  {
   "cell_type": "code",
   "execution_count": 115,
   "id": "309121ed-e417-4784-a9e3-dc6abaff847b",
   "metadata": {},
   "outputs": [
    {
     "data": {
      "text/plain": [
       "'aacijprstv'"
      ]
     },
     "execution_count": 115,
     "metadata": {},
     "output_type": "execute_result"
    }
   ],
   "source": [
    "alphabet_soup(\"javascript\")"
   ]
  },
  {
   "cell_type": "markdown",
   "id": "6b220cf7-fa80-47d7-80e8-61bff650f9ad",
   "metadata": {},
   "source": [
    "## Program 120\n",
    "**Suppose that you invest $10,000 for 10 years at an interest rate of 6% compounded\n",
    "monthly. What will be the value of your investment at the end of the 10 year period?\n",
    "Create a function that accepts the principal p, the term in years t, the interest rate r,\n",
    "and the number of compounding periods per year n. The function returns the value at\n",
    "the end of term rounded to the nearest cent.**\n",
    "\n",
    "For the example:\n",
    "\n",
    "compound_interest(10000, 10, 0.06, 12) ➞ 18193.97\n",
    "\n",
    "Note that the interest rate is given as a decimal and n=12 because with monthly\n",
    "\n",
    "compounding there are 12 periods per year. Compounding can also be done\n",
    "\n",
    "annually, quarterly, weekly, or daily.\n",
    "\n",
    "Examples\n",
    "\n",
    "compound_interest(100, 1, 0.05, 1) ➞ 105.0\n",
    "\n",
    "compound_interest(3500, 15, 0.1, 4) ➞ 15399.26\n",
    "\n",
    "compound_interest(100000, 20, 0.15, 365) ➞ 2007316.26"
   ]
  },
  {
   "cell_type": "code",
   "execution_count": 116,
   "id": "2e542758-e3fa-4b35-85c5-c550b2453562",
   "metadata": {},
   "outputs": [],
   "source": [
    "def compound_interest(p,t,r,n):\n",
    "    a = p *(1+(r/n)) ** (n*t)\n",
    "    return round(a,2)"
   ]
  },
  {
   "cell_type": "code",
   "execution_count": 117,
   "id": "d3375093-aea5-4651-95c0-bc007846f483",
   "metadata": {},
   "outputs": [
    {
     "data": {
      "text/plain": [
       "18193.97"
      ]
     },
     "execution_count": 117,
     "metadata": {},
     "output_type": "execute_result"
    }
   ],
   "source": [
    "compound_interest(10000, 10, 0.06, 12)\n"
   ]
  },
  {
   "cell_type": "code",
   "execution_count": 118,
   "id": "5e3c008c-c636-4e42-b796-605bf18d108c",
   "metadata": {},
   "outputs": [
    {
     "data": {
      "text/plain": [
       "105.0"
      ]
     },
     "execution_count": 118,
     "metadata": {},
     "output_type": "execute_result"
    }
   ],
   "source": [
    "compound_interest(100, 1, 0.05, 1)\n"
   ]
  },
  {
   "cell_type": "code",
   "execution_count": 119,
   "id": "aa67b624-937f-49b9-9c44-e0606fabc224",
   "metadata": {},
   "outputs": [
    {
     "data": {
      "text/plain": [
       "15399.26"
      ]
     },
     "execution_count": 119,
     "metadata": {},
     "output_type": "execute_result"
    }
   ],
   "source": [
    "compound_interest(3500, 15, 0.1, 4)"
   ]
  },
  {
   "cell_type": "code",
   "execution_count": 120,
   "id": "b83c20ba-3221-48dd-83cb-961b2c4a9d42",
   "metadata": {},
   "outputs": [
    {
     "data": {
      "text/plain": [
       "2007316.26"
      ]
     },
     "execution_count": 120,
     "metadata": {},
     "output_type": "execute_result"
    }
   ],
   "source": [
    "compound_interest(100000, 20, 0.15, 365)\n"
   ]
  },
  {
   "cell_type": "markdown",
   "id": "61143591-bfad-4df5-89f8-354abef8db87",
   "metadata": {},
   "source": [
    "## Program 121\n",
    "**Write a function that takes a list of elements and returns only the integers.**\n",
    "\n",
    "Examples\n",
    "\n",
    "return_only_integer([9, 2, \"space\", \"car\", \"lion\", 16]) ➞ [9, 2, 16]\n",
    "\n",
    "return_only_integer([\"hello\", 81, \"basketball\", 123, \"fox\"]) ➞ [81, 123]\n",
    "\n",
    "return_only_integer([10, \"121\", 56, 20, \"car\", 3, \"lion\"]) ➞ [10, 56, 20,3]\n",
    "\n",
    "return_only_integer([\"String\", True, 3.3, 1]) ➞ [1]"
   ]
  },
  {
   "cell_type": "code",
   "execution_count": 133,
   "id": "b514756b-4ac8-458b-b017-ab5808c03d27",
   "metadata": {},
   "outputs": [],
   "source": [
    "def return_only_integer(lst):\n",
    "    return [x for x in lst if isinstance(x,int)  and not isinstance(x,bool)]"
   ]
  },
  {
   "cell_type": "code",
   "execution_count": 134,
   "id": "b5561dbf-4e53-4169-b803-e5f0b0bb58ea",
   "metadata": {},
   "outputs": [
    {
     "data": {
      "text/plain": [
       "[9, 2, 16]"
      ]
     },
     "execution_count": 134,
     "metadata": {},
     "output_type": "execute_result"
    }
   ],
   "source": [
    "return_only_integer([9, 2, \"space\", \"car\", \"lion\", 16])"
   ]
  },
  {
   "cell_type": "code",
   "execution_count": 135,
   "id": "235bb44c-0cbf-4cc6-ac25-47c982a0f63c",
   "metadata": {},
   "outputs": [
    {
     "data": {
      "text/plain": [
       "[81, 123]"
      ]
     },
     "execution_count": 135,
     "metadata": {},
     "output_type": "execute_result"
    }
   ],
   "source": [
    "return_only_integer([\"hello\", 81, \"basketball\", 123, \"fox\"]) \n"
   ]
  },
  {
   "cell_type": "code",
   "execution_count": 136,
   "id": "eff8b2a2-0e9d-439a-81ba-ab349a40b00b",
   "metadata": {},
   "outputs": [
    {
     "data": {
      "text/plain": [
       "[10, 56, 20, 3]"
      ]
     },
     "execution_count": 136,
     "metadata": {},
     "output_type": "execute_result"
    }
   ],
   "source": [
    "return_only_integer([10, \"121\", 56, 20, \"car\", 3, \"lion\"]) \n"
   ]
  },
  {
   "cell_type": "code",
   "execution_count": 137,
   "id": "a8115119-8dff-4a7e-bede-ac74d157868f",
   "metadata": {},
   "outputs": [
    {
     "data": {
      "text/plain": [
       "[1]"
      ]
     },
     "execution_count": 137,
     "metadata": {},
     "output_type": "execute_result"
    }
   ],
   "source": [
    "return_only_integer([\"String\", True, 3.3, 1])\n"
   ]
  },
  {
   "cell_type": "markdown",
   "id": "f495f135-7ad5-44d2-851f-d637fd45f704",
   "metadata": {},
   "source": [
    "## Program 122\n",
    "\n",
    "**Create a function that takes three parameters where:**\n",
    "    \n",
    "- x is the start of the range (inclusive).\n",
    "\n",
    "- y is the end of the range (inclusive).\n",
    "\n",
    "- n is the divisor to be checked against.\n",
    "\n",
    "Return an ordered list with numbers in the range that are divisible by the third\n",
    "\n",
    "parameter n.\n",
    "\n",
    "Return an empty list if there are no numbers that are divisible by n.\n",
    "    \n",
    "Examples\n",
    "    \n",
    "list_operation(1, 10, 3) ➞ [3, 6, 9]\n",
    "    \n",
    "list_operation(7, 9, 2) ➞ [8]\n",
    "    \n",
    "list_operation(15, 20, 7) ➞ []"
   ]
  },
  {
   "cell_type": "code",
   "execution_count": 139,
   "id": "97f9568d-6bb2-4bac-a612-0058726327dc",
   "metadata": {},
   "outputs": [],
   "source": [
    "def list_operation(x,y,n):\n",
    "    return [num for num in range(x,y+1) if num % n ==0]"
   ]
  },
  {
   "cell_type": "code",
   "execution_count": 141,
   "id": "2a020066-9ab5-4146-a61c-527ef5f07578",
   "metadata": {},
   "outputs": [
    {
     "data": {
      "text/plain": [
       "[2, 4, 6, 8, 10]"
      ]
     },
     "execution_count": 141,
     "metadata": {},
     "output_type": "execute_result"
    }
   ],
   "source": [
    "list_operation(1,10,2)"
   ]
  },
  {
   "cell_type": "code",
   "execution_count": 142,
   "id": "0cf622c4-cad4-4418-8844-7cce45d09d0e",
   "metadata": {},
   "outputs": [
    {
     "data": {
      "text/plain": [
       "[3, 6, 9]"
      ]
     },
     "execution_count": 142,
     "metadata": {},
     "output_type": "execute_result"
    }
   ],
   "source": [
    "list_operation(1, 10, 3)\n"
   ]
  },
  {
   "cell_type": "code",
   "execution_count": 143,
   "id": "21bfacff-de6d-49c6-9968-5b57b677581c",
   "metadata": {},
   "outputs": [
    {
     "data": {
      "text/plain": [
       "[]"
      ]
     },
     "execution_count": 143,
     "metadata": {},
     "output_type": "execute_result"
    }
   ],
   "source": [
    "list_operation(15, 20, 7)\n"
   ]
  },
  {
   "cell_type": "markdown",
   "id": "89c332d7-9d63-4a54-bbcb-b0e70b20d474",
   "metadata": {},
   "source": [
    "## Program 123\n",
    "**Create a function that takes in two lists and returns True if the second list follows the\n",
    "first list by one element, and False otherwise. In other words, determine if the second\n",
    "list is the first list shifted to the right by 1.**\n",
    "\n",
    "Examples\n",
    "\n",
    "simon_says([1, 2], [5, 1]) ➞ True\n",
    "\n",
    "simon_says([1, 2], [5, 5]) ➞ False\n",
    "\n",
    "simon_says([1, 2, 3, 4, 5], [0, 1, 2, 3, 4]) ➞ True\n",
    "\n",
    "simon_says([1, 2, 3, 4, 5], [5, 5, 1, 2, 3]) ➞ False\n",
    "\n",
    "Notes:\n",
    "\n",
    "- Both input lists will be of the same length, and will have a minimum length of 2.\n",
    "\n",
    "- The values of the 0-indexed element in the second list and the n-1th indexed\n",
    "\n",
    "element in the first list do not matter.\n"
   ]
  },
  {
   "cell_type": "code",
   "execution_count": 148,
   "id": "98293a4f-02f1-46e7-8f6a-a3c7a2cfd7db",
   "metadata": {},
   "outputs": [],
   "source": [
    "def simon_says(list1,list2):\n",
    "    return list1[:-1] == list2[1:]"
   ]
  },
  {
   "cell_type": "code",
   "execution_count": 149,
   "id": "a9e44a6d-c7b7-4774-96da-be9fefb6e4b3",
   "metadata": {},
   "outputs": [
    {
     "data": {
      "text/plain": [
       "True"
      ]
     },
     "execution_count": 149,
     "metadata": {},
     "output_type": "execute_result"
    }
   ],
   "source": [
    "simon_says([1,2],[5,1])"
   ]
  },
  {
   "cell_type": "code",
   "execution_count": 150,
   "id": "2f6b92eb-e8c0-4592-8c86-92f7b62d6acc",
   "metadata": {},
   "outputs": [
    {
     "data": {
      "text/plain": [
       "False"
      ]
     },
     "execution_count": 150,
     "metadata": {},
     "output_type": "execute_result"
    }
   ],
   "source": [
    "simon_says([1, 2], [5, 5])\n"
   ]
  },
  {
   "cell_type": "code",
   "execution_count": 151,
   "id": "4a4dd6cf-9e34-4d39-84ee-4b47512da78b",
   "metadata": {},
   "outputs": [
    {
     "data": {
      "text/plain": [
       "True"
      ]
     },
     "execution_count": 151,
     "metadata": {},
     "output_type": "execute_result"
    }
   ],
   "source": [
    "simon_says([1, 2, 3, 4, 5], [0, 1, 2, 3, 4])\n"
   ]
  },
  {
   "cell_type": "code",
   "execution_count": 152,
   "id": "90d7810b-08d1-4336-8325-696e852ea069",
   "metadata": {},
   "outputs": [
    {
     "data": {
      "text/plain": [
       "False"
      ]
     },
     "execution_count": 152,
     "metadata": {},
     "output_type": "execute_result"
    }
   ],
   "source": [
    "simon_says([1, 2, 3, 4, 5], [5, 5, 1, 2, 3])"
   ]
  },
  {
   "cell_type": "markdown",
   "id": "4cf9a9e2-131e-4d5d-a8c7-6c163d81a2c4",
   "metadata": {},
   "source": [
    "## Program 124\n",
    "**A group of friends have decided to start a secret society. The name will be the first\n",
    "letter of each of their names, sorted in alphabetical order. Create a function that takes\n",
    "in a list of names and returns the name of the secret society.**\n",
    "    \n",
    "Examples\n",
    "    \n",
    "society_name([\"Adam\", \"Sarah\", \"Malcolm\"]) ➞ \"AMS\"\n",
    "    \n",
    "society_name([\"Harry\", \"Newt\", \"Luna\", \"Cho\"]) ➞ \"CHLN\"\n",
    "    \n",
    "society_name([\"Phoebe\", \"Chandler\", \"Rachel\", \"Ross\", \"Monica\", \"Joey\"])\n"
   ]
  },
  {
   "cell_type": "code",
   "execution_count": 1,
   "id": "3f165a25-a33b-40b9-8bdf-41f85081b5db",
   "metadata": {},
   "outputs": [],
   "source": [
    "def society_name(names):\n",
    "    secret_name = ''.join(sorted([name[0] for name in names]))\n",
    "    return secret_name"
   ]
  },
  {
   "cell_type": "code",
   "execution_count": 2,
   "id": "358a0b41-df34-430e-acbd-e977696cab00",
   "metadata": {},
   "outputs": [
    {
     "data": {
      "text/plain": [
       "'AMS'"
      ]
     },
     "execution_count": 2,
     "metadata": {},
     "output_type": "execute_result"
    }
   ],
   "source": [
    "society_name([\"Adam\", \"Sarah\", \"Malcolm\"])"
   ]
  },
  {
   "cell_type": "code",
   "execution_count": 3,
   "id": "74d9c4fc-6cba-45eb-9180-0a6292903391",
   "metadata": {},
   "outputs": [
    {
     "data": {
      "text/plain": [
       "'CHLN'"
      ]
     },
     "execution_count": 3,
     "metadata": {},
     "output_type": "execute_result"
    }
   ],
   "source": [
    "society_name([\"Harry\", \"Newt\", \"Luna\", \"Cho\"])"
   ]
  },
  {
   "cell_type": "code",
   "execution_count": 4,
   "id": "790e600c-38a2-4141-99dc-c2a056d59f87",
   "metadata": {},
   "outputs": [
    {
     "data": {
      "text/plain": [
       "'CJMPRR'"
      ]
     },
     "execution_count": 4,
     "metadata": {},
     "output_type": "execute_result"
    }
   ],
   "source": [
    "society_name([\"Phoebe\", \"Chandler\", \"Rachel\", \"Ross\", \"Monica\", \"Joey\"])"
   ]
  },
  {
   "cell_type": "markdown",
   "id": "e9211033-af2d-4354-8127-3a0501ea366c",
   "metadata": {},
   "source": [
    "## Program 125\n",
    "**An isogram is a word that has no duplicate letters. Create a function that takes a\n",
    "string and returns either True or False depending on whether or not it's an \"isogram\"**\n",
    "\n",
    "Examples\n",
    "\n",
    "is_isogram(\"Algorism\") ➞ True\n",
    "\n",
    "is_isogram(\"PasSword\") ➞ False\n",
    "\n",
    "- Not case sensitive.\n",
    "    \n",
    "is_isogram(\"Consecutive\") ➞ False\n",
    "\n",
    "Notes\n",
    "\n",
    "Ignore letter case (should not be case sensitive).\n",
    "\n",
    "All test cases contain valid one word strings.\n"
   ]
  },
  {
   "cell_type": "code",
   "execution_count": 8,
   "id": "50d7572b-e03d-47e3-afce-16130f7fe73e",
   "metadata": {},
   "outputs": [],
   "source": [
    "def is_isogram(word):\n",
    "    word = word.lower()\n",
    "\n",
    "    unique_letters = set ()\n",
    "\n",
    "    for letter in word:\n",
    "        if letter in unique_letters:\n",
    "            return False\n",
    "\n",
    "        unique_letters.add(letter)\n",
    "    return True"
   ]
  },
  {
   "cell_type": "code",
   "execution_count": 9,
   "id": "a51d79d9-8032-4b54-8b81-0f759515836d",
   "metadata": {},
   "outputs": [
    {
     "data": {
      "text/plain": [
       "True"
      ]
     },
     "execution_count": 9,
     "metadata": {},
     "output_type": "execute_result"
    }
   ],
   "source": [
    "is_isogram(\"Algorism\")\n"
   ]
  },
  {
   "cell_type": "code",
   "execution_count": 10,
   "id": "187e8269-d234-4534-a071-1a0983658cc2",
   "metadata": {},
   "outputs": [
    {
     "data": {
      "text/plain": [
       "False"
      ]
     },
     "execution_count": 10,
     "metadata": {},
     "output_type": "execute_result"
    }
   ],
   "source": [
    "is_isogram(\"PasSword\") "
   ]
  },
  {
   "cell_type": "code",
   "execution_count": 11,
   "id": "124bcb75-2279-4226-af54-694bee923bc1",
   "metadata": {},
   "outputs": [
    {
     "data": {
      "text/plain": [
       "False"
      ]
     },
     "execution_count": 11,
     "metadata": {},
     "output_type": "execute_result"
    }
   ],
   "source": [
    "is_isogram(\"Consecutive\")\n"
   ]
  },
  {
   "cell_type": "markdown",
   "id": "3238e908-68e6-4398-bb25-12858e541dc0",
   "metadata": {},
   "source": [
    "## Program 126\n",
    "**Create a function that takes a string and returns True or False, depending on whether\n",
    "the characters are in order or not.**\n",
    "    \n",
    "Examples\n",
    "    \n",
    "is_in_order(\"abc\") ➞ True\n",
    "\n",
    "is_in_order(\"edabit\") ➞ False\n",
    "\n",
    "is_in_order(\"123\") ➞ True\n",
    "\n",
    "is_in_order(\"xyzz\") ➞ True\n",
    "\n",
    "Notes\n",
    "\n",
    "You don't have to handle empty strings."
   ]
  },
  {
   "cell_type": "code",
   "execution_count": 12,
   "id": "6bcdea61-1178-41a5-8168-b4cc4a5e66e6",
   "metadata": {},
   "outputs": [],
   "source": [
    "def is_in_order(s):\n",
    "\n",
    "        return s == ''.join(sorted(s))"
   ]
  },
  {
   "cell_type": "code",
   "execution_count": 13,
   "id": "828ce381-edaf-440a-89b1-872f6addd980",
   "metadata": {},
   "outputs": [
    {
     "data": {
      "text/plain": [
       "True"
      ]
     },
     "execution_count": 13,
     "metadata": {},
     "output_type": "execute_result"
    }
   ],
   "source": [
    "is_in_order(\"abc\") \n"
   ]
  },
  {
   "cell_type": "code",
   "execution_count": 14,
   "id": "3322ac06-f546-4651-a9b7-da7c5e97f469",
   "metadata": {},
   "outputs": [
    {
     "data": {
      "text/plain": [
       "False"
      ]
     },
     "execution_count": 14,
     "metadata": {},
     "output_type": "execute_result"
    }
   ],
   "source": [
    "is_in_order(\"edabit\")"
   ]
  },
  {
   "cell_type": "code",
   "execution_count": 15,
   "id": "76add7a2-1303-448e-9135-40f9843be338",
   "metadata": {},
   "outputs": [
    {
     "data": {
      "text/plain": [
       "True"
      ]
     },
     "execution_count": 15,
     "metadata": {},
     "output_type": "execute_result"
    }
   ],
   "source": [
    "is_in_order(\"xyzz\")"
   ]
  },
  {
   "cell_type": "markdown",
   "id": "2106a098-23da-4d69-b598-4195ecbd8667",
   "metadata": {},
   "source": [
    "## Program 127\n",
    "**Create a function that takes a number as an argument and returns True or False\n",
    "depending on whether the number is symmetrical or not. A number is symmetrical\n",
    "when it is the same as its reverse.**\n",
    "\n",
    "Examples\n",
    "\n",
    "is_symmetrical(7227) ➞ True\n",
    "\n",
    "is_symmetrical(12567) ➞ False\n",
    "\n",
    "is_symmetrical(44444444) ➞ True\n",
    "\n",
    "is_symmetrical(9939) ➞ False\n",
    "\n",
    "is_symmetrical(1112111) ➞ True"
   ]
  },
  {
   "cell_type": "code",
   "execution_count": 16,
   "id": "1fabbaa9-02fa-465b-8377-77d96bd5fe30",
   "metadata": {},
   "outputs": [],
   "source": [
    "def is_symmetrical(num):\n",
    "    num_str = str(num)\n",
    "\n",
    "    return num_str == num_str[::-1]"
   ]
  },
  {
   "cell_type": "code",
   "execution_count": 17,
   "id": "da0ba3eb-801c-4bee-ae66-a9a294b94d36",
   "metadata": {},
   "outputs": [
    {
     "data": {
      "text/plain": [
       "False"
      ]
     },
     "execution_count": 17,
     "metadata": {},
     "output_type": "execute_result"
    }
   ],
   "source": [
    "is_symmetrical(12567)"
   ]
  },
  {
   "cell_type": "code",
   "execution_count": 18,
   "id": "5ce390eb-5e97-4cc7-924a-33506083612a",
   "metadata": {},
   "outputs": [
    {
     "data": {
      "text/plain": [
       "True"
      ]
     },
     "execution_count": 18,
     "metadata": {},
     "output_type": "execute_result"
    }
   ],
   "source": [
    "is_symmetrical(44444444)\n"
   ]
  },
  {
   "cell_type": "code",
   "execution_count": 19,
   "id": "5c4feed8-e224-4723-b6d8-de1e13fabdd0",
   "metadata": {},
   "outputs": [
    {
     "data": {
      "text/plain": [
       "True"
      ]
     },
     "execution_count": 19,
     "metadata": {},
     "output_type": "execute_result"
    }
   ],
   "source": [
    "is_symmetrical(44444444) \n"
   ]
  },
  {
   "cell_type": "code",
   "execution_count": 20,
   "id": "cf8a9a19-f7f1-41de-9547-bf399e465516",
   "metadata": {},
   "outputs": [
    {
     "data": {
      "text/plain": [
       "True"
      ]
     },
     "execution_count": 20,
     "metadata": {},
     "output_type": "execute_result"
    }
   ],
   "source": [
    "is_symmetrical(1112111)"
   ]
  },
  {
   "cell_type": "markdown",
   "id": "4959f084-86c4-45b5-ae2d-5840c0b76e4b",
   "metadata": {},
   "source": [
    "## Program 128\n",
    "**Given a string of numbers separated by a comma and space, return the product of\n",
    "the numbers.**\n",
    "    \n",
    "Examples\n",
    "    \n",
    "multiply_nums(\"2, 3\") ➞ 6\n",
    "    \n",
    "multiply_nums(\"1, 2, 3, 4\") ➞ 24\n",
    "    \n",
    "multiply_nums(\"54, 75, 453, 0\") ➞ 0\n",
    "    \n",
    "multiply_nums(\"10, -2\") ➞ -20\n"
   ]
  },
  {
   "cell_type": "code",
   "execution_count": 42,
   "id": "d3cd345d-205b-4b93-bccf-98f28f0cd6da",
   "metadata": {},
   "outputs": [],
   "source": [
    "def multiply_nums(nums_str):\n",
    " # Split the input string by comma and space, then convert to intege\n",
    "    nums = [int(num) for num in nums_str.split(\", \")]\n",
    " \n",
    " # Initialize the result with 1\n",
    "    result = 1\n",
    " \n",
    " # Multiply all the numbers together\n",
    "    for num in nums:\n",
    "        result *= num\n",
    " \n",
    "    return result\n",
    "    "
   ]
  },
  {
   "cell_type": "code",
   "execution_count": 43,
   "id": "41a746ee-54de-4022-9477-07e311a59350",
   "metadata": {},
   "outputs": [
    {
     "data": {
      "text/plain": [
       "6"
      ]
     },
     "execution_count": 43,
     "metadata": {},
     "output_type": "execute_result"
    }
   ],
   "source": [
    "multiply_nums(\"2, 3\") "
   ]
  },
  {
   "cell_type": "code",
   "execution_count": 44,
   "id": "f36723ee-752f-4857-852c-dbe09a8d15f5",
   "metadata": {},
   "outputs": [
    {
     "data": {
      "text/plain": [
       "24"
      ]
     },
     "execution_count": 44,
     "metadata": {},
     "output_type": "execute_result"
    }
   ],
   "source": [
    "multiply_nums(\"1, 2, 3, 4\")"
   ]
  },
  {
   "cell_type": "code",
   "execution_count": 45,
   "id": "f6ca61d3-b1aa-4fa8-a58d-98dfec799882",
   "metadata": {},
   "outputs": [
    {
     "data": {
      "text/plain": [
       "0"
      ]
     },
     "execution_count": 45,
     "metadata": {},
     "output_type": "execute_result"
    }
   ],
   "source": [
    "multiply_nums(\"54, 75, 453, 0\") "
   ]
  },
  {
   "cell_type": "code",
   "execution_count": 46,
   "id": "0524e1b5-875f-4548-89d2-aaa25eb827d6",
   "metadata": {},
   "outputs": [
    {
     "data": {
      "text/plain": [
       "-20"
      ]
     },
     "execution_count": 46,
     "metadata": {},
     "output_type": "execute_result"
    }
   ],
   "source": [
    "multiply_nums(\"10, -2\")\n"
   ]
  },
  {
   "cell_type": "markdown",
   "id": "55ec1842-75f9-48f9-98a4-7d53d1b28ced",
   "metadata": {},
   "source": [
    "## Program 129\n",
    "\n",
    "**Create a function that squares every digit of a number.**\n",
    "    \n",
    "Examples\n",
    "    \n",
    "square_digits(9119) ➞ 811181\n",
    "    \n",
    "square_digits(2483) ➞ 416649\n",
    "    \n",
    "square_digits(3212) ➞ 9414\n",
    "    \n",
    "Notes\n",
    "    \n",
    "The function receives an integer and must return an integer."
   ]
  },
  {
   "cell_type": "code",
   "execution_count": 47,
   "id": "88a63110-0026-439f-8f48-dbe8e1f2695d",
   "metadata": {},
   "outputs": [],
   "source": [
    "def square_digits(n):\n",
    "    num_str = str (n)\n",
    "    result_str = \"\"\n",
    "\n",
    "    for digit in num_str:\n",
    "        squared_digit = int(digit) ** 2\n",
    "        result_str += str(squared_digit)\n",
    "    return int(result_str)"
   ]
  },
  {
   "cell_type": "code",
   "execution_count": 48,
   "id": "438dc311-3404-4e11-9f14-87c4d6c2a638",
   "metadata": {},
   "outputs": [
    {
     "data": {
      "text/plain": [
       "811181"
      ]
     },
     "execution_count": 48,
     "metadata": {},
     "output_type": "execute_result"
    }
   ],
   "source": [
    "square_digits(9119) "
   ]
  },
  {
   "cell_type": "code",
   "execution_count": 49,
   "id": "cdaf23c1-6d7f-4e51-91d8-fd9d16ec4491",
   "metadata": {},
   "outputs": [
    {
     "data": {
      "text/plain": [
       "416649"
      ]
     },
     "execution_count": 49,
     "metadata": {},
     "output_type": "execute_result"
    }
   ],
   "source": [
    "square_digits(2483)"
   ]
  },
  {
   "cell_type": "code",
   "execution_count": 50,
   "id": "1826450a-7adf-4eea-9e20-9b80bda7b3a5",
   "metadata": {},
   "outputs": [
    {
     "data": {
      "text/plain": [
       "9414"
      ]
     },
     "execution_count": 50,
     "metadata": {},
     "output_type": "execute_result"
    }
   ],
   "source": [
    "square_digits(3212) "
   ]
  },
  {
   "cell_type": "markdown",
   "id": "13e667ef-469b-468d-a098-f178454df837",
   "metadata": {},
   "source": [
    "## Program 130\n",
    "\n",
    "**Create a function that sorts a list and removes all duplicate items from it.**\n",
    "\n",
    "Examples\n",
    "\n",
    "setify([1, 3, 3, 5, 5]) ➞ [1, 3, 5]\n",
    "\n",
    "setify([4, 4, 4, 4]) ➞ [4]\n",
    "\n",
    "setify([5, 7, 8, 9, 10, 15]) ➞ [5, 7, 8, 9, 10, 15]\n",
    "\n",
    "setify([3, 3, 3, 2, 1]) ➞ [1, 2, 3]"
   ]
  },
  {
   "cell_type": "code",
   "execution_count": 51,
   "id": "733000ee-652f-4ac5-a112-31c96b513276",
   "metadata": {},
   "outputs": [],
   "source": [
    "def setify(lst):\n",
    "    unique_set = set(sorted(lst))\n",
    "\n",
    "    return list(unique_set)"
   ]
  },
  {
   "cell_type": "code",
   "execution_count": 52,
   "id": "4660014a-7885-4c75-83c5-b47723513f80",
   "metadata": {},
   "outputs": [
    {
     "data": {
      "text/plain": [
       "[1, 3, 5]"
      ]
     },
     "execution_count": 52,
     "metadata": {},
     "output_type": "execute_result"
    }
   ],
   "source": [
    "setify([1, 3, 3, 5, 5])"
   ]
  },
  {
   "cell_type": "code",
   "execution_count": 53,
   "id": "131dd3d8-38f2-405d-acc3-e51ea47e3fb4",
   "metadata": {},
   "outputs": [
    {
     "data": {
      "text/plain": [
       "[4]"
      ]
     },
     "execution_count": 53,
     "metadata": {},
     "output_type": "execute_result"
    }
   ],
   "source": [
    "setify([4, 4, 4, 4]) "
   ]
  },
  {
   "cell_type": "code",
   "execution_count": 54,
   "id": "12e38e97-442f-4471-ab16-50ef437f20c4",
   "metadata": {},
   "outputs": [
    {
     "data": {
      "text/plain": [
       "[1, 2, 3]"
      ]
     },
     "execution_count": 54,
     "metadata": {},
     "output_type": "execute_result"
    }
   ],
   "source": [
    "setify([3, 3, 3, 2, 1])"
   ]
  },
  {
   "cell_type": "code",
   "execution_count": 55,
   "id": "9869501a-25b9-4e31-8082-bf026ede8ca2",
   "metadata": {},
   "outputs": [
    {
     "data": {
      "text/plain": [
       "[5, 7, 8, 9, 10, 15]"
      ]
     },
     "execution_count": 55,
     "metadata": {},
     "output_type": "execute_result"
    }
   ],
   "source": [
    "setify([5, 7, 8, 9, 10, 15])"
   ]
  },
  {
   "cell_type": "markdown",
   "id": "9f189d9f-086e-4d6e-8ba1-4972f2c55ca0",
   "metadata": {},
   "source": [
    "## Program 131\n",
    "\n",
    "**Create a function that returns the mean of all digits.**\n",
    "    \n",
    "Examples\n",
    "    \n",
    "mean(42) ➞ 3\n",
    "    \n",
    "mean(12345) ➞ 3\n",
    "    \n",
    "mean(666) ➞ 6\n",
    "    \n",
    "Notes\n",
    "    \n",
    "The mean of all digits is the sum of digits / how many digits there are (e.g. mean\n",
    "                                                                         \n",
    "of digits in 512 is (5+1+2)/3(number of digits) = 8/3=2).\n",
    "\n",
    "The mean will always be an integer.\n"
   ]
  },
  {
   "cell_type": "code",
   "execution_count": 56,
   "id": "aba16c8f-5e8f-4173-a8e4-f96f8b7e964d",
   "metadata": {},
   "outputs": [],
   "source": [
    "def mean(n):\n",
    "    n_str = str(n)\n",
    "    digit_sum = sum (int(digit) for digit in n_str)\n",
    "\n",
    "    digit_count = len(n_str)\n",
    "    digit_mean = digit_sum/digit_count\n",
    "\n",
    "    return int(digit_mean)"
   ]
  },
  {
   "cell_type": "code",
   "execution_count": 57,
   "id": "4deb87a3-9711-4dea-abc9-aba4bba20adc",
   "metadata": {},
   "outputs": [
    {
     "data": {
      "text/plain": [
       "3"
      ]
     },
     "execution_count": 57,
     "metadata": {},
     "output_type": "execute_result"
    }
   ],
   "source": [
    "mean(42)"
   ]
  },
  {
   "cell_type": "code",
   "execution_count": 58,
   "id": "9c3db595-b893-4167-bfbf-2d699048ae63",
   "metadata": {},
   "outputs": [
    {
     "data": {
      "text/plain": [
       "4"
      ]
     },
     "execution_count": 58,
     "metadata": {},
     "output_type": "execute_result"
    }
   ],
   "source": [
    "mean(123456778)"
   ]
  },
  {
   "cell_type": "markdown",
   "id": "89bca94c-d895-49df-bc66-c3d4fff969bb",
   "metadata": {},
   "source": [
    "## Program 132\n",
    "**Create a function that takes an integer and returns a list from 1 to the given number,\n",
    "where:**\n",
    "    \n",
    "1. If the number can be divided evenly by 4, amplify it by 10 (i.e. return 10 times the\n",
    "\n",
    "number).\n",
    "\n",
    "2. If the number cannot be divided evenly by 4, simply return the number.\n",
    "\n",
    "Examples\n",
    "\n",
    "amplify(4) ➞ [1, 2, 3, 40]\n",
    "    \n",
    "amplify(3) ➞ [1, 2, 3]\n",
    "    \n",
    "amplify(25) ➞ [1, 2, 3, 40, 5, 6, 7, 80, 9, 10, 11, 120, 13, 14, 15, 160, 17, 18, 19, 200, 21,\n",
    "22, 23, 240, 25]\n",
    "    \n",
    "Notes\n",
    "\n",
    "The given integer will always be equal to or greater than 1.\n",
    "    \n",
    "Include the number (see example above).\n",
    "\n",
    "To perform this problem with its intended purpose, try doing it with list\n",
    "\n",
    "comprehensions. If that's too difficult, just solve the challenge any way you can.\n"
   ]
  },
  {
   "cell_type": "code",
   "execution_count": 59,
   "id": "058fc399-2641-4fb7-9509-decb240660c0",
   "metadata": {},
   "outputs": [],
   "source": [
    "def amplify (num):\n",
    "    return [n * 10 if n%4 == 0 else n for n in range(1,num+1)]"
   ]
  },
  {
   "cell_type": "code",
   "execution_count": 60,
   "id": "f9cd114d-4ebf-45fc-be98-ad180d40a817",
   "metadata": {},
   "outputs": [
    {
     "data": {
      "text/plain": [
       "[1, 2, 3, 40]"
      ]
     },
     "execution_count": 60,
     "metadata": {},
     "output_type": "execute_result"
    }
   ],
   "source": [
    "amplify(4)"
   ]
  },
  {
   "cell_type": "code",
   "execution_count": 61,
   "id": "9f79e71c-fdba-4292-a1c2-22587d831dfc",
   "metadata": {},
   "outputs": [
    {
     "data": {
      "text/plain": [
       "[1, 2, 3]"
      ]
     },
     "execution_count": 61,
     "metadata": {},
     "output_type": "execute_result"
    }
   ],
   "source": [
    "amplify(3)"
   ]
  },
  {
   "cell_type": "code",
   "execution_count": 62,
   "id": "6d322292-da03-48b7-85fe-08d2bc85ab10",
   "metadata": {},
   "outputs": [
    {
     "data": {
      "text/plain": [
       "[1, 2, 3, 40, 5, 6, 7, 80, 9, 10, 11, 120, 13, 14, 15, 160, 17, 18, 19, 200]"
      ]
     },
     "execution_count": 62,
     "metadata": {},
     "output_type": "execute_result"
    }
   ],
   "source": [
    "amplify(20)"
   ]
  },
  {
   "cell_type": "code",
   "execution_count": 63,
   "id": "b7af8d43-07fb-4efc-8d71-56a50f148446",
   "metadata": {},
   "outputs": [
    {
     "data": {
      "text/plain": [
       "[1,\n",
       " 2,\n",
       " 3,\n",
       " 40,\n",
       " 5,\n",
       " 6,\n",
       " 7,\n",
       " 80,\n",
       " 9,\n",
       " 10,\n",
       " 11,\n",
       " 120,\n",
       " 13,\n",
       " 14,\n",
       " 15,\n",
       " 160,\n",
       " 17,\n",
       " 18,\n",
       " 19,\n",
       " 200,\n",
       " 21,\n",
       " 22,\n",
       " 23,\n",
       " 240,\n",
       " 25]"
      ]
     },
     "execution_count": 63,
     "metadata": {},
     "output_type": "execute_result"
    }
   ],
   "source": [
    "amplify(25)"
   ]
  },
  {
   "cell_type": "markdown",
   "id": "23a0103a-542f-49ce-9333-cee6cac5b4f8",
   "metadata": {},
   "source": [
    "## Program 133\n",
    "**Create a function that takes a list of numbers and return the number that's unique.**\n",
    "\n",
    "Examples\n",
    "\n",
    "unique([3, 3, 3, 7, 3, 3]) ➞ 7\n",
    "\n",
    "unique([0, 0, 0.77, 0, 0]) ➞ 0.77\n",
    "\n",
    "unique([0, 1, 1, 1, 1, 1, 1, 1]) ➞ 0\n",
    "\n",
    "Notes\n",
    "\n",
    "Test cases will always have exactly one unique number while all others are the same."
   ]
  },
  {
   "cell_type": "code",
   "execution_count": 64,
   "id": "a6340c09-6582-400b-8807-e6d0ec5116a7",
   "metadata": {},
   "outputs": [],
   "source": [
    "def unique(numbers):\n",
    "    count_dict = {}\n",
    "    for num in numbers:\n",
    "        if num in count_dict:\n",
    "            count_dict[num] +=1\n",
    "        else:\n",
    "            count_dict[num] =1\n",
    "\n",
    "    for num, count in count_dict.items():\n",
    "        if count ==1:\n",
    "            return num"
   ]
  },
  {
   "cell_type": "code",
   "execution_count": 65,
   "id": "08d57f76-0da9-4d24-b900-eee75c04ab13",
   "metadata": {},
   "outputs": [
    {
     "data": {
      "text/plain": [
       "7"
      ]
     },
     "execution_count": 65,
     "metadata": {},
     "output_type": "execute_result"
    }
   ],
   "source": [
    "unique([3, 3, 3, 7, 3, 3])"
   ]
  },
  {
   "cell_type": "code",
   "execution_count": 66,
   "id": "3b086879-c0b9-4ea5-9e85-8a27df40ad39",
   "metadata": {},
   "outputs": [
    {
     "data": {
      "text/plain": [
       "0.77"
      ]
     },
     "execution_count": 66,
     "metadata": {},
     "output_type": "execute_result"
    }
   ],
   "source": [
    "unique([0, 0, 0.77, 0, 0]) \n"
   ]
  },
  {
   "cell_type": "code",
   "execution_count": 67,
   "id": "6c5b14b0-875a-43df-b687-419d13d5d82b",
   "metadata": {},
   "outputs": [
    {
     "data": {
      "text/plain": [
       "0"
      ]
     },
     "execution_count": 67,
     "metadata": {},
     "output_type": "execute_result"
    }
   ],
   "source": [
    "unique([0, 1, 1, 1, 1, 1, 1, 1])\n"
   ]
  },
  {
   "cell_type": "markdown",
   "id": "982754e1-e27b-4a9b-ad20-ef2acbe52c6c",
   "metadata": {},
   "source": [
    "## Program 134\n",
    "**Your task is to create a Circle constructor that creates a circle with a radius provided\n",
    "by an argument. The circles constructed must have two getters getArea() (PIr^2) and\n",
    "getPerimeter() (2PI*r) which give both respective areas and perimeter\n",
    "(circumference).**\n",
    "\n",
    "**For help with this class, I have provided you with a Rectangle constructor which you\n",
    "can use as a base example.**\n",
    "\n",
    "Examples\n",
    "\n",
    "circy = Circle(11)\n",
    "\n",
    "circy.getArea()\n",
    "\n",
    "Should return 380.132711084365\n",
    "\n",
    "circy = Circle(4.44)\n",
    "\n",
    "circy.getPerimeter()\n",
    "\n",
    "Should return 27.897342763877365\n",
    "\n",
    "Notes\n",
    "\n",
    "Round results up to the nearest integer."
   ]
  },
  {
   "cell_type": "code",
   "execution_count": 72,
   "id": "c74194a1-b305-4c15-9b8e-4030cc54f4b8",
   "metadata": {},
   "outputs": [],
   "source": [
    "import math\n",
    "class circle:\n",
    "    def __init__(self,radius):\n",
    "        self.radius = radius\n",
    "    def getArea(self):\n",
    "        return round(math.pi*self.radius**2)\n",
    "\n",
    "    def getPerimeter(self):\n",
    "        return round(2*math.pi * self.radius)"
   ]
  },
  {
   "cell_type": "code",
   "execution_count": 74,
   "id": "4eb971c2-6c0b-478b-a6c7-49c9fc1d2036",
   "metadata": {},
   "outputs": [
    {
     "name": "stdout",
     "output_type": "stream",
     "text": [
      "380\n",
      "69\n"
     ]
    }
   ],
   "source": [
    "circy = circle(11)\n",
    "print(circy.getArea()) \n",
    "print(circy.getPerimeter())\n"
   ]
  },
  {
   "cell_type": "code",
   "execution_count": 76,
   "id": "978edf88-e2d4-4e95-b493-639864377e06",
   "metadata": {},
   "outputs": [
    {
     "name": "stdout",
     "output_type": "stream",
     "text": [
      "62\n",
      "28\n"
     ]
    }
   ],
   "source": [
    "circy = circle(4.44)\n",
    "print(circy.getArea()) \n",
    "print(circy.getPerimeter())\n"
   ]
  },
  {
   "cell_type": "markdown",
   "id": "6bfda913-d204-4e65-b876-60faa179bff1",
   "metadata": {},
   "source": [
    "## Program 135\n",
    "**Create a function that takes a list of strings and return a list, sorted from shortest to\n",
    "longest.**\n",
    "\n",
    "Examples\n",
    "\n",
    "sort_by_length([\"Google\", \"Apple\", \"Microsoft\"]) ➞ [\"Apple\", \"Google\", \"Microsoft\"]\n",
    "\n",
    "sort_by_length([\"Leonardo\", \"Michelangelo\", \"Raphael\", \"Donatello\"]) ➞ [\"Raphael\",\n",
    "\n",
    "\"Leonardo\", \"Donatello\", \"Michelangelo\"]\n",
    "\n",
    "sort_by_length([\"Turing\", \"Einstein\", \"Jung\"]) ➞ [\"Jung\", \"Turing\", \"Einstein\"]\n",
    "\n",
    "Notes\n",
    "\n",
    "All test cases contain lists with strings of different lengths, so you won't have to deal"
   ]
  },
  {
   "cell_type": "code",
   "execution_count": 79,
   "id": "9eeba08e-9ca0-4dc0-ae79-a14b8f95e39e",
   "metadata": {},
   "outputs": [],
   "source": [
    "def sort_by_length(lst):\n",
    "    return sorted(lst,key =len)"
   ]
  },
  {
   "cell_type": "code",
   "execution_count": 80,
   "id": "662c8265-c38e-49ee-afe4-7a978246d28b",
   "metadata": {},
   "outputs": [
    {
     "data": {
      "text/plain": [
       "['Apple', 'Google', 'Microsoft']"
      ]
     },
     "execution_count": 80,
     "metadata": {},
     "output_type": "execute_result"
    }
   ],
   "source": [
    "sort_by_length([\"Google\", \"Apple\", \"Microsoft\"]) "
   ]
  },
  {
   "cell_type": "code",
   "execution_count": 81,
   "id": "cc385de1-4020-4ff4-84b0-1429855ffb6d",
   "metadata": {},
   "outputs": [
    {
     "data": {
      "text/plain": [
       "['Raphael', 'Leonardo', 'Donatello', 'Michelangelo']"
      ]
     },
     "execution_count": 81,
     "metadata": {},
     "output_type": "execute_result"
    }
   ],
   "source": [
    "sort_by_length([\"Leonardo\", \"Michelangelo\", \"Raphael\", \"Donatello\"])"
   ]
  },
  {
   "cell_type": "code",
   "execution_count": 82,
   "id": "081dcd61-3b5e-44f0-909d-c7567b4ee362",
   "metadata": {},
   "outputs": [
    {
     "data": {
      "text/plain": [
       "['Jung', 'Turing', 'Einstein']"
      ]
     },
     "execution_count": 82,
     "metadata": {},
     "output_type": "execute_result"
    }
   ],
   "source": [
    "sort_by_length([\"Turing\", \"Einstein\", \"Jung\"])"
   ]
  },
  {
   "cell_type": "markdown",
   "id": "a8eb86c6-e023-45f3-b6bb-ec25efb99789",
   "metadata": {},
   "source": [
    "## Program 136\n",
    "**Create a function that validates whether three given integers form a Pythagorean\n",
    "triplet. The sum of the squares of the two smallest integers must equal the square of\n",
    "the largest number to be validated.**\n",
    "\n",
    "Examples\n",
    "\n",
    "is_triplet(3, 4, 5) ➞ True\n",
    "\n",
    "3² + 4² = 25\n",
    "\n",
    "5² = 25\n",
    "\n",
    "is_triplet(13, 5, 12) ➞ True\n",
    "\n",
    "5² + 12² = 169\n",
    "\n",
    "13² = 169\n",
    "\n",
    "is_triplet(1, 2, 3) ➞ False\n",
    "\n",
    "1² + 2² = 5\n",
    "\n",
    "3² = 9\n",
    "\n",
    "Notes\n",
    "\n",
    "Numbers may not be given in a sorted order.\n"
   ]
  },
  {
   "cell_type": "code",
   "execution_count": 85,
   "id": "0103cfc6-c397-42b6-a64b-cc0415b5fba2",
   "metadata": {},
   "outputs": [],
   "source": [
    "def triplet(a,b,c):\n",
    "    sorted_numbers = sorted([a,b,c])\n",
    "    return sorted_numbers[0] ** 2 + sorted_numbers[1] ** 2 == sorted_numbers"
   ]
  },
  {
   "cell_type": "code",
   "execution_count": 86,
   "id": "b86437f1-73b1-408d-82c9-0c9a98f3ae83",
   "metadata": {},
   "outputs": [
    {
     "data": {
      "text/plain": [
       "False"
      ]
     },
     "execution_count": 86,
     "metadata": {},
     "output_type": "execute_result"
    }
   ],
   "source": [
    "triplet(3, 4, 5)"
   ]
  },
  {
   "cell_type": "code",
   "execution_count": 87,
   "id": "7ab6bd50-2b01-46e5-bd16-f55d959effcb",
   "metadata": {},
   "outputs": [
    {
     "data": {
      "text/plain": [
       "False"
      ]
     },
     "execution_count": 87,
     "metadata": {},
     "output_type": "execute_result"
    }
   ],
   "source": [
    "triplet(13, 5, 12) "
   ]
  },
  {
   "cell_type": "code",
   "execution_count": 88,
   "id": "d61ae0f1-baf8-4fa1-9cb4-00fe474da2e8",
   "metadata": {},
   "outputs": [
    {
     "data": {
      "text/plain": [
       "False"
      ]
     },
     "execution_count": 88,
     "metadata": {},
     "output_type": "execute_result"
    }
   ],
   "source": [
    "triplet(1, 2, 3)"
   ]
  },
  {
   "cell_type": "markdown",
   "id": "f3db6c7e-f393-4c98-be7b-8cf59cdc5fe6",
   "metadata": {},
   "source": [
    "## Program 137\n",
    "**Create a function that takes three integer arguments (a, b, c) and returns the amount\n",
    "of integers which are of equal value.**\n",
    "\n",
    "Examples\n",
    "\n",
    "equal(3, 4, 3) ➞ 2\n",
    "\n",
    "equal(1, 1, 1) ➞ 3\n",
    "\n",
    "equal(3, 4, 1) ➞ 0\n",
    "\n",
    "Notes\n",
    "\n",
    "Your function must return 0, 2 or 3"
   ]
  },
  {
   "cell_type": "code",
   "execution_count": 89,
   "id": "353c7860-62e4-4563-b8af-285a80164277",
   "metadata": {},
   "outputs": [],
   "source": [
    "def equal(a,b,c):\n",
    "    if a==b==c:\n",
    "        return 3\n",
    "    elif a==b or b==c or a==c:\n",
    "        return 2\n",
    "    else:\n",
    "        return 0"
   ]
  },
  {
   "cell_type": "code",
   "execution_count": 90,
   "id": "6fc0fda6-a20b-4c8d-81ca-ceff9a970b1d",
   "metadata": {},
   "outputs": [
    {
     "data": {
      "text/plain": [
       "2"
      ]
     },
     "execution_count": 90,
     "metadata": {},
     "output_type": "execute_result"
    }
   ],
   "source": [
    "equal(3, 4, 3)\n"
   ]
  },
  {
   "cell_type": "code",
   "execution_count": 91,
   "id": "3a45e988-59ec-4428-89a3-6db3b1f18505",
   "metadata": {},
   "outputs": [
    {
     "data": {
      "text/plain": [
       "3"
      ]
     },
     "execution_count": 91,
     "metadata": {},
     "output_type": "execute_result"
    }
   ],
   "source": [
    "equal(1, 1, 1) "
   ]
  },
  {
   "cell_type": "code",
   "execution_count": 92,
   "id": "918ff949-62d7-4d14-a818-301cbfd7ee08",
   "metadata": {},
   "outputs": [
    {
     "data": {
      "text/plain": [
       "0"
      ]
     },
     "execution_count": 92,
     "metadata": {},
     "output_type": "execute_result"
    }
   ],
   "source": [
    "equal(3, 4, 1)"
   ]
  },
  {
   "cell_type": "markdown",
   "id": "ec210b02-2466-475c-928e-ddcb415b3ee6",
   "metadata": {},
   "source": [
    "## Program 138\n",
    "**Write a function that converts a dictionary into a list of keys-values tuples.**\n",
    "    \n",
    "Examples\n",
    "    \n",
    "dict_to_list({\n",
    "    \n",
    "\"D\": 1,\n",
    "\n",
    "\"B\": 2\n",
    "    \n",
    "\"C\": 3\n",
    "    \n",
    "}) ➞ [(\"B\", 2), (\"C\", 3), (\"D\", 1)]\n",
    "    \n",
    "dict_to_list({\n",
    "    \n",
    "\"likes\": 2,\n",
    "    \n",
    "\"dislikes\": 3,\n",
    "    \n",
    "\"followers\": 10\n",
    "    \n",
    "}) ➞ [(\"dislikes\", 3), (\"followers\", 10), (\"likes\", 2)]\n",
    "    \n",
    "Notes\n",
    "    \n",
    "Return the elements in the list in alphabetical order.\n"
   ]
  },
  {
   "cell_type": "code",
   "execution_count": 93,
   "id": "fbe06c23-67d6-469f-ae74-4072e014b975",
   "metadata": {},
   "outputs": [],
   "source": [
    "def  dict_to_list(input_dict):\n",
    "    sorted_dict = sorted(input_dict.items())\n",
    "\n",
    "    result = [(key , value) for key, value in sorted_dict]\n",
    "    return result"
   ]
  },
  {
   "cell_type": "code",
   "execution_count": 94,
   "id": "d209a56a-1f67-4598-aba3-41bf1905dfe4",
   "metadata": {},
   "outputs": [
    {
     "data": {
      "text/plain": [
       "[('B', 2), ('C', 3), ('D', 1)]"
      ]
     },
     "execution_count": 94,
     "metadata": {},
     "output_type": "execute_result"
    }
   ],
   "source": [
    "dict_to_list({\n",
    " \"D\": 1, \n",
    " \"B\": 2, \n",
    " \"C\": 3\n",
    "})"
   ]
  },
  {
   "cell_type": "code",
   "execution_count": 95,
   "id": "a00815a1-2169-4b7c-8303-8465648f9674",
   "metadata": {},
   "outputs": [
    {
     "data": {
      "text/plain": [
       "[('dislikes', 3), ('followers', 10), ('likes', 2)]"
      ]
     },
     "execution_count": 95,
     "metadata": {},
     "output_type": "execute_result"
    }
   ],
   "source": [
    "dict_to_list({\n",
    "\"likes\": 2,\n",
    "\"dislikes\": 3,\n",
    "\"followers\": 10\n",
    "})"
   ]
  },
  {
   "cell_type": "markdown",
   "id": "86645bbc-ad84-4c09-a6b6-bed5e16e847d",
   "metadata": {},
   "source": [
    "## Program 139\n",
    "**Write a function that creates a dictionary with each (key, value) pair being the (lower\n",
    "case, upper case) versions of a letter, respectively.**\n",
    "\n",
    "Examples\n",
    "\n",
    "mapping([\"p\", \"s\"]) ➞ { \"p\": \"P\", \"s\": \"S\" }\n",
    "\n",
    "mapping([\"a\", \"b\", \"c\"]) ➞ { \"a\": \"A\", \"b\": \"B\", \"c\": \"C\" }\n",
    "\n",
    "mapping([\"a\", \"v\", \"y\", \"z\"]) ➞ { \"a\": \"A\", \"v\": \"V\", \"y\": \"Y\", \"z\": \"Z\" }\n",
    "\n",
    "Notes\n",
    "\n",
    "All of the letters in the input list will always be lowercase.\n"
   ]
  },
  {
   "cell_type": "code",
   "execution_count": 96,
   "id": "5b8f5bf0-80c4-482c-97c3-24b81b86dd7d",
   "metadata": {},
   "outputs": [],
   "source": [
    "def mapping(letters):\n",
    "    result = {}\n",
    "    for letter in letters :\n",
    "        result[letter] = letter.upper()\n",
    "    return result"
   ]
  },
  {
   "cell_type": "code",
   "execution_count": 97,
   "id": "70b637a2-2728-4722-9590-71f596315e0c",
   "metadata": {},
   "outputs": [
    {
     "data": {
      "text/plain": [
       "{'p': 'P', 's': 'S'}"
      ]
     },
     "execution_count": 97,
     "metadata": {},
     "output_type": "execute_result"
    }
   ],
   "source": [
    "mapping([\"p\", \"s\"]) \n"
   ]
  },
  {
   "cell_type": "code",
   "execution_count": 98,
   "id": "6ef2b140-5802-4bf9-91a8-598b68908674",
   "metadata": {},
   "outputs": [
    {
     "data": {
      "text/plain": [
       "{'a': 'A', 'b': 'B', 'c': 'C'}"
      ]
     },
     "execution_count": 98,
     "metadata": {},
     "output_type": "execute_result"
    }
   ],
   "source": [
    "mapping([\"a\", \"b\", \"c\"])"
   ]
  },
  {
   "cell_type": "code",
   "execution_count": 99,
   "id": "a6f1034a-a9ca-46fc-82e2-3357f4e71db2",
   "metadata": {},
   "outputs": [
    {
     "data": {
      "text/plain": [
       "{'a': 'A', 'v': 'V', 'y': 'Y', 'z': 'Z'}"
      ]
     },
     "execution_count": 99,
     "metadata": {},
     "output_type": "execute_result"
    }
   ],
   "source": [
    "mapping([\"a\", \"v\", \"y\", \"z\"]) "
   ]
  },
  {
   "cell_type": "markdown",
   "id": "5eae7838-29a9-4cd4-8b34-65c43a8a0d50",
   "metadata": {},
   "source": [
    "## Program 140\n",
    "**Write a function, that replaces all vowels in a string with a specified vowel.**\n",
    "\n",
    "Examples\n",
    "\n",
    "vow_replace(\"apples and bananas\", \"u\") ➞ \"upplus und bununus\"\n",
    "\n",
    "vow_replace(\"cheese casserole\", \"o\") ➞ \"chooso cossorolo\"\n",
    "\n",
    "vow_replace(\"stuffed jalapeno poppers\", \"e\") ➞ \"steffed jelepene peppers\"\n",
    "\n",
    "Notes\n",
    "\n",
    "All words will be lowercase. Y is not considered a vowel."
   ]
  },
  {
   "cell_type": "code",
   "execution_count": 100,
   "id": "34d09344-6667-4adf-a738-b36f134d09f8",
   "metadata": {},
   "outputs": [],
   "source": [
    "def vowel_replace(string,vowel):\n",
    "    vowels = 'aeiou'\n",
    "    result=''\n",
    "    for char in string:\n",
    "        if char in vowels:\n",
    "            result +=vowel\n",
    "        else:\n",
    "            result+= char\n",
    "\n",
    "    return result"
   ]
  },
  {
   "cell_type": "code",
   "execution_count": 102,
   "id": "1bcc8735-b205-45af-9972-03b4bf8606df",
   "metadata": {},
   "outputs": [
    {
     "data": {
      "text/plain": [
       "'upplus und bununus'"
      ]
     },
     "execution_count": 102,
     "metadata": {},
     "output_type": "execute_result"
    }
   ],
   "source": [
    "vowel_replace(\"apples and bananas\", \"u\")"
   ]
  },
  {
   "cell_type": "code",
   "execution_count": 103,
   "id": "ec761d36-b410-431f-b70d-18a205b824a2",
   "metadata": {},
   "outputs": [
    {
     "data": {
      "text/plain": [
       "'chooso cossorolo'"
      ]
     },
     "execution_count": 103,
     "metadata": {},
     "output_type": "execute_result"
    }
   ],
   "source": [
    "vowel_replace(\"cheese casserole\", \"o\")\n"
   ]
  },
  {
   "cell_type": "code",
   "execution_count": 104,
   "id": "7c09a80d-ef6a-45b8-864e-72188783b74c",
   "metadata": {},
   "outputs": [
    {
     "data": {
      "text/plain": [
       "'steffed jelepene peppers'"
      ]
     },
     "execution_count": 104,
     "metadata": {},
     "output_type": "execute_result"
    }
   ],
   "source": [
    "vowel_replace(\"stuffed jalapeno poppers\", \"e\") \n"
   ]
  },
  {
   "cell_type": "markdown",
   "id": "2c3c3047-36ad-4bbf-a5b0-33e6a94b1662",
   "metadata": {},
   "source": [
    "## Program 141\n",
    "\n",
    "**Create a function that takes a string as input and capitalizes a letter if its ASCII code\n",
    "is even and returns its lower case version if its ASCII code is odd.**\n",
    "    \n",
    "Examples\n",
    "    \n",
    "ascii_capitalize(\"to be or not to be!\") ➞ \"To Be oR NoT To Be!\"\n",
    "    \n",
    "ascii_capitalize(\"THE LITTLE MERMAID\") ➞ \"THe LiTTLe meRmaiD\"\n",
    "    \n",
    "ascii_capitalize(\"Oh what a beautiful morning.\") ➞ \"oH wHaT a BeauTiFuL\n",
    "    \n",
    "moRNiNg.\"\n"
   ]
  },
  {
   "cell_type": "code",
   "execution_count": 105,
   "id": "8f983528-8bc9-4e04-96fb-9906f9705816",
   "metadata": {},
   "outputs": [],
   "source": [
    "def ascii_capitalize(input_str):\n",
    "    result = \"\"\n",
    "\n",
    "    for char in input_str:\n",
    "        if ord(char) %2 ==0:\n",
    "            result +=char.upper()\n",
    "        else:\n",
    "            result += char.lower()\n",
    "    return result"
   ]
  },
  {
   "cell_type": "code",
   "execution_count": 106,
   "id": "4bcc6491-183c-4001-be7d-88a4ae1748cd",
   "metadata": {},
   "outputs": [
    {
     "data": {
      "text/plain": [
       "'To Be oR NoT To Be!'"
      ]
     },
     "execution_count": 106,
     "metadata": {},
     "output_type": "execute_result"
    }
   ],
   "source": [
    "ascii_capitalize(\"to be or not to be!\") "
   ]
  },
  {
   "cell_type": "code",
   "execution_count": 107,
   "id": "de0474f5-a26f-4e36-ac3a-e931ec68ed69",
   "metadata": {},
   "outputs": [
    {
     "data": {
      "text/plain": [
       "'THe LiTTLe meRmaiD'"
      ]
     },
     "execution_count": 107,
     "metadata": {},
     "output_type": "execute_result"
    }
   ],
   "source": [
    "ascii_capitalize(\"THE LITTLE MERMAID\") \n"
   ]
  },
  {
   "cell_type": "code",
   "execution_count": 108,
   "id": "498345c4-c833-4e04-8b45-65987c29dd55",
   "metadata": {},
   "outputs": [
    {
     "data": {
      "text/plain": [
       "'oH wHaT a BeauTiFuL moRNiNg.'"
      ]
     },
     "execution_count": 108,
     "metadata": {},
     "output_type": "execute_result"
    }
   ],
   "source": [
    "ascii_capitalize(\"Oh what a beautiful morning.\") "
   ]
  },
  {
   "cell_type": "code",
   "execution_count": null,
   "id": "ee1398a5-6766-4086-83f7-730300a85ee6",
   "metadata": {},
   "outputs": [],
   "source": []
  },
  {
   "cell_type": "code",
   "execution_count": null,
   "id": "b3f28986-dd4f-4b3f-ba6e-70e42faf901e",
   "metadata": {},
   "outputs": [],
   "source": []
  },
  {
   "cell_type": "code",
   "execution_count": null,
   "id": "2deb4736-1b88-4e22-acc8-add1c9266510",
   "metadata": {},
   "outputs": [],
   "source": []
  },
  {
   "cell_type": "code",
   "execution_count": null,
   "id": "be8141af-d1a0-4f90-ba22-f20f87ad8578",
   "metadata": {},
   "outputs": [],
   "source": []
  },
  {
   "cell_type": "code",
   "execution_count": null,
   "id": "308ae79a-661a-46f8-986d-b9cea39efbe4",
   "metadata": {},
   "outputs": [],
   "source": [
    "\n",
    "\n"
   ]
  },
  {
   "cell_type": "code",
   "execution_count": 19,
   "id": "ac58826a-2f2d-4ac0-8bc9-9efb711eaab5",
   "metadata": {},
   "outputs": [],
   "source": [
    "import numpy as np\n",
    "arr=[34455,'deepek']\n",
    "a=np.array(arr)"
   ]
  },
  {
   "cell_type": "code",
   "execution_count": 20,
   "id": "fe630764-40e8-4a8d-9635-51e2b5e711f5",
   "metadata": {},
   "outputs": [
    {
     "data": {
      "text/plain": [
       "numpy.ndarray"
      ]
     },
     "execution_count": 20,
     "metadata": {},
     "output_type": "execute_result"
    }
   ],
   "source": [
    "type(a)"
   ]
  },
  {
   "cell_type": "code",
   "execution_count": 59,
   "id": "c4dd3def-0c86-4a9d-b273-d2fa0129241a",
   "metadata": {},
   "outputs": [
    {
     "data": {
      "text/plain": [
       "[4, 9, 16, 25]"
      ]
     },
     "execution_count": 59,
     "metadata": {},
     "output_type": "execute_result"
    }
   ],
   "source": [
    "l1=[2,3,4,5]\n",
    "l2 = [x**2 for x in l1]\n",
    "l2"
   ]
  },
  {
   "cell_type": "code",
   "execution_count": 61,
   "id": "f1a153c9-f839-4f7c-9b70-12e73beb5ea5",
   "metadata": {},
   "outputs": [
    {
     "data": {
      "text/plain": [
       "14"
      ]
     },
     "execution_count": 61,
     "metadata": {},
     "output_type": "execute_result"
    }
   ],
   "source": []
  },
  {
   "cell_type": "code",
   "execution_count": 16,
   "id": "e08166ea-becd-4fe3-8c8f-ef071b798d21",
   "metadata": {},
   "outputs": [],
   "source": [
    "d1={'a':100,'b':200,'c':300}\n",
    "d2={'a':300,'b':200,'d':400}"
   ]
  },
  {
   "cell_type": "code",
   "execution_count": 28,
   "id": "4dc60bdf-2afa-470f-80cb-618f4e1e4675",
   "metadata": {},
   "outputs": [
    {
     "data": {
      "text/plain": [
       "{'a': 400, 'b': 400, 'c': 700}"
      ]
     },
     "execution_count": 28,
     "metadata": {},
     "output_type": "execute_result"
    }
   ],
   "source": [
    "for i in range(min(len(d1),len(d2))):\n",
    "    d1[list(d1.keys())[i]]+=d2[list(d2.keys())[i]]\n",
    "d1"
   ]
  },
  {
   "cell_type": "code",
   "execution_count": 29,
   "id": "c6d18f8e-eba0-497d-b7cf-71d181eea4d5",
   "metadata": {},
   "outputs": [
    {
     "name": "stdout",
     "output_type": "stream",
     "text": [
      "{'a': 400, 'c': 300, 'b': 1100, 'd': 400}\n"
     ]
    }
   ],
   "source": [
    "d1 = {'a': 100, 'c': 300,'b':900}\n",
    "d2 = {'a': 300, 'b': 200, 'd': 400}\n",
    "\n",
    "res = {}\n",
    "\n",
    "\n",
    "for key, value in d1.items():\n",
    "    res[key] = value\n",
    "\n",
    "\n",
    "for key, value in d2.items():\n",
    "    if key in res:\n",
    "        res[key] += value\n",
    "    else:\n",
    "        res[key] = value\n",
    "\n",
    "print(res)\n"
   ]
  },
  {
   "cell_type": "code",
   "execution_count": null,
   "id": "a8d6610b-5105-4bf3-a7f5-be277d39e18a",
   "metadata": {},
   "outputs": [],
   "source": []
  },
  {
   "cell_type": "code",
   "execution_count": null,
   "id": "9f289901-79b0-4f8f-a086-73e3233d121e",
   "metadata": {},
   "outputs": [],
   "source": []
  }
 ],
 "metadata": {
  "kernelspec": {
   "display_name": "Python 3 (ipykernel)",
   "language": "python",
   "name": "python3"
  },
  "language_info": {
   "codemirror_mode": {
    "name": "ipython",
    "version": 3
   },
   "file_extension": ".py",
   "mimetype": "text/x-python",
   "name": "python",
   "nbconvert_exporter": "python",
   "pygments_lexer": "ipython3",
   "version": "3.11.7"
  }
 },
 "nbformat": 4,
 "nbformat_minor": 5
}
